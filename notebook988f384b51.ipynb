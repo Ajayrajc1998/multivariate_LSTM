{
  "metadata": {
    "kernelspec": {
      "language": "python",
      "display_name": "Python 3",
      "name": "python3"
    },
    "language_info": {
      "name": "python",
      "version": "3.10.14",
      "mimetype": "text/x-python",
      "codemirror_mode": {
        "name": "ipython",
        "version": 3
      },
      "pygments_lexer": "ipython3",
      "nbconvert_exporter": "python",
      "file_extension": ".py"
    },
    "kaggle": {
      "accelerator": "none",
      "dataSources": [
        {
          "sourceId": 2179861,
          "sourceType": "datasetVersion",
          "datasetId": 423609
        }
      ],
      "dockerImageVersionId": 30786,
      "isInternetEnabled": false,
      "language": "python",
      "sourceType": "notebook",
      "isGpuEnabled": false
    },
    "colab": {
      "name": "notebook988f384b51",
      "provenance": [],
      "include_colab_link": true
    }
  },
  "nbformat_minor": 0,
  "nbformat": 4,
  "cells": [
    {
      "cell_type": "markdown",
      "metadata": {
        "id": "view-in-github",
        "colab_type": "text"
      },
      "source": [
        "<a href=\"https://colab.research.google.com/github/Ajayrajc1998/multivariate_LSTM/blob/main/notebook988f384b51.ipynb\" target=\"_parent\"><img src=\"https://colab.research.google.com/assets/colab-badge.svg\" alt=\"Open In Colab\"/></a>"
      ]
    },
    {
      "source": [
        "# IMPORTANT: RUN THIS CELL IN ORDER TO IMPORT YOUR KAGGLE DATA SOURCES,\n",
        "# THEN FEEL FREE TO DELETE THIS CELL.\n",
        "# NOTE: THIS NOTEBOOK ENVIRONMENT DIFFERS FROM KAGGLE'S PYTHON\n",
        "# ENVIRONMENT SO THERE MAY BE MISSING LIBRARIES USED BY YOUR\n",
        "# NOTEBOOK.\n",
        "import kagglehub\n",
        "rohanrao_nifty50_stock_market_data_path = kagglehub.dataset_download('rohanrao/nifty50-stock-market-data')\n",
        "\n",
        "print('Data source import complete.')\n"
      ],
      "metadata": {
        "id": "wIbLYgZwm4qU"
      },
      "cell_type": "code",
      "outputs": [],
      "execution_count": null
    },
    {
      "cell_type": "code",
      "source": [
        "# This Python 3 environment comes with many helpful analytics libraries installed\n",
        "# It is defined by the kaggle/python Docker image: https://github.com/kaggle/docker-python\n",
        "# For example, here's several helpful packages to load\n",
        "\n",
        "import numpy as np # linear algebra\n",
        "import pandas as pd # data processing, CSV file I/O (e.g. pd.read_csv)\n",
        "\n",
        "# Input data files are available in the read-only \"../input/\" directory\n",
        "# For example, running this (by clicking run or pressing Shift+Enter) will list all files under the input directory\n",
        "\n",
        "import os\n",
        "for dirname, _, filenames in os.walk('/kaggle/input'):\n",
        "    for filename in filenames:\n",
        "        print(os.path.join(dirname, filename))\n",
        "\n",
        "# You can write up to 20GB to the current directory (/kaggle/working/) that gets preserved as output when you create a version using \"Save & Run All\"\n",
        "# You can also write temporary files to /kaggle/temp/, but they won't be saved outside of the current session"
      ],
      "metadata": {
        "_uuid": "8f2839f25d086af736a60e9eeb907d3b93b6e0e5",
        "_cell_guid": "b1076dfc-b9ad-4769-8c92-a6c4dae69d19",
        "trusted": true,
        "execution": {
          "iopub.status.busy": "2024-11-20T12:08:09.541408Z",
          "iopub.execute_input": "2024-11-20T12:08:09.542508Z",
          "iopub.status.idle": "2024-11-20T12:08:10.072184Z",
          "shell.execute_reply.started": "2024-11-20T12:08:09.542451Z",
          "shell.execute_reply": "2024-11-20T12:08:10.070957Z"
        },
        "id": "MtXQqe6Qm4qW",
        "outputId": "1e67f8d9-f9dc-4a65-e715-1acb5e08f4c7"
      },
      "outputs": [
        {
          "name": "stdout",
          "text": "/kaggle/input/nifty50-stock-market-data/HDFCBANK.csv\n/kaggle/input/nifty50-stock-market-data/GRASIM.csv\n/kaggle/input/nifty50-stock-market-data/WIPRO.csv\n/kaggle/input/nifty50-stock-market-data/stock_metadata.csv\n/kaggle/input/nifty50-stock-market-data/BPCL.csv\n/kaggle/input/nifty50-stock-market-data/INFY.csv\n/kaggle/input/nifty50-stock-market-data/LT.csv\n/kaggle/input/nifty50-stock-market-data/RELIANCE.csv\n/kaggle/input/nifty50-stock-market-data/BRITANNIA.csv\n/kaggle/input/nifty50-stock-market-data/INFRATEL.csv\n/kaggle/input/nifty50-stock-market-data/HEROMOTOCO.csv\n/kaggle/input/nifty50-stock-market-data/HINDUNILVR.csv\n/kaggle/input/nifty50-stock-market-data/TATAMOTORS.csv\n/kaggle/input/nifty50-stock-market-data/MM.csv\n/kaggle/input/nifty50-stock-market-data/HDFC.csv\n/kaggle/input/nifty50-stock-market-data/JSWSTEEL.csv\n/kaggle/input/nifty50-stock-market-data/TITAN.csv\n/kaggle/input/nifty50-stock-market-data/HINDALCO.csv\n/kaggle/input/nifty50-stock-market-data/AXISBANK.csv\n/kaggle/input/nifty50-stock-market-data/HCLTECH.csv\n/kaggle/input/nifty50-stock-market-data/ADANIPORTS.csv\n/kaggle/input/nifty50-stock-market-data/GAIL.csv\n/kaggle/input/nifty50-stock-market-data/NIFTY50_all.csv\n/kaggle/input/nifty50-stock-market-data/BAJAJFINSV.csv\n/kaggle/input/nifty50-stock-market-data/BAJFINANCE.csv\n/kaggle/input/nifty50-stock-market-data/ICICIBANK.csv\n/kaggle/input/nifty50-stock-market-data/ZEEL.csv\n/kaggle/input/nifty50-stock-market-data/ASIANPAINT.csv\n/kaggle/input/nifty50-stock-market-data/IOC.csv\n/kaggle/input/nifty50-stock-market-data/TATASTEEL.csv\n/kaggle/input/nifty50-stock-market-data/COALINDIA.csv\n/kaggle/input/nifty50-stock-market-data/NESTLEIND.csv\n/kaggle/input/nifty50-stock-market-data/DRREDDY.csv\n/kaggle/input/nifty50-stock-market-data/ONGC.csv\n/kaggle/input/nifty50-stock-market-data/EICHERMOT.csv\n/kaggle/input/nifty50-stock-market-data/UPL.csv\n/kaggle/input/nifty50-stock-market-data/SUNPHARMA.csv\n/kaggle/input/nifty50-stock-market-data/ULTRACEMCO.csv\n/kaggle/input/nifty50-stock-market-data/CIPLA.csv\n/kaggle/input/nifty50-stock-market-data/SHREECEM.csv\n/kaggle/input/nifty50-stock-market-data/VEDL.csv\n/kaggle/input/nifty50-stock-market-data/TCS.csv\n/kaggle/input/nifty50-stock-market-data/NTPC.csv\n/kaggle/input/nifty50-stock-market-data/MARUTI.csv\n/kaggle/input/nifty50-stock-market-data/KOTAKBANK.csv\n/kaggle/input/nifty50-stock-market-data/ITC.csv\n/kaggle/input/nifty50-stock-market-data/BAJAJ-AUTO.csv\n/kaggle/input/nifty50-stock-market-data/SBIN.csv\n/kaggle/input/nifty50-stock-market-data/INDUSINDBK.csv\n/kaggle/input/nifty50-stock-market-data/BHARTIARTL.csv\n/kaggle/input/nifty50-stock-market-data/TECHM.csv\n/kaggle/input/nifty50-stock-market-data/POWERGRID.csv\n",
          "output_type": "stream"
        }
      ],
      "execution_count": null
    },
    {
      "cell_type": "code",
      "source": [
        "import kagglehub\n",
        "\n",
        "# Download latest version\n",
        "path = kagglehub.dataset_download(\"rohanrao/nifty50-stock-market-data\")\n",
        "\n",
        "print(\"Path to dataset files:\", path)"
      ],
      "metadata": {
        "trusted": true,
        "execution": {
          "iopub.status.busy": "2024-11-20T07:20:30.227174Z",
          "iopub.execute_input": "2024-11-20T07:20:30.227559Z",
          "iopub.status.idle": "2024-11-20T07:20:30.910181Z",
          "shell.execute_reply.started": "2024-11-20T07:20:30.227523Z",
          "shell.execute_reply": "2024-11-20T07:20:30.908952Z"
        },
        "id": "LoP8T1LWm4qX",
        "outputId": "c931d660-f349-46bf-d767-f832d10e1cec"
      },
      "outputs": [
        {
          "name": "stdout",
          "text": "Path to dataset files: /kaggle/input/nifty50-stock-market-data\n",
          "output_type": "stream"
        }
      ],
      "execution_count": null
    },
    {
      "cell_type": "code",
      "source": [
        "import pandas as pd\n",
        "df=pd.read_csv('/kaggle/input/nifty50-stock-market-data/BAJAJ-AUTO.csv')\n",
        "df.head()"
      ],
      "metadata": {
        "trusted": true,
        "execution": {
          "iopub.status.busy": "2024-11-20T12:08:23.475023Z",
          "iopub.execute_input": "2024-11-20T12:08:23.475556Z",
          "iopub.status.idle": "2024-11-20T12:08:23.532985Z",
          "shell.execute_reply.started": "2024-11-20T12:08:23.475519Z",
          "shell.execute_reply": "2024-11-20T12:08:23.53195Z"
        },
        "id": "KXgQWJjam4qX",
        "outputId": "6bd4063d-a403-442f-dfa5-3a2a222c31b1"
      },
      "outputs": [
        {
          "execution_count": 3,
          "output_type": "execute_result",
          "data": {
            "text/plain": "         Date      Symbol Series  Prev Close    Open   High     Low    Last  \\\n0  2008-05-26  BAJAJ-AUTO     EQ     2101.05  898.00  898.0  551.35  600.25   \n1  2008-05-27  BAJAJ-AUTO     EQ      604.75  624.70  639.0  580.30  595.50   \n2  2008-05-28  BAJAJ-AUTO     EQ      593.15  561.65  621.9  561.65  605.10   \n3  2008-05-29  BAJAJ-AUTO     EQ      608.15  619.40  619.4  576.00  600.00   \n4  2008-05-30  BAJAJ-AUTO     EQ      599.45  605.40  607.0  538.00  576.25   \n\n    Close    VWAP   Volume      Turnover  Trades  Deliverable Volume  \\\n0  604.75  624.61  3972485  2.481245e+14     NaN             1202933   \n1  593.15  606.43  1751063  1.061901e+14     NaN              369389   \n2  608.15  608.75  1652355  1.005877e+14     NaN              898602   \n3  599.45  600.98   669269  4.022165e+13     NaN              449951   \n4  571.70  565.55  1262117  7.137937e+13     NaN              936432   \n\n   %Deliverble  \n0       0.3028  \n1       0.2110  \n2       0.5438  \n3       0.6723  \n4       0.7420  ",
            "text/html": "<div>\n<style scoped>\n    .dataframe tbody tr th:only-of-type {\n        vertical-align: middle;\n    }\n\n    .dataframe tbody tr th {\n        vertical-align: top;\n    }\n\n    .dataframe thead th {\n        text-align: right;\n    }\n</style>\n<table border=\"1\" class=\"dataframe\">\n  <thead>\n    <tr style=\"text-align: right;\">\n      <th></th>\n      <th>Date</th>\n      <th>Symbol</th>\n      <th>Series</th>\n      <th>Prev Close</th>\n      <th>Open</th>\n      <th>High</th>\n      <th>Low</th>\n      <th>Last</th>\n      <th>Close</th>\n      <th>VWAP</th>\n      <th>Volume</th>\n      <th>Turnover</th>\n      <th>Trades</th>\n      <th>Deliverable Volume</th>\n      <th>%Deliverble</th>\n    </tr>\n  </thead>\n  <tbody>\n    <tr>\n      <th>0</th>\n      <td>2008-05-26</td>\n      <td>BAJAJ-AUTO</td>\n      <td>EQ</td>\n      <td>2101.05</td>\n      <td>898.00</td>\n      <td>898.0</td>\n      <td>551.35</td>\n      <td>600.25</td>\n      <td>604.75</td>\n      <td>624.61</td>\n      <td>3972485</td>\n      <td>2.481245e+14</td>\n      <td>NaN</td>\n      <td>1202933</td>\n      <td>0.3028</td>\n    </tr>\n    <tr>\n      <th>1</th>\n      <td>2008-05-27</td>\n      <td>BAJAJ-AUTO</td>\n      <td>EQ</td>\n      <td>604.75</td>\n      <td>624.70</td>\n      <td>639.0</td>\n      <td>580.30</td>\n      <td>595.50</td>\n      <td>593.15</td>\n      <td>606.43</td>\n      <td>1751063</td>\n      <td>1.061901e+14</td>\n      <td>NaN</td>\n      <td>369389</td>\n      <td>0.2110</td>\n    </tr>\n    <tr>\n      <th>2</th>\n      <td>2008-05-28</td>\n      <td>BAJAJ-AUTO</td>\n      <td>EQ</td>\n      <td>593.15</td>\n      <td>561.65</td>\n      <td>621.9</td>\n      <td>561.65</td>\n      <td>605.10</td>\n      <td>608.15</td>\n      <td>608.75</td>\n      <td>1652355</td>\n      <td>1.005877e+14</td>\n      <td>NaN</td>\n      <td>898602</td>\n      <td>0.5438</td>\n    </tr>\n    <tr>\n      <th>3</th>\n      <td>2008-05-29</td>\n      <td>BAJAJ-AUTO</td>\n      <td>EQ</td>\n      <td>608.15</td>\n      <td>619.40</td>\n      <td>619.4</td>\n      <td>576.00</td>\n      <td>600.00</td>\n      <td>599.45</td>\n      <td>600.98</td>\n      <td>669269</td>\n      <td>4.022165e+13</td>\n      <td>NaN</td>\n      <td>449951</td>\n      <td>0.6723</td>\n    </tr>\n    <tr>\n      <th>4</th>\n      <td>2008-05-30</td>\n      <td>BAJAJ-AUTO</td>\n      <td>EQ</td>\n      <td>599.45</td>\n      <td>605.40</td>\n      <td>607.0</td>\n      <td>538.00</td>\n      <td>576.25</td>\n      <td>571.70</td>\n      <td>565.55</td>\n      <td>1262117</td>\n      <td>7.137937e+13</td>\n      <td>NaN</td>\n      <td>936432</td>\n      <td>0.7420</td>\n    </tr>\n  </tbody>\n</table>\n</div>"
          },
          "metadata": {}
        }
      ],
      "execution_count": null
    },
    {
      "cell_type": "code",
      "source": [
        "df.info()"
      ],
      "metadata": {
        "trusted": true,
        "execution": {
          "iopub.status.busy": "2024-11-20T07:21:11.542254Z",
          "iopub.execute_input": "2024-11-20T07:21:11.54265Z",
          "iopub.status.idle": "2024-11-20T07:21:11.573735Z",
          "shell.execute_reply.started": "2024-11-20T07:21:11.542612Z",
          "shell.execute_reply": "2024-11-20T07:21:11.572742Z"
        },
        "id": "akvZ8-Nnm4qY",
        "outputId": "5c8f1c80-e1b7-4a1e-bc45-199226fc9dbc"
      },
      "outputs": [
        {
          "name": "stdout",
          "text": "<class 'pandas.core.frame.DataFrame'>\nRangeIndex: 3202 entries, 0 to 3201\nData columns (total 15 columns):\n #   Column              Non-Null Count  Dtype  \n---  ------              --------------  -----  \n 0   Date                3202 non-null   object \n 1   Symbol              3202 non-null   object \n 2   Series              3202 non-null   object \n 3   Prev Close          3202 non-null   float64\n 4   Open                3202 non-null   float64\n 5   High                3202 non-null   float64\n 6   Low                 3202 non-null   float64\n 7   Last                3202 non-null   float64\n 8   Close               3202 non-null   float64\n 9   VWAP                3202 non-null   float64\n 10  Volume              3202 non-null   int64  \n 11  Turnover            3202 non-null   float64\n 12  Trades              2456 non-null   float64\n 13  Deliverable Volume  3202 non-null   int64  \n 14  %Deliverble         3202 non-null   float64\ndtypes: float64(10), int64(2), object(3)\nmemory usage: 375.4+ KB\n",
          "output_type": "stream"
        }
      ],
      "execution_count": null
    },
    {
      "cell_type": "code",
      "source": [
        "df.isnull().sum()"
      ],
      "metadata": {
        "trusted": true,
        "id": "OeWI2s94m4qY",
        "outputId": "1ec91cb0-3bb7-4d3a-d720-e2a46e810f08"
      },
      "outputs": [
        {
          "execution_count": 4,
          "output_type": "execute_result",
          "data": {
            "text/plain": "Date                    0\nSymbol                  0\nSeries                  0\nPrev Close              0\nOpen                    0\nHigh                    0\nLow                     0\nLast                    0\nClose                   0\nVWAP                    0\nVolume                  0\nTurnover                0\nTrades                746\nDeliverable Volume      0\n%Deliverble             0\ndtype: int64"
          },
          "metadata": {}
        }
      ],
      "execution_count": null
    },
    {
      "cell_type": "code",
      "source": [
        "df['Trades']=df['Trades'].fillna(df['Trades'].mean())"
      ],
      "metadata": {
        "trusted": true,
        "execution": {
          "iopub.status.busy": "2024-11-20T12:08:35.299019Z",
          "iopub.execute_input": "2024-11-20T12:08:35.30014Z",
          "iopub.status.idle": "2024-11-20T12:08:35.307434Z",
          "shell.execute_reply.started": "2024-11-20T12:08:35.300098Z",
          "shell.execute_reply": "2024-11-20T12:08:35.30622Z"
        },
        "id": "3tlYuH4sm4qY"
      },
      "outputs": [],
      "execution_count": null
    },
    {
      "cell_type": "code",
      "source": [
        "df.isnull().sum()"
      ],
      "metadata": {
        "trusted": true,
        "execution": {
          "iopub.status.busy": "2024-11-20T12:08:53.611366Z",
          "iopub.execute_input": "2024-11-20T12:08:53.611774Z",
          "iopub.status.idle": "2024-11-20T12:08:53.622176Z",
          "shell.execute_reply.started": "2024-11-20T12:08:53.611742Z",
          "shell.execute_reply": "2024-11-20T12:08:53.621083Z"
        },
        "id": "w0AdS7o0m4qY",
        "outputId": "17fb684a-2f98-4e53-8ff9-431b920582d9"
      },
      "outputs": [
        {
          "execution_count": 7,
          "output_type": "execute_result",
          "data": {
            "text/plain": "Date                  0\nSymbol                0\nPrev Close            0\nOpen                  0\nHigh                  0\nLow                   0\nLast                  0\nClose                 0\nVWAP                  0\nVolume                0\nTurnover              0\nTrades                0\nDeliverable Volume    0\n%Deliverble           0\ndtype: int64"
          },
          "metadata": {}
        }
      ],
      "execution_count": null
    },
    {
      "cell_type": "code",
      "source": [
        "df['Symbol'].unique()"
      ],
      "metadata": {
        "trusted": true,
        "execution": {
          "iopub.status.busy": "2024-11-20T07:24:41.284662Z",
          "iopub.execute_input": "2024-11-20T07:24:41.285159Z",
          "iopub.status.idle": "2024-11-20T07:24:41.292838Z",
          "shell.execute_reply.started": "2024-11-20T07:24:41.285114Z",
          "shell.execute_reply": "2024-11-20T07:24:41.291653Z"
        },
        "id": "6kp3ro7Um4qY",
        "outputId": "55a737fd-6854-4924-c433-1673405c2434"
      },
      "outputs": [
        {
          "execution_count": 9,
          "output_type": "execute_result",
          "data": {
            "text/plain": "array(['BAJAJ-AUTO'], dtype=object)"
          },
          "metadata": {}
        }
      ],
      "execution_count": null
    },
    {
      "cell_type": "code",
      "source": [
        "df.drop('Series',axis=1,inplace=True)"
      ],
      "metadata": {
        "trusted": true,
        "id": "XQANrnanm4qZ"
      },
      "outputs": [],
      "execution_count": null
    },
    {
      "cell_type": "code",
      "source": [
        "df.drop('Symbol',axis=1,inplace=True)"
      ],
      "metadata": {
        "trusted": true,
        "execution": {
          "iopub.status.busy": "2024-11-20T12:09:39.528344Z",
          "iopub.execute_input": "2024-11-20T12:09:39.528764Z",
          "iopub.status.idle": "2024-11-20T12:09:39.535447Z",
          "shell.execute_reply.started": "2024-11-20T12:09:39.528731Z",
          "shell.execute_reply": "2024-11-20T12:09:39.534133Z"
        },
        "id": "dVfRx3nkm4qZ"
      },
      "outputs": [],
      "execution_count": null
    },
    {
      "cell_type": "code",
      "source": [
        "df['Date']=pd.to_datetime(df['Date'])\n",
        "df.index=df['Date']\n",
        "df.drop('Date',axis=1,inplace=True)"
      ],
      "metadata": {
        "trusted": true,
        "execution": {
          "iopub.status.busy": "2024-11-20T12:09:10.065447Z",
          "iopub.execute_input": "2024-11-20T12:09:10.065832Z",
          "iopub.status.idle": "2024-11-20T12:09:10.079991Z",
          "shell.execute_reply.started": "2024-11-20T12:09:10.065798Z",
          "shell.execute_reply": "2024-11-20T12:09:10.078612Z"
        },
        "id": "XfAJzQVLm4qZ"
      },
      "outputs": [],
      "execution_count": null
    },
    {
      "cell_type": "code",
      "source": [
        "df.head()"
      ],
      "metadata": {
        "trusted": true,
        "execution": {
          "iopub.status.busy": "2024-11-20T12:09:42.128781Z",
          "iopub.execute_input": "2024-11-20T12:09:42.129927Z",
          "iopub.status.idle": "2024-11-20T12:09:42.151863Z",
          "shell.execute_reply.started": "2024-11-20T12:09:42.12987Z",
          "shell.execute_reply": "2024-11-20T12:09:42.150506Z"
        },
        "id": "BfnhJHcfm4qa",
        "outputId": "2207c140-973a-4877-983e-08eca9b38bf8"
      },
      "outputs": [
        {
          "execution_count": 11,
          "output_type": "execute_result",
          "data": {
            "text/plain": "            Prev Close    Open   High     Low    Last   Close    VWAP  \\\nDate                                                                    \n2008-05-26     2101.05  898.00  898.0  551.35  600.25  604.75  624.61   \n2008-05-27      604.75  624.70  639.0  580.30  595.50  593.15  606.43   \n2008-05-28      593.15  561.65  621.9  561.65  605.10  608.15  608.75   \n2008-05-29      608.15  619.40  619.4  576.00  600.00  599.45  600.98   \n2008-05-30      599.45  605.40  607.0  538.00  576.25  571.70  565.55   \n\n             Volume      Turnover        Trades  Deliverable Volume  \\\nDate                                                                  \n2008-05-26  3972485  2.481245e+14  27487.876629             1202933   \n2008-05-27  1751063  1.061901e+14  27487.876629              369389   \n2008-05-28  1652355  1.005877e+14  27487.876629              898602   \n2008-05-29   669269  4.022165e+13  27487.876629              449951   \n2008-05-30  1262117  7.137937e+13  27487.876629              936432   \n\n            %Deliverble  \nDate                     \n2008-05-26       0.3028  \n2008-05-27       0.2110  \n2008-05-28       0.5438  \n2008-05-29       0.6723  \n2008-05-30       0.7420  ",
            "text/html": "<div>\n<style scoped>\n    .dataframe tbody tr th:only-of-type {\n        vertical-align: middle;\n    }\n\n    .dataframe tbody tr th {\n        vertical-align: top;\n    }\n\n    .dataframe thead th {\n        text-align: right;\n    }\n</style>\n<table border=\"1\" class=\"dataframe\">\n  <thead>\n    <tr style=\"text-align: right;\">\n      <th></th>\n      <th>Prev Close</th>\n      <th>Open</th>\n      <th>High</th>\n      <th>Low</th>\n      <th>Last</th>\n      <th>Close</th>\n      <th>VWAP</th>\n      <th>Volume</th>\n      <th>Turnover</th>\n      <th>Trades</th>\n      <th>Deliverable Volume</th>\n      <th>%Deliverble</th>\n    </tr>\n    <tr>\n      <th>Date</th>\n      <th></th>\n      <th></th>\n      <th></th>\n      <th></th>\n      <th></th>\n      <th></th>\n      <th></th>\n      <th></th>\n      <th></th>\n      <th></th>\n      <th></th>\n      <th></th>\n    </tr>\n  </thead>\n  <tbody>\n    <tr>\n      <th>2008-05-26</th>\n      <td>2101.05</td>\n      <td>898.00</td>\n      <td>898.0</td>\n      <td>551.35</td>\n      <td>600.25</td>\n      <td>604.75</td>\n      <td>624.61</td>\n      <td>3972485</td>\n      <td>2.481245e+14</td>\n      <td>27487.876629</td>\n      <td>1202933</td>\n      <td>0.3028</td>\n    </tr>\n    <tr>\n      <th>2008-05-27</th>\n      <td>604.75</td>\n      <td>624.70</td>\n      <td>639.0</td>\n      <td>580.30</td>\n      <td>595.50</td>\n      <td>593.15</td>\n      <td>606.43</td>\n      <td>1751063</td>\n      <td>1.061901e+14</td>\n      <td>27487.876629</td>\n      <td>369389</td>\n      <td>0.2110</td>\n    </tr>\n    <tr>\n      <th>2008-05-28</th>\n      <td>593.15</td>\n      <td>561.65</td>\n      <td>621.9</td>\n      <td>561.65</td>\n      <td>605.10</td>\n      <td>608.15</td>\n      <td>608.75</td>\n      <td>1652355</td>\n      <td>1.005877e+14</td>\n      <td>27487.876629</td>\n      <td>898602</td>\n      <td>0.5438</td>\n    </tr>\n    <tr>\n      <th>2008-05-29</th>\n      <td>608.15</td>\n      <td>619.40</td>\n      <td>619.4</td>\n      <td>576.00</td>\n      <td>600.00</td>\n      <td>599.45</td>\n      <td>600.98</td>\n      <td>669269</td>\n      <td>4.022165e+13</td>\n      <td>27487.876629</td>\n      <td>449951</td>\n      <td>0.6723</td>\n    </tr>\n    <tr>\n      <th>2008-05-30</th>\n      <td>599.45</td>\n      <td>605.40</td>\n      <td>607.0</td>\n      <td>538.00</td>\n      <td>576.25</td>\n      <td>571.70</td>\n      <td>565.55</td>\n      <td>1262117</td>\n      <td>7.137937e+13</td>\n      <td>27487.876629</td>\n      <td>936432</td>\n      <td>0.7420</td>\n    </tr>\n  </tbody>\n</table>\n</div>"
          },
          "metadata": {}
        }
      ],
      "execution_count": null
    },
    {
      "cell_type": "code",
      "source": [
        "from pandas import DataFrame, concat\n",
        "\n",
        "def series_to_supervised(data, n_in=1, n_out=1, dropnan=True, prefix=\"var\", column_names=None):\n",
        "    # Convert input to DataFrame\n",
        "    df = DataFrame(data)\n",
        "\n",
        "    # Use provided column names or infer from the DataFrame\n",
        "    if column_names is None:\n",
        "        column_names = df.columns  # Use original column names if not explicitly provided\n",
        "    else:\n",
        "        if len(column_names) != df.shape[1]:\n",
        "            raise ValueError(\"Length of column_names must match the number of columns in data\")\n",
        "\n",
        "    cols, names = list(), list()\n",
        "\n",
        "    # Create input sequence (t-n, ..., t-1)\n",
        "    for i in range(n_in, 0, -1):\n",
        "        cols.append(df.shift(i))\n",
        "        names += [f'{col}_{prefix}(t-{i})' for col in column_names]\n",
        "\n",
        "    # Create output sequence (t, t+1, ..., t+n)\n",
        "    for i in range(0, n_out):\n",
        "        cols.append(df.shift(-i))\n",
        "        if i == 0:\n",
        "            names += [f'{col}_{prefix}(t)' for col in column_names]\n",
        "        else:\n",
        "            names += [f'{col}_{prefix}(t+{i})' for col in column_names]\n",
        "\n",
        "    # Combine all columns\n",
        "    agg = concat(cols, axis=1)\n",
        "    agg.columns = names  # Assign meaningful column names\n",
        "\n",
        "    # Optionally drop rows with NaN values\n",
        "    if dropnan:\n",
        "        agg.dropna(inplace=True)\n",
        "    print('Completed series_to_supervised transformation.')\n",
        "    return agg\n"
      ],
      "metadata": {
        "trusted": true,
        "execution": {
          "iopub.status.busy": "2024-11-20T12:09:55.311234Z",
          "iopub.execute_input": "2024-11-20T12:09:55.311651Z",
          "iopub.status.idle": "2024-11-20T12:09:55.321078Z",
          "shell.execute_reply.started": "2024-11-20T12:09:55.311616Z",
          "shell.execute_reply": "2024-11-20T12:09:55.319978Z"
        },
        "id": "Rqxh2QICm4qa"
      },
      "outputs": [],
      "execution_count": null
    },
    {
      "cell_type": "code",
      "source": [
        "from sklearn.preprocessing import MinMaxScaler\n",
        "values=df.values\n",
        "values=values.astype('float32')\n",
        "##scaled_values=scaler.fit_transform(values)\n",
        "reframed=series_to_supervised(values,1,1,column_names=df.columns)\n",
        "reframed.head()"
      ],
      "metadata": {
        "trusted": true,
        "execution": {
          "iopub.status.busy": "2024-11-20T12:10:16.18752Z",
          "iopub.execute_input": "2024-11-20T12:10:16.187911Z",
          "iopub.status.idle": "2024-11-20T12:10:16.22102Z",
          "shell.execute_reply.started": "2024-11-20T12:10:16.18788Z",
          "shell.execute_reply": "2024-11-20T12:10:16.219976Z"
        },
        "id": "fP2IsNqFm4qa",
        "outputId": "7f75e47c-1ea0-4a14-a363-ecd053768240"
      },
      "outputs": [
        {
          "name": "stdout",
          "text": "Completed series_to_supervised transformation.\n",
          "output_type": "stream"
        },
        {
          "execution_count": 14,
          "output_type": "execute_result",
          "data": {
            "text/plain": "   Prev Close_var(t-1)  Open_var(t-1)  High_var(t-1)  Low_var(t-1)  \\\n1          2101.050049     898.000000     898.000000    551.349976   \n2           604.750000     624.700012     639.000000    580.299988   \n3           593.150024     561.650024     621.900024    561.650024   \n4           608.150024     619.400024     619.400024    576.000000   \n5           599.450012     605.400024     607.000000    538.000000   \n\n   Last_var(t-1)  Close_var(t-1)  VWAP_var(t-1)  Volume_var(t-1)  \\\n1     600.250000      604.750000     624.609985        3972485.0   \n2     595.500000      593.150024     606.429993        1751063.0   \n3     605.099976      608.150024     608.750000        1652355.0   \n4     600.000000      599.450012     600.979980         669269.0   \n5     576.250000      571.700012     565.549988        1262117.0   \n\n   Turnover_var(t-1)  Trades_var(t-1)  ...  High_var(t)  Low_var(t)  \\\n1       2.481245e+14     27487.876953  ...   639.000000  580.299988   \n2       1.061901e+14     27487.876953  ...   621.900024  561.650024   \n3       1.005877e+14     27487.876953  ...   619.400024  576.000000   \n4       4.022165e+13     27487.876953  ...   607.000000  538.000000   \n5       7.137937e+13     27487.876953  ...   615.000000  570.700012   \n\n   Last_var(t)  Close_var(t)  VWAP_var(t)  Volume_var(t)  Turnover_var(t)  \\\n1   595.500000    593.150024   606.429993      1751063.0     1.061901e+14   \n2   605.099976    608.150024   608.750000      1652355.0     1.005877e+14   \n3   600.000000    599.450012   600.979980       669269.0     4.022165e+13   \n4   576.250000    571.700012   565.549988      1262117.0     7.137937e+13   \n5   573.000000    580.799988   598.299988       206640.0     1.236326e+13   \n\n   Trades_var(t)  Deliverable Volume_var(t)  %Deliverble_var(t)  \n1   27487.876953                   369389.0              0.2110  \n2   27487.876953                   898602.0              0.5438  \n3   27487.876953                   449951.0              0.6723  \n4   27487.876953                   936432.0              0.7420  \n5   27487.876953                    69415.0              0.3359  \n\n[5 rows x 24 columns]",
            "text/html": "<div>\n<style scoped>\n    .dataframe tbody tr th:only-of-type {\n        vertical-align: middle;\n    }\n\n    .dataframe tbody tr th {\n        vertical-align: top;\n    }\n\n    .dataframe thead th {\n        text-align: right;\n    }\n</style>\n<table border=\"1\" class=\"dataframe\">\n  <thead>\n    <tr style=\"text-align: right;\">\n      <th></th>\n      <th>Prev Close_var(t-1)</th>\n      <th>Open_var(t-1)</th>\n      <th>High_var(t-1)</th>\n      <th>Low_var(t-1)</th>\n      <th>Last_var(t-1)</th>\n      <th>Close_var(t-1)</th>\n      <th>VWAP_var(t-1)</th>\n      <th>Volume_var(t-1)</th>\n      <th>Turnover_var(t-1)</th>\n      <th>Trades_var(t-1)</th>\n      <th>...</th>\n      <th>High_var(t)</th>\n      <th>Low_var(t)</th>\n      <th>Last_var(t)</th>\n      <th>Close_var(t)</th>\n      <th>VWAP_var(t)</th>\n      <th>Volume_var(t)</th>\n      <th>Turnover_var(t)</th>\n      <th>Trades_var(t)</th>\n      <th>Deliverable Volume_var(t)</th>\n      <th>%Deliverble_var(t)</th>\n    </tr>\n  </thead>\n  <tbody>\n    <tr>\n      <th>1</th>\n      <td>2101.050049</td>\n      <td>898.000000</td>\n      <td>898.000000</td>\n      <td>551.349976</td>\n      <td>600.250000</td>\n      <td>604.750000</td>\n      <td>624.609985</td>\n      <td>3972485.0</td>\n      <td>2.481245e+14</td>\n      <td>27487.876953</td>\n      <td>...</td>\n      <td>639.000000</td>\n      <td>580.299988</td>\n      <td>595.500000</td>\n      <td>593.150024</td>\n      <td>606.429993</td>\n      <td>1751063.0</td>\n      <td>1.061901e+14</td>\n      <td>27487.876953</td>\n      <td>369389.0</td>\n      <td>0.2110</td>\n    </tr>\n    <tr>\n      <th>2</th>\n      <td>604.750000</td>\n      <td>624.700012</td>\n      <td>639.000000</td>\n      <td>580.299988</td>\n      <td>595.500000</td>\n      <td>593.150024</td>\n      <td>606.429993</td>\n      <td>1751063.0</td>\n      <td>1.061901e+14</td>\n      <td>27487.876953</td>\n      <td>...</td>\n      <td>621.900024</td>\n      <td>561.650024</td>\n      <td>605.099976</td>\n      <td>608.150024</td>\n      <td>608.750000</td>\n      <td>1652355.0</td>\n      <td>1.005877e+14</td>\n      <td>27487.876953</td>\n      <td>898602.0</td>\n      <td>0.5438</td>\n    </tr>\n    <tr>\n      <th>3</th>\n      <td>593.150024</td>\n      <td>561.650024</td>\n      <td>621.900024</td>\n      <td>561.650024</td>\n      <td>605.099976</td>\n      <td>608.150024</td>\n      <td>608.750000</td>\n      <td>1652355.0</td>\n      <td>1.005877e+14</td>\n      <td>27487.876953</td>\n      <td>...</td>\n      <td>619.400024</td>\n      <td>576.000000</td>\n      <td>600.000000</td>\n      <td>599.450012</td>\n      <td>600.979980</td>\n      <td>669269.0</td>\n      <td>4.022165e+13</td>\n      <td>27487.876953</td>\n      <td>449951.0</td>\n      <td>0.6723</td>\n    </tr>\n    <tr>\n      <th>4</th>\n      <td>608.150024</td>\n      <td>619.400024</td>\n      <td>619.400024</td>\n      <td>576.000000</td>\n      <td>600.000000</td>\n      <td>599.450012</td>\n      <td>600.979980</td>\n      <td>669269.0</td>\n      <td>4.022165e+13</td>\n      <td>27487.876953</td>\n      <td>...</td>\n      <td>607.000000</td>\n      <td>538.000000</td>\n      <td>576.250000</td>\n      <td>571.700012</td>\n      <td>565.549988</td>\n      <td>1262117.0</td>\n      <td>7.137937e+13</td>\n      <td>27487.876953</td>\n      <td>936432.0</td>\n      <td>0.7420</td>\n    </tr>\n    <tr>\n      <th>5</th>\n      <td>599.450012</td>\n      <td>605.400024</td>\n      <td>607.000000</td>\n      <td>538.000000</td>\n      <td>576.250000</td>\n      <td>571.700012</td>\n      <td>565.549988</td>\n      <td>1262117.0</td>\n      <td>7.137937e+13</td>\n      <td>27487.876953</td>\n      <td>...</td>\n      <td>615.000000</td>\n      <td>570.700012</td>\n      <td>573.000000</td>\n      <td>580.799988</td>\n      <td>598.299988</td>\n      <td>206640.0</td>\n      <td>1.236326e+13</td>\n      <td>27487.876953</td>\n      <td>69415.0</td>\n      <td>0.3359</td>\n    </tr>\n  </tbody>\n</table>\n<p>5 rows × 24 columns</p>\n</div>"
          },
          "metadata": {}
        }
      ],
      "execution_count": null
    },
    {
      "cell_type": "code",
      "source": [
        "reframed.info()"
      ],
      "metadata": {
        "trusted": true,
        "execution": {
          "iopub.status.busy": "2024-11-20T12:10:29.93734Z",
          "iopub.execute_input": "2024-11-20T12:10:29.937737Z",
          "iopub.status.idle": "2024-11-20T12:10:29.960316Z",
          "shell.execute_reply.started": "2024-11-20T12:10:29.937705Z",
          "shell.execute_reply": "2024-11-20T12:10:29.959249Z"
        },
        "id": "HJihLjn5m4qa",
        "outputId": "2830a87a-769f-494e-9fe3-185967e66085"
      },
      "outputs": [
        {
          "name": "stdout",
          "text": "<class 'pandas.core.frame.DataFrame'>\nIndex: 3201 entries, 1 to 3201\nData columns (total 24 columns):\n #   Column                       Non-Null Count  Dtype  \n---  ------                       --------------  -----  \n 0   Prev Close_var(t-1)          3201 non-null   float32\n 1   Open_var(t-1)                3201 non-null   float32\n 2   High_var(t-1)                3201 non-null   float32\n 3   Low_var(t-1)                 3201 non-null   float32\n 4   Last_var(t-1)                3201 non-null   float32\n 5   Close_var(t-1)               3201 non-null   float32\n 6   VWAP_var(t-1)                3201 non-null   float32\n 7   Volume_var(t-1)              3201 non-null   float32\n 8   Turnover_var(t-1)            3201 non-null   float32\n 9   Trades_var(t-1)              3201 non-null   float32\n 10  Deliverable Volume_var(t-1)  3201 non-null   float32\n 11  %Deliverble_var(t-1)         3201 non-null   float32\n 12  Prev Close_var(t)            3201 non-null   float32\n 13  Open_var(t)                  3201 non-null   float32\n 14  High_var(t)                  3201 non-null   float32\n 15  Low_var(t)                   3201 non-null   float32\n 16  Last_var(t)                  3201 non-null   float32\n 17  Close_var(t)                 3201 non-null   float32\n 18  VWAP_var(t)                  3201 non-null   float32\n 19  Volume_var(t)                3201 non-null   float32\n 20  Turnover_var(t)              3201 non-null   float32\n 21  Trades_var(t)                3201 non-null   float32\n 22  Deliverable Volume_var(t)    3201 non-null   float32\n 23  %Deliverble_var(t)           3201 non-null   float32\ndtypes: float32(24)\nmemory usage: 325.1 KB\n",
          "output_type": "stream"
        }
      ],
      "execution_count": null
    },
    {
      "cell_type": "code",
      "source": [
        "df.index.min()"
      ],
      "metadata": {
        "trusted": true,
        "execution": {
          "iopub.status.busy": "2024-11-20T08:53:30.82636Z",
          "iopub.execute_input": "2024-11-20T08:53:30.826928Z",
          "iopub.status.idle": "2024-11-20T08:53:30.838224Z",
          "shell.execute_reply.started": "2024-11-20T08:53:30.826875Z",
          "shell.execute_reply": "2024-11-20T08:53:30.83693Z"
        },
        "id": "MkqunH_Rm4qb",
        "outputId": "83b2f150-9dc8-4e6d-ab5e-50f89822fac6"
      },
      "outputs": [
        {
          "execution_count": 36,
          "output_type": "execute_result",
          "data": {
            "text/plain": "Timestamp('2008-05-26 00:00:00')"
          },
          "metadata": {}
        }
      ],
      "execution_count": null
    },
    {
      "cell_type": "code",
      "source": [
        "df.index.max()"
      ],
      "metadata": {
        "trusted": true,
        "execution": {
          "iopub.status.busy": "2024-11-20T08:53:36.468208Z",
          "iopub.execute_input": "2024-11-20T08:53:36.469334Z",
          "iopub.status.idle": "2024-11-20T08:53:36.477459Z",
          "shell.execute_reply.started": "2024-11-20T08:53:36.46925Z",
          "shell.execute_reply": "2024-11-20T08:53:36.47611Z"
        },
        "id": "gc-P3SQJm4qb",
        "outputId": "d853b9f4-dc2f-427b-9950-6ec24475251c"
      },
      "outputs": [
        {
          "execution_count": 37,
          "output_type": "execute_result",
          "data": {
            "text/plain": "Timestamp('2021-04-30 00:00:00')"
          },
          "metadata": {}
        }
      ],
      "execution_count": null
    },
    {
      "cell_type": "code",
      "source": [
        "output_col_index=18\n",
        "filter_col=reframed.iloc[:,:output_col_index]\n",
        "filter_col.head()"
      ],
      "metadata": {
        "trusted": true,
        "execution": {
          "iopub.status.busy": "2024-11-20T12:11:14.889454Z",
          "iopub.execute_input": "2024-11-20T12:11:14.889864Z",
          "iopub.status.idle": "2024-11-20T12:11:14.914864Z",
          "shell.execute_reply.started": "2024-11-20T12:11:14.889831Z",
          "shell.execute_reply": "2024-11-20T12:11:14.913799Z"
        },
        "id": "_sDmm6yqm4qb",
        "outputId": "fc350607-4286-4aa5-a607-d5f89da564bf"
      },
      "outputs": [
        {
          "execution_count": 19,
          "output_type": "execute_result",
          "data": {
            "text/plain": "   Prev Close_var(t-1)  Open_var(t-1)  High_var(t-1)  Low_var(t-1)  \\\n1          2101.050049     898.000000     898.000000    551.349976   \n2           604.750000     624.700012     639.000000    580.299988   \n3           593.150024     561.650024     621.900024    561.650024   \n4           608.150024     619.400024     619.400024    576.000000   \n5           599.450012     605.400024     607.000000    538.000000   \n\n   Last_var(t-1)  Close_var(t-1)  VWAP_var(t-1)  Volume_var(t-1)  \\\n1     600.250000      604.750000     624.609985        3972485.0   \n2     595.500000      593.150024     606.429993        1751063.0   \n3     605.099976      608.150024     608.750000        1652355.0   \n4     600.000000      599.450012     600.979980         669269.0   \n5     576.250000      571.700012     565.549988        1262117.0   \n\n   Turnover_var(t-1)  Trades_var(t-1)  Deliverable Volume_var(t-1)  \\\n1       2.481245e+14     27487.876953                    1202933.0   \n2       1.061901e+14     27487.876953                     369389.0   \n3       1.005877e+14     27487.876953                     898602.0   \n4       4.022165e+13     27487.876953                     449951.0   \n5       7.137937e+13     27487.876953                     936432.0   \n\n   %Deliverble_var(t-1)  Prev Close_var(t)  Open_var(t)  High_var(t)  \\\n1                0.3028         604.750000   624.700012   639.000000   \n2                0.2110         593.150024   561.650024   621.900024   \n3                0.5438         608.150024   619.400024   619.400024   \n4                0.6723         599.450012   605.400024   607.000000   \n5                0.7420         571.700012   605.500000   615.000000   \n\n   Low_var(t)  Last_var(t)  Close_var(t)  \n1  580.299988   595.500000    593.150024  \n2  561.650024   605.099976    608.150024  \n3  576.000000   600.000000    599.450012  \n4  538.000000   576.250000    571.700012  \n5  570.700012   573.000000    580.799988  ",
            "text/html": "<div>\n<style scoped>\n    .dataframe tbody tr th:only-of-type {\n        vertical-align: middle;\n    }\n\n    .dataframe tbody tr th {\n        vertical-align: top;\n    }\n\n    .dataframe thead th {\n        text-align: right;\n    }\n</style>\n<table border=\"1\" class=\"dataframe\">\n  <thead>\n    <tr style=\"text-align: right;\">\n      <th></th>\n      <th>Prev Close_var(t-1)</th>\n      <th>Open_var(t-1)</th>\n      <th>High_var(t-1)</th>\n      <th>Low_var(t-1)</th>\n      <th>Last_var(t-1)</th>\n      <th>Close_var(t-1)</th>\n      <th>VWAP_var(t-1)</th>\n      <th>Volume_var(t-1)</th>\n      <th>Turnover_var(t-1)</th>\n      <th>Trades_var(t-1)</th>\n      <th>Deliverable Volume_var(t-1)</th>\n      <th>%Deliverble_var(t-1)</th>\n      <th>Prev Close_var(t)</th>\n      <th>Open_var(t)</th>\n      <th>High_var(t)</th>\n      <th>Low_var(t)</th>\n      <th>Last_var(t)</th>\n      <th>Close_var(t)</th>\n    </tr>\n  </thead>\n  <tbody>\n    <tr>\n      <th>1</th>\n      <td>2101.050049</td>\n      <td>898.000000</td>\n      <td>898.000000</td>\n      <td>551.349976</td>\n      <td>600.250000</td>\n      <td>604.750000</td>\n      <td>624.609985</td>\n      <td>3972485.0</td>\n      <td>2.481245e+14</td>\n      <td>27487.876953</td>\n      <td>1202933.0</td>\n      <td>0.3028</td>\n      <td>604.750000</td>\n      <td>624.700012</td>\n      <td>639.000000</td>\n      <td>580.299988</td>\n      <td>595.500000</td>\n      <td>593.150024</td>\n    </tr>\n    <tr>\n      <th>2</th>\n      <td>604.750000</td>\n      <td>624.700012</td>\n      <td>639.000000</td>\n      <td>580.299988</td>\n      <td>595.500000</td>\n      <td>593.150024</td>\n      <td>606.429993</td>\n      <td>1751063.0</td>\n      <td>1.061901e+14</td>\n      <td>27487.876953</td>\n      <td>369389.0</td>\n      <td>0.2110</td>\n      <td>593.150024</td>\n      <td>561.650024</td>\n      <td>621.900024</td>\n      <td>561.650024</td>\n      <td>605.099976</td>\n      <td>608.150024</td>\n    </tr>\n    <tr>\n      <th>3</th>\n      <td>593.150024</td>\n      <td>561.650024</td>\n      <td>621.900024</td>\n      <td>561.650024</td>\n      <td>605.099976</td>\n      <td>608.150024</td>\n      <td>608.750000</td>\n      <td>1652355.0</td>\n      <td>1.005877e+14</td>\n      <td>27487.876953</td>\n      <td>898602.0</td>\n      <td>0.5438</td>\n      <td>608.150024</td>\n      <td>619.400024</td>\n      <td>619.400024</td>\n      <td>576.000000</td>\n      <td>600.000000</td>\n      <td>599.450012</td>\n    </tr>\n    <tr>\n      <th>4</th>\n      <td>608.150024</td>\n      <td>619.400024</td>\n      <td>619.400024</td>\n      <td>576.000000</td>\n      <td>600.000000</td>\n      <td>599.450012</td>\n      <td>600.979980</td>\n      <td>669269.0</td>\n      <td>4.022165e+13</td>\n      <td>27487.876953</td>\n      <td>449951.0</td>\n      <td>0.6723</td>\n      <td>599.450012</td>\n      <td>605.400024</td>\n      <td>607.000000</td>\n      <td>538.000000</td>\n      <td>576.250000</td>\n      <td>571.700012</td>\n    </tr>\n    <tr>\n      <th>5</th>\n      <td>599.450012</td>\n      <td>605.400024</td>\n      <td>607.000000</td>\n      <td>538.000000</td>\n      <td>576.250000</td>\n      <td>571.700012</td>\n      <td>565.549988</td>\n      <td>1262117.0</td>\n      <td>7.137937e+13</td>\n      <td>27487.876953</td>\n      <td>936432.0</td>\n      <td>0.7420</td>\n      <td>571.700012</td>\n      <td>605.500000</td>\n      <td>615.000000</td>\n      <td>570.700012</td>\n      <td>573.000000</td>\n      <td>580.799988</td>\n    </tr>\n  </tbody>\n</table>\n</div>"
          },
          "metadata": {}
        }
      ],
      "execution_count": null
    },
    {
      "cell_type": "code",
      "source": [
        "values=filter_col.values\n",
        "scaler=MinMaxScaler(feature_range=(0,1))\n",
        "scaled_values=scaler.fit_transform(values)"
      ],
      "metadata": {
        "trusted": true,
        "execution": {
          "iopub.status.busy": "2024-11-20T12:11:19.42721Z",
          "iopub.execute_input": "2024-11-20T12:11:19.427624Z",
          "iopub.status.idle": "2024-11-20T12:11:19.435206Z",
          "shell.execute_reply.started": "2024-11-20T12:11:19.427588Z",
          "shell.execute_reply": "2024-11-20T12:11:19.434012Z"
        },
        "id": "sNgiJC45m4qb"
      },
      "outputs": [],
      "execution_count": null
    },
    {
      "cell_type": "code",
      "source": [
        "scaled_values"
      ],
      "metadata": {
        "trusted": true,
        "execution": {
          "iopub.status.busy": "2024-11-20T12:11:24.013206Z",
          "iopub.execute_input": "2024-11-20T12:11:24.013607Z",
          "iopub.status.idle": "2024-11-20T12:11:24.021478Z",
          "shell.execute_reply.started": "2024-11-20T12:11:24.013573Z",
          "shell.execute_reply": "2024-11-20T12:11:24.020358Z"
        },
        "id": "vgPa33EBm4qc",
        "outputId": "b2f56def-cbe8-4cb9-843b-0e5f9db0e691"
      },
      "outputs": [
        {
          "execution_count": 21,
          "output_type": "execute_result",
          "data": {
            "text/plain": "array([[0.45715338, 0.15907955, 0.14575705, ..., 0.08082784, 0.07507621,\n        0.0740049 ],\n       [0.0769524 , 0.09072036, 0.08187503, ..., 0.07609194, 0.07751524,\n        0.07781632],\n       [0.0740049 , 0.07494999, 0.07765735, ..., 0.07973591, 0.07621951,\n        0.07560571],\n       ...,\n       [0.87330866, 0.8696474 , 0.8610382 , ..., 0.90020317, 0.9113694 ,\n        0.91165143],\n       [0.8851621 , 0.8874563 , 0.8995154 , ..., 0.90022856, 0.89404213,\n        0.8981082 ],\n       [0.91165143, 0.9207104 , 0.8995894 , ..., 0.89842564, 0.89608735,\n        0.8974222 ]], dtype=float32)"
          },
          "metadata": {}
        }
      ],
      "execution_count": null
    },
    {
      "cell_type": "code",
      "source": [
        "scaled_values.shape"
      ],
      "metadata": {
        "trusted": true,
        "execution": {
          "iopub.status.busy": "2024-11-20T12:11:27.073944Z",
          "iopub.execute_input": "2024-11-20T12:11:27.074407Z",
          "iopub.status.idle": "2024-11-20T12:11:27.081625Z",
          "shell.execute_reply.started": "2024-11-20T12:11:27.074364Z",
          "shell.execute_reply": "2024-11-20T12:11:27.080497Z"
        },
        "id": "xAGxhUxbm4qc",
        "outputId": "5ad38a55-72c0-4be2-f5a7-3c67729f171f"
      },
      "outputs": [
        {
          "execution_count": 22,
          "output_type": "execute_result",
          "data": {
            "text/plain": "(3201, 18)"
          },
          "metadata": {}
        }
      ],
      "execution_count": null
    },
    {
      "cell_type": "code",
      "source": [
        "# # Split data into training, validation, and testing sets\n",
        "# #values = reframed.values\n",
        "\n",
        "# # Define the number of training and validation days\n",
        "# n_train_days = round(len(filter_col)*(60/100),0)  # 8 years of daily data for training\n",
        "# n_validation_days = n_train_days+round(len(filter_col)*(20/100),0)  # 1 year of daily data for validation\n",
        "\n",
        "# # Determine slices for train, validation, and test\n",
        "# train = scaled_values[:n_train_days, :]  # First part for training\n",
        "# validation = scaled_values[n_train_days:n_train_days + n_validation_days, :]  # Next part for validation\n",
        "# test = scaled_values[n_train_days + n_validation_days:, :]  # Remaining part for testing\n",
        "\n",
        "# # Specify the index for the output column\n",
        "# output_col_index = 17  # 18th column (zero-based index)\n",
        "\n",
        "# # Split into input (X) and output (y) for training\n",
        "# train_X = train[:, :output_col_index+1]  # All columns before the output\n",
        "# train_y = train[:, output_col_index+1]  # The 18th column (output)\n",
        "\n",
        "# # Split into input (X) and output (y) for validation\n",
        "# validation_X = validation[:, :output_col_index+1]\n",
        "# validation_y = validation[:, output_col_index+1]\n",
        "\n",
        "# # Split into input (X) and output (y) for testing\n",
        "# test_X = test[:, :output_col_index+1]\n",
        "# test_y = test[:, output_col_index+1]\n",
        "\n",
        "# # Reshape input to be 3D [samples, timesteps, features]\n",
        "# train_X = train_X.reshape((train_X.shape[0], 1, train_X.shape[1]))\n",
        "# validation_X = validation_X.reshape((validation_X.shape[0], 1, validation_X.shape[1]))\n",
        "# test_X = test_X.reshape((test_X.shape[0], 1, test_X.shape[1]))\n",
        "\n",
        "# # Print the shapes\n",
        "# print(\"Training set shapes:\")\n",
        "# print(train_X.shape, train_y.shape)\n",
        "\n",
        "# print(\"\\nValidation set shapes:\")\n",
        "# print(validation_X.shape, validation_y.shape)\n",
        "\n",
        "# print(\"\\nTest set shapes:\")\n",
        "# print(test_X.shape, test_y.shape)\n"
      ],
      "metadata": {
        "trusted": true,
        "id": "YBim2OJim4qc"
      },
      "outputs": [],
      "execution_count": null
    },
    {
      "cell_type": "code",
      "source": [
        "train"
      ],
      "metadata": {
        "trusted": true,
        "execution": {
          "iopub.status.busy": "2024-11-20T09:04:50.251564Z",
          "iopub.execute_input": "2024-11-20T09:04:50.251987Z",
          "iopub.status.idle": "2024-11-20T09:04:50.260504Z",
          "shell.execute_reply.started": "2024-11-20T09:04:50.251947Z",
          "shell.execute_reply": "2024-11-20T09:04:50.259079Z"
        },
        "id": "UxuhfUVgm4qc",
        "outputId": "fd8c451a-8a12-45d5-8b81-9f8b1b0816e8"
      },
      "outputs": [
        {
          "execution_count": 51,
          "output_type": "execute_result",
          "data": {
            "text/plain": "array([[0.45715338, 0.15907955, 0.14575705, ..., 0.06800156, 0.08863017,\n        0.14886731],\n       [0.0769524 , 0.09072036, 0.08187503, ..., 0.06800156, 0.21605307,\n        0.5078749 ],\n       [0.0740049 , 0.07494999, 0.07765735, ..., 0.06800156, 0.10802773,\n        0.6464941 ],\n       ...,\n       [0.61027044, 0.59479743, 0.60452354, ..., 0.1603151 , 0.06269716,\n        0.32060415],\n       [0.618249  , 0.6035518 , 0.58775145, ..., 0.12947443, 0.05725197,\n        0.32297736],\n       [0.577162  , 0.57978994, 0.5729525 , ..., 0.16464616, 0.07231168,\n        0.32826322]], dtype=float32)"
          },
          "metadata": {}
        }
      ],
      "execution_count": null
    },
    {
      "cell_type": "code",
      "source": [
        "n_train_days = round(len(filter_col)*(60/100),0)  # 8 years of daily data for training\n",
        "n_validation_days = n_train_days+round(len(filter_co)*(20/100),0)\n",
        "n_test_days=n_validation_days+round(len(reframed)*(20/100),0)\n",
        "print(n_train_days,'train_size')\n",
        "print(n_validation_days,'validation_size')\n",
        "print(n_test_days,'test size')"
      ],
      "metadata": {
        "trusted": true,
        "execution": {
          "iopub.status.busy": "2024-11-20T09:20:09.426384Z",
          "iopub.execute_input": "2024-11-20T09:20:09.426807Z",
          "iopub.status.idle": "2024-11-20T09:20:09.43451Z",
          "shell.execute_reply.started": "2024-11-20T09:20:09.426765Z",
          "shell.execute_reply": "2024-11-20T09:20:09.433197Z"
        },
        "id": "f4Nhye1Cm4qc",
        "outputId": "87db17b6-1464-4fe6-cf86-c0adfcfb5f70"
      },
      "outputs": [
        {
          "name": "stdout",
          "text": "1921.0 train_size\n2561.0 validation_size\n3201.0 test size\n",
          "output_type": "stream"
        }
      ],
      "execution_count": null
    },
    {
      "cell_type": "code",
      "source": [
        "# Define the number of training, validation and testing days\n",
        "n_train_days = int(round(len(filter_col)*(60/100),0))\n",
        "n_validation_days = int(n_train_days+round(len(filter_col)*(20/100),0))\n",
        "n_test_days=int(n_validation_days+round(len(filter_col)*(20/100),0))\n",
        "\n",
        "# Determine slices for train, validation, and test\n",
        "train = scaled_values[:n_train_days, :]  # First part for training\n",
        "validation = scaled_values[n_train_days:n_validation_days, :]  # Next part for validation\n",
        "test = scaled_values[n_validation_days:, :]  # Remaining part for testing\n",
        "\n",
        "train_X, train_y = train[:, :-1], train[:, -1]\n",
        "val_X,val_y=validation[:,:-1],validation[:,-1]\n",
        "test_X, test_y = test[:, :-1], test[:, -1]\n",
        "\n",
        "train_X = train_X.reshape((train_X.shape[0], 1, train_X.shape[1]))\n",
        "test_X = test_X.reshape((test_X.shape[0], 1, test_X.shape[1]))\n",
        "val_X=val_X.reshape((val_X.shape[0],1,val_X.shape[1]))"
      ],
      "metadata": {
        "trusted": true,
        "execution": {
          "iopub.status.busy": "2024-11-20T12:12:04.523165Z",
          "iopub.execute_input": "2024-11-20T12:12:04.523543Z",
          "iopub.status.idle": "2024-11-20T12:12:04.531612Z",
          "shell.execute_reply.started": "2024-11-20T12:12:04.523513Z",
          "shell.execute_reply": "2024-11-20T12:12:04.53048Z"
        },
        "id": "hREHQgzRm4qc"
      },
      "outputs": [],
      "execution_count": null
    },
    {
      "cell_type": "code",
      "source": [
        "train_X.shape"
      ],
      "metadata": {
        "trusted": true,
        "execution": {
          "iopub.status.busy": "2024-11-20T12:15:10.462515Z",
          "iopub.execute_input": "2024-11-20T12:15:10.463478Z",
          "iopub.status.idle": "2024-11-20T12:15:10.47085Z",
          "shell.execute_reply.started": "2024-11-20T12:15:10.463409Z",
          "shell.execute_reply": "2024-11-20T12:15:10.469614Z"
        },
        "id": "5njuZJSzm4qd",
        "outputId": "cfa7b6ff-8181-43ce-848b-3cd7afc0b9d5"
      },
      "outputs": [
        {
          "execution_count": 31,
          "output_type": "execute_result",
          "data": {
            "text/plain": "(1921, 1, 17)"
          },
          "metadata": {}
        }
      ],
      "execution_count": null
    },
    {
      "cell_type": "code",
      "source": [
        "from keras.models import Sequential\n",
        "from keras.layers import Dense\n",
        "from keras.layers import LSTM\n",
        "\n",
        "# design network\n",
        "model = Sequential()\n",
        "model.add(LSTM(50, input_shape=(train_X.shape[1], train_X.shape[2])))\n",
        "model.add(Dense(1))\n",
        "model.compile(loss='mae', optimizer='adam')\n",
        "# fit network\n",
        "history = model.fit(train_X, train_y, epochs=10, batch_size=72, validation_data=(val_X, val_y), verbose=2, shuffle=False)\n",
        "# plot history"
      ],
      "metadata": {
        "trusted": true,
        "execution": {
          "iopub.status.busy": "2024-11-20T12:15:16.835103Z",
          "iopub.execute_input": "2024-11-20T12:15:16.835849Z",
          "iopub.status.idle": "2024-11-20T12:15:32.985157Z",
          "shell.execute_reply.started": "2024-11-20T12:15:16.835812Z",
          "shell.execute_reply": "2024-11-20T12:15:32.984076Z"
        },
        "id": "DTFGWR7vm4qd",
        "outputId": "fb9ba168-99a9-4159-c0c1-71c7f07dc639"
      },
      "outputs": [
        {
          "name": "stdout",
          "text": "Epoch 1/10\n",
          "output_type": "stream"
        },
        {
          "name": "stderr",
          "text": "/opt/conda/lib/python3.10/site-packages/keras/src/layers/rnn/rnn.py:204: UserWarning: Do not pass an `input_shape`/`input_dim` argument to a layer. When using Sequential models, prefer using an `Input(shape)` object as the first layer in the model instead.\n  super().__init__(**kwargs)\n",
          "output_type": "stream"
        },
        {
          "name": "stdout",
          "text": "27/27 - 2s - 83ms/step - loss: 0.1502 - val_loss: 0.0278\nEpoch 2/10\n27/27 - 0s - 4ms/step - loss: 0.0977 - val_loss: 0.0942\nEpoch 3/10\n27/27 - 0s - 4ms/step - loss: 0.0336 - val_loss: 0.0162\nEpoch 4/10\n27/27 - 0s - 4ms/step - loss: 0.0339 - val_loss: 0.0147\nEpoch 5/10\n27/27 - 0s - 4ms/step - loss: 0.0188 - val_loss: 0.0083\nEpoch 6/10\n27/27 - 0s - 4ms/step - loss: 0.0121 - val_loss: 0.0132\nEpoch 7/10\n27/27 - 0s - 4ms/step - loss: 0.0083 - val_loss: 0.0090\nEpoch 8/10\n27/27 - 0s - 4ms/step - loss: 0.0087 - val_loss: 0.0073\nEpoch 9/10\n27/27 - 0s - 4ms/step - loss: 0.0084 - val_loss: 0.0064\nEpoch 10/10\n27/27 - 0s - 4ms/step - loss: 0.0100 - val_loss: 0.0089\n",
          "output_type": "stream"
        }
      ],
      "execution_count": null
    },
    {
      "cell_type": "code",
      "source": [
        "import matplotlib.pyplot as plt\n",
        "plt.plot(history.history['loss'], label='train')\n",
        "plt.plot(history.history['val_loss'], label='test')\n",
        "plt.legend()\n",
        "plt.show()"
      ],
      "metadata": {
        "trusted": true,
        "execution": {
          "iopub.status.busy": "2024-11-20T12:15:46.457345Z",
          "iopub.execute_input": "2024-11-20T12:15:46.458039Z",
          "iopub.status.idle": "2024-11-20T12:15:46.733656Z",
          "shell.execute_reply.started": "2024-11-20T12:15:46.458002Z",
          "shell.execute_reply": "2024-11-20T12:15:46.732511Z"
        },
        "id": "QPQi_ZOQm4qd",
        "outputId": "c30365c5-5c89-4933-aa46-1b9bbe7e49a1"
      },
      "outputs": [
        {
          "output_type": "display_data",
          "data": {
            "text/plain": "<Figure size 640x480 with 1 Axes>",
            "image/png": "[encoded data removed]"
          },
          "metadata": {}
        }
      ],
      "execution_count": null
    },
    {
      "cell_type": "code",
      "source": [
        "y_hat=model.predict(test_X)"
      ],
      "metadata": {
        "trusted": true,
        "execution": {
          "iopub.status.busy": "2024-11-20T12:15:59.234388Z",
          "iopub.execute_input": "2024-11-20T12:15:59.234952Z",
          "iopub.status.idle": "2024-11-20T12:15:59.483734Z",
          "shell.execute_reply.started": "2024-11-20T12:15:59.234901Z",
          "shell.execute_reply": "2024-11-20T12:15:59.48272Z"
        },
        "id": "UZG0KoQqm4qd",
        "outputId": "cd1a8ba5-17b5-4b63-a6b9-06344a5b57f2"
      },
      "outputs": [
        {
          "name": "stdout",
          "text": "\u001b[1m20/20\u001b[0m \u001b[32m━━━━━━━━━━━━━━━━━━━━\u001b[0m\u001b[37m\u001b[0m \u001b[1m0s\u001b[0m 1ms/step  \n",
          "output_type": "stream"
        }
      ],
      "execution_count": null
    },
    {
      "cell_type": "code",
      "source": [
        "print(y_hat[:10])"
      ],
      "metadata": {
        "trusted": true,
        "execution": {
          "iopub.status.busy": "2024-11-20T12:16:06.262045Z",
          "iopub.execute_input": "2024-11-20T12:16:06.262728Z",
          "iopub.status.idle": "2024-11-20T12:16:06.268649Z",
          "shell.execute_reply.started": "2024-11-20T12:16:06.262676Z",
          "shell.execute_reply": "2024-11-20T12:16:06.267594Z"
        },
        "id": "izuCFrj3m4qd",
        "outputId": "81f0230e-d352-4a7d-a4f2-88775ed5572f"
      },
      "outputs": [
        {
          "name": "stdout",
          "text": "[[0.634976  ]\n [0.6288643 ]\n [0.6145973 ]\n [0.6180383 ]\n [0.61278766]\n [0.59082186]\n [0.5742688 ]\n [0.57443786]\n [0.5766562 ]\n [0.57271034]]\n",
          "output_type": "stream"
        }
      ],
      "execution_count": null
    },
    {
      "cell_type": "code",
      "source": [
        "print(test_y[:10])"
      ],
      "metadata": {
        "trusted": true,
        "execution": {
          "iopub.status.busy": "2024-11-20T12:16:11.302359Z",
          "iopub.execute_input": "2024-11-20T12:16:11.303032Z",
          "iopub.status.idle": "2024-11-20T12:16:11.310283Z",
          "shell.execute_reply.started": "2024-11-20T12:16:11.302976Z",
          "shell.execute_reply": "2024-11-20T12:16:11.308842Z"
        },
        "id": "PHFBuUCXm4qe",
        "outputId": "a87ae71b-9892-4927-a469-f317f2ecffe4"
      },
      "outputs": [
        {
          "name": "stdout",
          "text": "[0.63057256 0.60615414 0.6169913  0.61732155 0.598417   0.56946295\n 0.5798935  0.57093674 0.5793091  0.5650798 ]\n",
          "output_type": "stream"
        }
      ],
      "execution_count": null
    },
    {
      "cell_type": "code",
      "source": [
        "from sklearn.metrics import mean_squared_error\n",
        "mean_squared_error(test_y,y_hat)"
      ],
      "metadata": {
        "trusted": true,
        "execution": {
          "iopub.status.busy": "2024-11-20T12:16:21.693712Z",
          "iopub.execute_input": "2024-11-20T12:16:21.694116Z",
          "iopub.status.idle": "2024-11-20T12:16:21.787438Z",
          "shell.execute_reply.started": "2024-11-20T12:16:21.694081Z",
          "shell.execute_reply": "2024-11-20T12:16:21.786285Z"
        },
        "id": "BimYI_UDm4qe",
        "outputId": "7d3ccfb7-8606-4cce-92c9-102cbd3537d9"
      },
      "outputs": [
        {
          "execution_count": 37,
          "output_type": "execute_result",
          "data": {
            "text/plain": "0.00026606198"
          },
          "metadata": {}
        }
      ],
      "execution_count": null
    },
    {
      "cell_type": "code",
      "source": [
        "import matplotlib.pyplot as plt\n",
        "\n",
        "plt.plot(y_hat,label='predicted_values')\n",
        "plt.plot(test_y,label='actual_value')\n",
        "plt.title('Actual vs Predicted value')\n",
        "plt.legend()\n",
        "plt.figure(figsize=(40,60))\n",
        "plt.show()"
      ],
      "metadata": {
        "trusted": true,
        "execution": {
          "iopub.status.busy": "2024-11-20T12:16:25.431601Z",
          "iopub.execute_input": "2024-11-20T12:16:25.43202Z",
          "iopub.status.idle": "2024-11-20T12:16:25.719351Z",
          "shell.execute_reply.started": "2024-11-20T12:16:25.431988Z",
          "shell.execute_reply": "2024-11-20T12:16:25.718233Z"
        },
        "id": "CCQr5xCKm4qe",
        "outputId": "1ba3cea9-f123-4ea7-a8d8-39a23744da8b"
      },
      "outputs": [
        {
          "output_type": "display_data",
          "data": {
            "text/plain": "<Figure size 640x480 with 1 Axes>",
            "image/png": "[encoded data removed]"
          },
          "metadata": {}
        },
        {
          "output_type": "display_data",
          "data": {
            "text/plain": "<Figure size 4000x6000 with 0 Axes>"
          },
          "metadata": {}
        }
      ],
      "execution_count": null
    },
    {
      "cell_type": "code",
      "source": [
        "import matplotlib.pyplot as plt\n",
        "\n",
        "# Ensure that test_X is a DataFrame\n",
        "# Plot actual vs predicted values using the index of test_X as x-axis\n",
        "plt.figure(figsize=(10, 6))  # Adjust the figure size as needed\n",
        "plt.plot(test_X.index, y_hat, label='Predicted Values')  # y_hat should be a 1D array\n",
        "plt.plot(test_X.index, test_y, label='Actual Values')\n",
        "plt.title('Actual vs Predicted Values')\n",
        "plt.xlabel('Index')  # Optional: You can label it as Date or Time if your index represents time\n",
        "plt.ylabel('Value')  # Label for the y-axis\n",
        "plt.legend()\n",
        "plt.show()"
      ],
      "metadata": {
        "trusted": true,
        "id": "JdLGexJim4qe"
      },
      "outputs": [],
      "execution_count": null
    },
    {
      "cell_type": "code",
      "source": [
        "inv_yhat = np.concatenate((y_hat, test_X), axis=1)\n",
        "print(inv_yhat.shape)  # Expected output: (640, 18)"
      ],
      "metadata": {
        "trusted": true,
        "execution": {
          "iopub.status.busy": "2024-11-20T10:15:28.923709Z",
          "iopub.execute_input": "2024-11-20T10:15:28.924189Z",
          "iopub.status.idle": "2024-11-20T10:15:28.930971Z",
          "shell.execute_reply.started": "2024-11-20T10:15:28.924153Z",
          "shell.execute_reply": "2024-11-20T10:15:28.929611Z"
        },
        "id": "LIVzAxylm4qf",
        "outputId": "47661cd7-bddb-48bc-9d1a-26bc00f5c223"
      },
      "outputs": [
        {
          "name": "stdout",
          "text": "(640, 18)\n",
          "output_type": "stream"
        }
      ],
      "execution_count": null
    },
    {
      "cell_type": "markdown",
      "source": [],
      "metadata": {
        "id": "pfK7o4aNm4qf"
      }
    },
    {
      "cell_type": "code",
      "source": [
        "test_X.shape"
      ],
      "metadata": {
        "trusted": true,
        "execution": {
          "iopub.status.busy": "2024-11-20T12:17:41.119705Z",
          "iopub.execute_input": "2024-11-20T12:17:41.120237Z",
          "iopub.status.idle": "2024-11-20T12:17:41.128115Z",
          "shell.execute_reply.started": "2024-11-20T12:17:41.120184Z",
          "shell.execute_reply": "2024-11-20T12:17:41.126739Z"
        },
        "id": "4r4C1VuMm4qg",
        "outputId": "ff08417e-65cb-468c-cfc3-6beff267e6f2"
      },
      "outputs": [
        {
          "execution_count": 41,
          "output_type": "execute_result",
          "data": {
            "text/plain": "(640, 1, 17)"
          },
          "metadata": {}
        }
      ],
      "execution_count": null
    },
    {
      "cell_type": "code",
      "source": [
        "print('shape of test_X',test_X)\n",
        "print('y_hat')"
      ],
      "metadata": {
        "trusted": true,
        "id": "IgeZBgCnm4qg"
      },
      "outputs": [],
      "execution_count": null
    },
    {
      "cell_type": "code",
      "source": [
        "test_X=test_X.reshape((test_X.shape[0],test_X.shape[2]))\n",
        "inv_yhat = np.concatenate((y_hat, test_X), axis=1)\n",
        "inv_yhat=scaler.inverse_transform(inv_yhat)\n",
        "inv_yhat"
      ],
      "metadata": {
        "trusted": true,
        "execution": {
          "iopub.status.busy": "2024-11-20T12:17:56.114057Z",
          "iopub.execute_input": "2024-11-20T12:17:56.11451Z",
          "iopub.status.idle": "2024-11-20T12:17:56.123477Z",
          "shell.execute_reply.started": "2024-11-20T12:17:56.11446Z",
          "shell.execute_reply": "2024-11-20T12:17:56.122383Z"
        },
        "id": "yaJ_V0Sqm4ql",
        "outputId": "64ba9b73-e35d-4fa8-b432-3da983347155"
      },
      "outputs": [
        {
          "execution_count": 42,
          "output_type": "execute_result",
          "data": {
            "text/plain": "array([[2800.8801, 2788.2605, 2877.2727, ..., 2708.6624, 2795.1323,\n        2783.7664],\n       [2776.827 , 2772.6165, 2853.847 , ..., 2691.1301, 2672.7944,\n        2691.627 ],\n       [2720.6787, 2783.0288, 2878.794 , ..., 2629.9868, 2656.4028,\n        2736.6216],\n       ...,\n       [3930.8433, 3753.4878, 3832.9048, ..., 3804.2915, 3843.1997,\n        3888.64  ],\n       [3996.8489, 3800.878 , 3905.1082, ..., 3804.583 , 3843.2998,\n        3820.4478],\n       [3978.5842, 3906.7822, 4039.932 , ..., 3816.2874, 3836.2034,\n        3828.4968]], dtype=float32)"
          },
          "metadata": {}
        }
      ],
      "execution_count": null
    },
    {
      "cell_type": "code",
      "source": [
        "test_y=test_y.reshape(len(test_y),1)\n",
        "inv_y=np.concatenate((test_y,test_X),axis=1)\n",
        "inv_y=scaler.inverse_transform(inv_y)"
      ],
      "metadata": {
        "trusted": true,
        "execution": {
          "iopub.status.busy": "2024-11-20T12:29:17.943721Z",
          "iopub.execute_input": "2024-11-20T12:29:17.944119Z",
          "iopub.status.idle": "2024-11-20T12:29:17.950347Z",
          "shell.execute_reply.started": "2024-11-20T12:29:17.944087Z",
          "shell.execute_reply": "2024-11-20T12:29:17.949275Z"
        },
        "id": "ISWLYup_m4ql"
      },
      "outputs": [],
      "execution_count": null
    },
    {
      "cell_type": "code",
      "source": [
        "inverse_test_y = inv_y[:, 0]\n",
        "inverse_predict_y=inv_yhat[:,0]"
      ],
      "metadata": {
        "trusted": true,
        "execution": {
          "iopub.status.busy": "2024-11-20T12:32:24.532229Z",
          "iopub.execute_input": "2024-11-20T12:32:24.532629Z",
          "iopub.status.idle": "2024-11-20T12:32:24.537753Z",
          "shell.execute_reply.started": "2024-11-20T12:32:24.532596Z",
          "shell.execute_reply": "2024-11-20T12:32:24.536666Z"
        },
        "id": "uP31fdOmm4ql"
      },
      "outputs": [],
      "execution_count": null
    },
    {
      "cell_type": "code",
      "source": [
        "from sklearn.metrics import mean_squared_error\n",
        "from math import sqrt\n",
        "sqrt(mean_squared_error(inverse_predict_y,inverse_test_y))"
      ],
      "metadata": {
        "trusted": true,
        "execution": {
          "iopub.status.busy": "2024-11-20T12:38:41.32199Z",
          "iopub.execute_input": "2024-11-20T12:38:41.322894Z",
          "iopub.status.idle": "2024-11-20T12:38:41.330371Z",
          "shell.execute_reply.started": "2024-11-20T12:38:41.32285Z",
          "shell.execute_reply": "2024-11-20T12:38:41.329388Z"
        },
        "id": "bdwOhwJCm4ql",
        "outputId": "a040050b-cc5a-4f96-8114-03e90462e34e"
      },
      "outputs": [
        {
          "execution_count": 67,
          "output_type": "execute_result",
          "data": {
            "text/plain": "64.19436885107213"
          },
          "metadata": {}
        }
      ],
      "execution_count": null
    },
    {
      "cell_type": "code",
      "source": [
        "from sklearn.metrics import mean_absolute_error\n",
        "mean_absolute_error(inverse_predict_y,inverse_test_y)"
      ],
      "metadata": {
        "trusted": true,
        "execution": {
          "iopub.status.busy": "2024-11-20T12:39:33.590884Z",
          "iopub.execute_input": "2024-11-20T12:39:33.591282Z",
          "iopub.status.idle": "2024-11-20T12:39:33.599201Z",
          "shell.execute_reply.started": "2024-11-20T12:39:33.591247Z",
          "shell.execute_reply": "2024-11-20T12:39:33.598114Z"
        },
        "id": "Fpts_b0om4ql",
        "outputId": "68927a65-ed51-464a-8e1e-31b60996bd7f"
      },
      "outputs": [
        {
          "execution_count": 68,
          "output_type": "execute_result",
          "data": {
            "text/plain": "49.212914"
          },
          "metadata": {}
        }
      ],
      "execution_count": null
    },
    {
      "cell_type": "code",
      "source": [
        "from sklearn.metrics import r2_score\n",
        "r2_score(inverse_predict_y,inverse_test_y)"
      ],
      "metadata": {
        "trusted": true,
        "execution": {
          "iopub.status.busy": "2024-11-20T12:41:11.023615Z",
          "iopub.execute_input": "2024-11-20T12:41:11.024569Z",
          "iopub.status.idle": "2024-11-20T12:41:11.032178Z",
          "shell.execute_reply.started": "2024-11-20T12:41:11.024525Z",
          "shell.execute_reply": "2024-11-20T12:41:11.031099Z"
        },
        "id": "PQ4kGJh1m4ql",
        "outputId": "8a47a581-91a6-4bba-a737-fcf3aeb5889f"
      },
      "outputs": [
        {
          "execution_count": 69,
          "output_type": "execute_result",
          "data": {
            "text/plain": "0.9780625195849452"
          },
          "metadata": {}
        }
      ],
      "execution_count": null
    },
    {
      "cell_type": "code",
      "source": [
        "np.mean(np.abs((inverse_test_y - inverse_test_y) / inverse_test_y)) * 100"
      ],
      "metadata": {
        "trusted": true,
        "execution": {
          "iopub.status.busy": "2024-11-20T12:42:09.402886Z",
          "iopub.execute_input": "2024-11-20T12:42:09.403383Z",
          "iopub.status.idle": "2024-11-20T12:42:09.410563Z",
          "shell.execute_reply.started": "2024-11-20T12:42:09.403346Z",
          "shell.execute_reply": "2024-11-20T12:42:09.409469Z"
        },
        "id": "cAPfgCtgm4qm",
        "outputId": "48c26a59-a17e-4368-cfe8-86a7286aaf23"
      },
      "outputs": [
        {
          "execution_count": 70,
          "output_type": "execute_result",
          "data": {
            "text/plain": "0.0"
          },
          "metadata": {}
        }
      ],
      "execution_count": null
    },
    {
      "cell_type": "code",
      "source": [
        "import matplotlib.pyplot as plt\n",
        "\n",
        "plt.plot(inverse_predict_y,label='predicted_values')\n",
        "plt.plot(inverse_test_y,label='actual_value')\n",
        "plt.title('Actual vs Predicted value')\n",
        "plt.legend()\n",
        "plt.figure(figsize=(100,40))\n",
        "plt.show()"
      ],
      "metadata": {
        "trusted": true,
        "execution": {
          "iopub.status.busy": "2024-11-20T12:35:07.789806Z",
          "iopub.execute_input": "2024-11-20T12:35:07.790338Z",
          "iopub.status.idle": "2024-11-20T12:35:08.085448Z",
          "shell.execute_reply.started": "2024-11-20T12:35:07.790288Z",
          "shell.execute_reply": "2024-11-20T12:35:08.084287Z"
        },
        "id": "eGkjRxjZm4qm",
        "outputId": "4dd94c76-0d3f-4690-8fe5-c1d079531254"
      },
      "outputs": [
        {
          "output_type": "display_data",
          "data": {
            "text/plain": "<Figure size 640x480 with 1 Axes>",
            "image/png": "[encoded data removed]"
          },
          "metadata": {}
        },
        {
          "output_type": "display_data",
          "data": {
            "text/plain": "<Figure size 10000x4000 with 0 Axes>"
          },
          "metadata": {}
        }
      ],
      "execution_count": null
    },
    {
      "cell_type": "code",
      "source": [
        "predicted_df=pd.DataFrame({'Actual_Values':inverse_test_y,'Predicted_Values':inverse_predict_y})\n",
        "predicted_df.head(20)"
      ],
      "metadata": {
        "trusted": true,
        "execution": {
          "iopub.status.busy": "2024-11-20T12:43:45.717346Z",
          "iopub.execute_input": "2024-11-20T12:43:45.71848Z",
          "iopub.status.idle": "2024-11-20T12:43:45.733733Z",
          "shell.execute_reply.started": "2024-11-20T12:43:45.718386Z",
          "shell.execute_reply": "2024-11-20T12:43:45.732644Z"
        },
        "id": "AQfTKg2Km4qm",
        "outputId": "a2397e0e-58c9-45e5-f7ec-fb9748dfd779"
      },
      "outputs": [
        {
          "execution_count": 71,
          "output_type": "execute_result",
          "data": {
            "text/plain": "    Actual_Values  Predicted_Values\n0     2783.550049       2800.880127\n1     2687.449951       2776.826904\n2     2730.100098       2720.678711\n3     2731.399902       2734.220703\n4     2657.000000       2713.556641\n5     2543.050049       2627.109131\n6     2584.100098       2561.963867\n7     2548.850098       2562.628906\n8     2581.800049       2571.359619\n9     2525.800049       2555.830322\n10    2623.050049       2562.118652\n11    2620.449951       2610.108154\n12    2610.500000       2620.534180\n13    2547.800049       2605.187256\n14    2510.250000       2545.416992\n15    2556.899902       2527.152588\n16    2586.500000       2550.344482\n17    2475.149902       2551.738525\n18    2477.550049       2486.402588\n19    2513.750000       2478.774414",
            "text/html": "<div>\n<style scoped>\n    .dataframe tbody tr th:only-of-type {\n        vertical-align: middle;\n    }\n\n    .dataframe tbody tr th {\n        vertical-align: top;\n    }\n\n    .dataframe thead th {\n        text-align: right;\n    }\n</style>\n<table border=\"1\" class=\"dataframe\">\n  <thead>\n    <tr style=\"text-align: right;\">\n      <th></th>\n      <th>Actual_Values</th>\n      <th>Predicted_Values</th>\n    </tr>\n  </thead>\n  <tbody>\n    <tr>\n      <th>0</th>\n      <td>2783.550049</td>\n      <td>2800.880127</td>\n    </tr>\n    <tr>\n      <th>1</th>\n      <td>2687.449951</td>\n      <td>2776.826904</td>\n    </tr>\n    <tr>\n      <th>2</th>\n      <td>2730.100098</td>\n      <td>2720.678711</td>\n    </tr>\n    <tr>\n      <th>3</th>\n      <td>2731.399902</td>\n      <td>2734.220703</td>\n    </tr>\n    <tr>\n      <th>4</th>\n      <td>2657.000000</td>\n      <td>2713.556641</td>\n    </tr>\n    <tr>\n      <th>5</th>\n      <td>2543.050049</td>\n      <td>2627.109131</td>\n    </tr>\n    <tr>\n      <th>6</th>\n      <td>2584.100098</td>\n      <td>2561.963867</td>\n    </tr>\n    <tr>\n      <th>7</th>\n      <td>2548.850098</td>\n      <td>2562.628906</td>\n    </tr>\n    <tr>\n      <th>8</th>\n      <td>2581.800049</td>\n      <td>2571.359619</td>\n    </tr>\n    <tr>\n      <th>9</th>\n      <td>2525.800049</td>\n      <td>2555.830322</td>\n    </tr>\n    <tr>\n      <th>10</th>\n      <td>2623.050049</td>\n      <td>2562.118652</td>\n    </tr>\n    <tr>\n      <th>11</th>\n      <td>2620.449951</td>\n      <td>2610.108154</td>\n    </tr>\n    <tr>\n      <th>12</th>\n      <td>2610.500000</td>\n      <td>2620.534180</td>\n    </tr>\n    <tr>\n      <th>13</th>\n      <td>2547.800049</td>\n      <td>2605.187256</td>\n    </tr>\n    <tr>\n      <th>14</th>\n      <td>2510.250000</td>\n      <td>2545.416992</td>\n    </tr>\n    <tr>\n      <th>15</th>\n      <td>2556.899902</td>\n      <td>2527.152588</td>\n    </tr>\n    <tr>\n      <th>16</th>\n      <td>2586.500000</td>\n      <td>2550.344482</td>\n    </tr>\n    <tr>\n      <th>17</th>\n      <td>2475.149902</td>\n      <td>2551.738525</td>\n    </tr>\n    <tr>\n      <th>18</th>\n      <td>2477.550049</td>\n      <td>2486.402588</td>\n    </tr>\n    <tr>\n      <th>19</th>\n      <td>2513.750000</td>\n      <td>2478.774414</td>\n    </tr>\n  </tbody>\n</table>\n</div>"
          },
          "metadata": {}
        }
      ],
      "execution_count": null
    },
    {
      "cell_type": "code",
      "source": [
        "import numpy as np\n",
        "#test_X=test_X.reshape((test_X.shape[0],test_X.shape[2]))\n",
        "inv_yhat = np.concatenate((y_hat, test_X), axis=1)\n",
        "inv_yhat=scaler.inverse_transform(inv_yhat)\n",
        "test_y = test_y.reshape((len(test_y), 1))\n",
        "inv_y = np.concatenate((test_y, test_X), axis=1)\n",
        "inv_y = scaler.inverse_transform(inv_y)\n",
        "inv_y = inv_y[:,0]\n",
        "test_y=a\n",
        "#calculate RMSE\n",
        "rmse = (mean_squared_error(inv_y, inv_yhat))\n",
        "print('Test RMSE: %.3f' % rmse)"
      ],
      "metadata": {
        "trusted": true,
        "execution": {
          "iopub.status.busy": "2024-11-20T10:17:55.980967Z",
          "iopub.execute_input": "2024-11-20T10:17:55.981403Z",
          "iopub.status.idle": "2024-11-20T10:17:56.040381Z",
          "shell.execute_reply.started": "2024-11-20T10:17:55.981363Z",
          "shell.execute_reply": "2024-11-20T10:17:56.038557Z"
        },
        "id": "3F1vU9lym4qm",
        "outputId": "32425fcb-93a1-4686-c158-31c47649ab99"
      },
      "outputs": [
        {
          "traceback": [
            "\u001b[0;31m---------------------------------------------------------------------------\u001b[0m",
            "\u001b[0;31mValueError\u001b[0m                                Traceback (most recent call last)",
            "Cell \u001b[0;32mIn[151], line 10\u001b[0m\n\u001b[1;32m      8\u001b[0m test_y\u001b[38;5;241m=\u001b[39mtest_y[:,\u001b[38;5;241m0\u001b[39m]\n\u001b[1;32m      9\u001b[0m \u001b[38;5;66;03m#calculate RMSE\u001b[39;00m\n\u001b[0;32m---> 10\u001b[0m rmse \u001b[38;5;241m=\u001b[39m (\u001b[43mmean_squared_error\u001b[49m\u001b[43m(\u001b[49m\u001b[43minv_y\u001b[49m\u001b[43m,\u001b[49m\u001b[43m \u001b[49m\u001b[43minv_yhat\u001b[49m\u001b[43m)\u001b[49m)\n\u001b[1;32m     11\u001b[0m \u001b[38;5;28mprint\u001b[39m(\u001b[38;5;124m'\u001b[39m\u001b[38;5;124mTest RMSE: \u001b[39m\u001b[38;5;132;01m%.3f\u001b[39;00m\u001b[38;5;124m'\u001b[39m \u001b[38;5;241m%\u001b[39m rmse)\n",
            "File \u001b[0;32m/opt/conda/lib/python3.10/site-packages/sklearn/metrics/_regression.py:442\u001b[0m, in \u001b[0;36mmean_squared_error\u001b[0;34m(y_true, y_pred, sample_weight, multioutput, squared)\u001b[0m\n\u001b[1;32m    382\u001b[0m \u001b[38;5;28;01mdef\u001b[39;00m \u001b[38;5;21mmean_squared_error\u001b[39m(\n\u001b[1;32m    383\u001b[0m     y_true, y_pred, \u001b[38;5;241m*\u001b[39m, sample_weight\u001b[38;5;241m=\u001b[39m\u001b[38;5;28;01mNone\u001b[39;00m, multioutput\u001b[38;5;241m=\u001b[39m\u001b[38;5;124m\"\u001b[39m\u001b[38;5;124muniform_average\u001b[39m\u001b[38;5;124m\"\u001b[39m, squared\u001b[38;5;241m=\u001b[39m\u001b[38;5;28;01mTrue\u001b[39;00m\n\u001b[1;32m    384\u001b[0m ):\n\u001b[1;32m    385\u001b[0m \u001b[38;5;250m    \u001b[39m\u001b[38;5;124;03m\"\"\"Mean squared error regression loss.\u001b[39;00m\n\u001b[1;32m    386\u001b[0m \n\u001b[1;32m    387\u001b[0m \u001b[38;5;124;03m    Read more in the :ref:`User Guide <mean_squared_error>`.\u001b[39;00m\n\u001b[0;32m   (...)\u001b[0m\n\u001b[1;32m    440\u001b[0m \u001b[38;5;124;03m    0.825...\u001b[39;00m\n\u001b[1;32m    441\u001b[0m \u001b[38;5;124;03m    \"\"\"\u001b[39;00m\n\u001b[0;32m--> 442\u001b[0m     y_type, y_true, y_pred, multioutput \u001b[38;5;241m=\u001b[39m \u001b[43m_check_reg_targets\u001b[49m\u001b[43m(\u001b[49m\n\u001b[1;32m    443\u001b[0m \u001b[43m        \u001b[49m\u001b[43my_true\u001b[49m\u001b[43m,\u001b[49m\u001b[43m \u001b[49m\u001b[43my_pred\u001b[49m\u001b[43m,\u001b[49m\u001b[43m \u001b[49m\u001b[43mmultioutput\u001b[49m\n\u001b[1;32m    444\u001b[0m \u001b[43m    \u001b[49m\u001b[43m)\u001b[49m\n\u001b[1;32m    445\u001b[0m     check_consistent_length(y_true, y_pred, sample_weight)\n\u001b[1;32m    446\u001b[0m     output_errors \u001b[38;5;241m=\u001b[39m np\u001b[38;5;241m.\u001b[39maverage((y_true \u001b[38;5;241m-\u001b[39m y_pred) \u001b[38;5;241m*\u001b[39m\u001b[38;5;241m*\u001b[39m \u001b[38;5;241m2\u001b[39m, axis\u001b[38;5;241m=\u001b[39m\u001b[38;5;241m0\u001b[39m, weights\u001b[38;5;241m=\u001b[39msample_weight)\n",
            "File \u001b[0;32m/opt/conda/lib/python3.10/site-packages/sklearn/metrics/_regression.py:111\u001b[0m, in \u001b[0;36m_check_reg_targets\u001b[0;34m(y_true, y_pred, multioutput, dtype)\u001b[0m\n\u001b[1;32m    108\u001b[0m     y_pred \u001b[38;5;241m=\u001b[39m y_pred\u001b[38;5;241m.\u001b[39mreshape((\u001b[38;5;241m-\u001b[39m\u001b[38;5;241m1\u001b[39m, \u001b[38;5;241m1\u001b[39m))\n\u001b[1;32m    110\u001b[0m \u001b[38;5;28;01mif\u001b[39;00m y_true\u001b[38;5;241m.\u001b[39mshape[\u001b[38;5;241m1\u001b[39m] \u001b[38;5;241m!=\u001b[39m y_pred\u001b[38;5;241m.\u001b[39mshape[\u001b[38;5;241m1\u001b[39m]:\n\u001b[0;32m--> 111\u001b[0m     \u001b[38;5;28;01mraise\u001b[39;00m \u001b[38;5;167;01mValueError\u001b[39;00m(\n\u001b[1;32m    112\u001b[0m         \u001b[38;5;124m\"\u001b[39m\u001b[38;5;124my_true and y_pred have different number of output (\u001b[39m\u001b[38;5;132;01m{0}\u001b[39;00m\u001b[38;5;124m!=\u001b[39m\u001b[38;5;132;01m{1}\u001b[39;00m\u001b[38;5;124m)\u001b[39m\u001b[38;5;124m\"\u001b[39m\u001b[38;5;241m.\u001b[39mformat(\n\u001b[1;32m    113\u001b[0m             y_true\u001b[38;5;241m.\u001b[39mshape[\u001b[38;5;241m1\u001b[39m], y_pred\u001b[38;5;241m.\u001b[39mshape[\u001b[38;5;241m1\u001b[39m]\n\u001b[1;32m    114\u001b[0m         )\n\u001b[1;32m    115\u001b[0m     )\n\u001b[1;32m    117\u001b[0m n_outputs \u001b[38;5;241m=\u001b[39m y_true\u001b[38;5;241m.\u001b[39mshape[\u001b[38;5;241m1\u001b[39m]\n\u001b[1;32m    118\u001b[0m allowed_multioutput_str \u001b[38;5;241m=\u001b[39m (\u001b[38;5;124m\"\u001b[39m\u001b[38;5;124mraw_values\u001b[39m\u001b[38;5;124m\"\u001b[39m, \u001b[38;5;124m\"\u001b[39m\u001b[38;5;124muniform_average\u001b[39m\u001b[38;5;124m\"\u001b[39m, \u001b[38;5;124m\"\u001b[39m\u001b[38;5;124mvariance_weighted\u001b[39m\u001b[38;5;124m\"\u001b[39m)\n",
            "\u001b[0;31mValueError\u001b[0m: y_true and y_pred have different number of output (1!=18)"
          ],
          "ename": "ValueError",
          "evalue": "y_true and y_pred have different number of output (1!=18)",
          "output_type": "error"
        }
      ],
      "execution_count": null
    },
    {
      "cell_type": "code",
      "source": [],
      "metadata": {
        "trusted": true,
        "id": "O-6N1sN8m4qm"
      },
      "outputs": [],
      "execution_count": null
    }
  ]
}