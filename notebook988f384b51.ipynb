{
  "metadata": {
    "kernelspec": {
      "language": "python",
      "display_name": "Python 3",
      "name": "python3"
    },
    "language_info": {
      "name": "python",
      "version": "3.10.14",
      "mimetype": "text/x-python",
      "codemirror_mode": {
        "name": "ipython",
        "version": 3
      },
      "pygments_lexer": "ipython3",
      "nbconvert_exporter": "python",
      "file_extension": ".py"
    },
    "kaggle": {
      "accelerator": "none",
      "dataSources": [
        {
          "sourceId": 2179861,
          "sourceType": "datasetVersion",
          "datasetId": 423609
        }
      ],
      "dockerImageVersionId": 30786,
      "isInternetEnabled": false,
      "language": "python",
      "sourceType": "notebook",
      "isGpuEnabled": false
    },
    "colab": {
      "name": "notebook988f384b51",
      "provenance": [],
      "include_colab_link": true
    }
  },
  "nbformat_minor": 0,
  "nbformat": 4,
  "cells": [
    {
      "cell_type": "markdown",
      "metadata": {
        "id": "view-in-github",
        "colab_type": "text"
      },
      "source": [
        "<a href=\"https://colab.research.google.com/github/Ajayrajc1998/multivariate_LSTM/blob/main/notebook988f384b51.ipynb\" target=\"_parent\"><img src=\"https://colab.research.google.com/assets/colab-badge.svg\" alt=\"Open In Colab\"/></a>"
      ]
    },
    {
      "source": [
        "# IMPORTANT: RUN THIS CELL IN ORDER TO IMPORT YOUR KAGGLE DATA SOURCES,\n",
        "# THEN FEEL FREE TO DELETE THIS CELL.\n",
        "# NOTE: THIS NOTEBOOK ENVIRONMENT DIFFERS FROM KAGGLE'S PYTHON\n",
        "# ENVIRONMENT SO THERE MAY BE MISSING LIBRARIES USED BY YOUR\n",
        "# NOTEBOOK.\n",
        "import kagglehub\n",
        "rohanrao_nifty50_stock_market_data_path = kagglehub.dataset_download('rohanrao/nifty50-stock-market-data')\n",
        "\n",
        "print('Data source import complete.')\n"
      ],
      "metadata": {
        "id": "zB4k3_PmPV7l"
      },
      "cell_type": "code",
      "outputs": [],
      "execution_count": null
    },
    {
      "cell_type": "code",
      "source": [
        "# This Python 3 environment comes with many helpful analytics libraries installed\n",
        "# It is defined by the kaggle/python Docker image: https://github.com/kaggle/docker-python\n",
        "# For example, here's several helpful packages to load\n",
        "\n",
        "import numpy as np # linear algebra\n",
        "import pandas as pd # data processing, CSV file I/O (e.g. pd.read_csv)\n",
        "\n",
        "# Input data files are available in the read-only \"../input/\" directory\n",
        "# For example, running this (by clicking run or pressing Shift+Enter) will list all files under the input directory\n",
        "\n",
        "import os\n",
        "for dirname, _, filenames in os.walk('/kaggle/input'):\n",
        "    for filename in filenames:\n",
        "        print(os.path.join(dirname, filename))\n",
        "\n",
        "# You can write up to 20GB to the current directory (/kaggle/working/) that gets preserved as output when you create a version using \"Save & Run All\"\n",
        "# You can also write temporary files to /kaggle/temp/, but they won't be saved outside of the current session"
      ],
      "metadata": {
        "_uuid": "8f2839f25d086af736a60e9eeb907d3b93b6e0e5",
        "_cell_guid": "b1076dfc-b9ad-4769-8c92-a6c4dae69d19",
        "trusted": true,
        "id": "tI325091PV7n"
      },
      "outputs": [],
      "execution_count": null
    },
    {
      "cell_type": "code",
      "source": [
        "import kagglehub\n",
        "\n",
        "# Download latest version\n",
        "path = kagglehub.dataset_download(\"rohanrao/nifty50-stock-market-data\")\n",
        "\n",
        "print(\"Path to dataset files:\", path)"
      ],
      "metadata": {
        "trusted": true,
        "execution": {
          "iopub.status.busy": "2024-11-20T07:20:30.227174Z",
          "iopub.execute_input": "2024-11-20T07:20:30.227559Z",
          "iopub.status.idle": "2024-11-20T07:20:30.910181Z",
          "shell.execute_reply.started": "2024-11-20T07:20:30.227523Z",
          "shell.execute_reply": "2024-11-20T07:20:30.908952Z"
        },
        "id": "UezDC4STPV7n",
        "outputId": "2327622b-5909-41d1-c589-20013140ba28"
      },
      "outputs": [
        {
          "name": "stdout",
          "text": "Path to dataset files: /kaggle/input/nifty50-stock-market-data\n",
          "output_type": "stream"
        }
      ],
      "execution_count": null
    },
    {
      "cell_type": "code",
      "source": [
        "import pandas as pd\n",
        "df=pd.read_csv('/kaggle/input/nifty50-stock-market-data/BAJAJ-AUTO.csv')\n",
        "df.head()"
      ],
      "metadata": {
        "trusted": true,
        "execution": {
          "iopub.status.busy": "2024-11-20T08:39:54.63535Z",
          "iopub.execute_input": "2024-11-20T08:39:54.635787Z",
          "iopub.status.idle": "2024-11-20T08:39:54.701519Z",
          "shell.execute_reply.started": "2024-11-20T08:39:54.635752Z",
          "shell.execute_reply": "2024-11-20T08:39:54.700336Z"
        },
        "id": "wcwE0yiUPV7o",
        "outputId": "f3669f68-7f37-4e15-b76b-78517d28c011"
      },
      "outputs": [
        {
          "execution_count": 3,
          "output_type": "execute_result",
          "data": {
            "text/plain": "         Date      Symbol Series  Prev Close    Open   High     Low    Last  \\\n0  2008-05-26  BAJAJ-AUTO     EQ     2101.05  898.00  898.0  551.35  600.25   \n1  2008-05-27  BAJAJ-AUTO     EQ      604.75  624.70  639.0  580.30  595.50   \n2  2008-05-28  BAJAJ-AUTO     EQ      593.15  561.65  621.9  561.65  605.10   \n3  2008-05-29  BAJAJ-AUTO     EQ      608.15  619.40  619.4  576.00  600.00   \n4  2008-05-30  BAJAJ-AUTO     EQ      599.45  605.40  607.0  538.00  576.25   \n\n    Close    VWAP   Volume      Turnover  Trades  Deliverable Volume  \\\n0  604.75  624.61  3972485  2.481245e+14     NaN             1202933   \n1  593.15  606.43  1751063  1.061901e+14     NaN              369389   \n2  608.15  608.75  1652355  1.005877e+14     NaN              898602   \n3  599.45  600.98   669269  4.022165e+13     NaN              449951   \n4  571.70  565.55  1262117  7.137937e+13     NaN              936432   \n\n   %Deliverble  \n0       0.3028  \n1       0.2110  \n2       0.5438  \n3       0.6723  \n4       0.7420  ",
            "text/html": "<div>\n<style scoped>\n    .dataframe tbody tr th:only-of-type {\n        vertical-align: middle;\n    }\n\n    .dataframe tbody tr th {\n        vertical-align: top;\n    }\n\n    .dataframe thead th {\n        text-align: right;\n    }\n</style>\n<table border=\"1\" class=\"dataframe\">\n  <thead>\n    <tr style=\"text-align: right;\">\n      <th></th>\n      <th>Date</th>\n      <th>Symbol</th>\n      <th>Series</th>\n      <th>Prev Close</th>\n      <th>Open</th>\n      <th>High</th>\n      <th>Low</th>\n      <th>Last</th>\n      <th>Close</th>\n      <th>VWAP</th>\n      <th>Volume</th>\n      <th>Turnover</th>\n      <th>Trades</th>\n      <th>Deliverable Volume</th>\n      <th>%Deliverble</th>\n    </tr>\n  </thead>\n  <tbody>\n    <tr>\n      <th>0</th>\n      <td>2008-05-26</td>\n      <td>BAJAJ-AUTO</td>\n      <td>EQ</td>\n      <td>2101.05</td>\n      <td>898.00</td>\n      <td>898.0</td>\n      <td>551.35</td>\n      <td>600.25</td>\n      <td>604.75</td>\n      <td>624.61</td>\n      <td>3972485</td>\n      <td>2.481245e+14</td>\n      <td>NaN</td>\n      <td>1202933</td>\n      <td>0.3028</td>\n    </tr>\n    <tr>\n      <th>1</th>\n      <td>2008-05-27</td>\n      <td>BAJAJ-AUTO</td>\n      <td>EQ</td>\n      <td>604.75</td>\n      <td>624.70</td>\n      <td>639.0</td>\n      <td>580.30</td>\n      <td>595.50</td>\n      <td>593.15</td>\n      <td>606.43</td>\n      <td>1751063</td>\n      <td>1.061901e+14</td>\n      <td>NaN</td>\n      <td>369389</td>\n      <td>0.2110</td>\n    </tr>\n    <tr>\n      <th>2</th>\n      <td>2008-05-28</td>\n      <td>BAJAJ-AUTO</td>\n      <td>EQ</td>\n      <td>593.15</td>\n      <td>561.65</td>\n      <td>621.9</td>\n      <td>561.65</td>\n      <td>605.10</td>\n      <td>608.15</td>\n      <td>608.75</td>\n      <td>1652355</td>\n      <td>1.005877e+14</td>\n      <td>NaN</td>\n      <td>898602</td>\n      <td>0.5438</td>\n    </tr>\n    <tr>\n      <th>3</th>\n      <td>2008-05-29</td>\n      <td>BAJAJ-AUTO</td>\n      <td>EQ</td>\n      <td>608.15</td>\n      <td>619.40</td>\n      <td>619.4</td>\n      <td>576.00</td>\n      <td>600.00</td>\n      <td>599.45</td>\n      <td>600.98</td>\n      <td>669269</td>\n      <td>4.022165e+13</td>\n      <td>NaN</td>\n      <td>449951</td>\n      <td>0.6723</td>\n    </tr>\n    <tr>\n      <th>4</th>\n      <td>2008-05-30</td>\n      <td>BAJAJ-AUTO</td>\n      <td>EQ</td>\n      <td>599.45</td>\n      <td>605.40</td>\n      <td>607.0</td>\n      <td>538.00</td>\n      <td>576.25</td>\n      <td>571.70</td>\n      <td>565.55</td>\n      <td>1262117</td>\n      <td>7.137937e+13</td>\n      <td>NaN</td>\n      <td>936432</td>\n      <td>0.7420</td>\n    </tr>\n  </tbody>\n</table>\n</div>"
          },
          "metadata": {}
        }
      ],
      "execution_count": null
    },
    {
      "cell_type": "code",
      "source": [
        "df.info()"
      ],
      "metadata": {
        "trusted": true,
        "execution": {
          "iopub.status.busy": "2024-11-20T07:21:11.542254Z",
          "iopub.execute_input": "2024-11-20T07:21:11.54265Z",
          "iopub.status.idle": "2024-11-20T07:21:11.573735Z",
          "shell.execute_reply.started": "2024-11-20T07:21:11.542612Z",
          "shell.execute_reply": "2024-11-20T07:21:11.572742Z"
        },
        "id": "Ej0XoBJSPV7p",
        "outputId": "25c4b988-c5fa-404d-b677-3be08f5a1fbb"
      },
      "outputs": [
        {
          "name": "stdout",
          "text": "<class 'pandas.core.frame.DataFrame'>\nRangeIndex: 3202 entries, 0 to 3201\nData columns (total 15 columns):\n #   Column              Non-Null Count  Dtype  \n---  ------              --------------  -----  \n 0   Date                3202 non-null   object \n 1   Symbol              3202 non-null   object \n 2   Series              3202 non-null   object \n 3   Prev Close          3202 non-null   float64\n 4   Open                3202 non-null   float64\n 5   High                3202 non-null   float64\n 6   Low                 3202 non-null   float64\n 7   Last                3202 non-null   float64\n 8   Close               3202 non-null   float64\n 9   VWAP                3202 non-null   float64\n 10  Volume              3202 non-null   int64  \n 11  Turnover            3202 non-null   float64\n 12  Trades              2456 non-null   float64\n 13  Deliverable Volume  3202 non-null   int64  \n 14  %Deliverble         3202 non-null   float64\ndtypes: float64(10), int64(2), object(3)\nmemory usage: 375.4+ KB\n",
          "output_type": "stream"
        }
      ],
      "execution_count": null
    },
    {
      "cell_type": "code",
      "source": [
        "df.isnull().sum()"
      ],
      "metadata": {
        "trusted": true,
        "id": "nIDOlHSoPV7p",
        "outputId": "ed2f8c9d-2d83-441d-f11e-4fa44acb677d"
      },
      "outputs": [
        {
          "execution_count": 4,
          "output_type": "execute_result",
          "data": {
            "text/plain": "Date                    0\nSymbol                  0\nSeries                  0\nPrev Close              0\nOpen                    0\nHigh                    0\nLow                     0\nLast                    0\nClose                   0\nVWAP                    0\nVolume                  0\nTurnover                0\nTrades                746\nDeliverable Volume      0\n%Deliverble             0\ndtype: int64"
          },
          "metadata": {}
        }
      ],
      "execution_count": null
    },
    {
      "cell_type": "code",
      "source": [
        "df['Trades']=df['Trades'].fillna(df['Trades'].mean())"
      ],
      "metadata": {
        "trusted": true,
        "execution": {
          "iopub.status.busy": "2024-11-20T08:40:05.237843Z",
          "iopub.execute_input": "2024-11-20T08:40:05.238223Z",
          "iopub.status.idle": "2024-11-20T08:40:05.245688Z",
          "shell.execute_reply.started": "2024-11-20T08:40:05.238193Z",
          "shell.execute_reply": "2024-11-20T08:40:05.244484Z"
        },
        "id": "Sr7cfZWVPV7p"
      },
      "outputs": [],
      "execution_count": null
    },
    {
      "cell_type": "code",
      "source": [
        "df.isnull().sum()"
      ],
      "metadata": {
        "trusted": true,
        "execution": {
          "iopub.status.busy": "2024-11-20T07:22:29.871116Z",
          "iopub.execute_input": "2024-11-20T07:22:29.87148Z",
          "iopub.status.idle": "2024-11-20T07:22:29.881412Z",
          "shell.execute_reply.started": "2024-11-20T07:22:29.871449Z",
          "shell.execute_reply": "2024-11-20T07:22:29.880158Z"
        },
        "id": "c0uiRJM3PV7p",
        "outputId": "1c03650c-ac05-4db3-b2d3-c8bebcce5ddd"
      },
      "outputs": [
        {
          "execution_count": 8,
          "output_type": "execute_result",
          "data": {
            "text/plain": "Date                  0\nSymbol                0\nSeries                0\nPrev Close            0\nOpen                  0\nHigh                  0\nLow                   0\nLast                  0\nClose                 0\nVWAP                  0\nVolume                0\nTurnover              0\nTrades                0\nDeliverable Volume    0\n%Deliverble           0\ndtype: int64"
          },
          "metadata": {}
        }
      ],
      "execution_count": null
    },
    {
      "cell_type": "code",
      "source": [
        "df['Symbol'].unique()"
      ],
      "metadata": {
        "trusted": true,
        "execution": {
          "iopub.status.busy": "2024-11-20T07:24:41.284662Z",
          "iopub.execute_input": "2024-11-20T07:24:41.285159Z",
          "iopub.status.idle": "2024-11-20T07:24:41.292838Z",
          "shell.execute_reply.started": "2024-11-20T07:24:41.285114Z",
          "shell.execute_reply": "2024-11-20T07:24:41.291653Z"
        },
        "id": "7K7sxukPPV7q",
        "outputId": "540f1d88-993f-48be-f6af-ceddb6635cb3"
      },
      "outputs": [
        {
          "execution_count": 9,
          "output_type": "execute_result",
          "data": {
            "text/plain": "array(['BAJAJ-AUTO'], dtype=object)"
          },
          "metadata": {}
        }
      ],
      "execution_count": null
    },
    {
      "cell_type": "code",
      "source": [
        "df.drop('Series',axis=1,inplace=True)"
      ],
      "metadata": {
        "trusted": true,
        "execution": {
          "iopub.status.busy": "2024-11-20T08:40:38.376382Z",
          "iopub.execute_input": "2024-11-20T08:40:38.376788Z",
          "iopub.status.idle": "2024-11-20T08:40:38.383875Z",
          "shell.execute_reply.started": "2024-11-20T08:40:38.376751Z",
          "shell.execute_reply": "2024-11-20T08:40:38.382724Z"
        },
        "id": "m_KHCnmIPV7q"
      },
      "outputs": [],
      "execution_count": null
    },
    {
      "cell_type": "code",
      "source": [
        "df['Date']=pd.to_datetime(df['Date'])\n",
        "df.index=df['Date']\n",
        "df.drop('Date',axis=1,inplace=True)"
      ],
      "metadata": {
        "trusted": true,
        "execution": {
          "iopub.status.busy": "2024-11-20T08:40:25.005668Z",
          "iopub.execute_input": "2024-11-20T08:40:25.006105Z",
          "iopub.status.idle": "2024-11-20T08:40:25.022404Z",
          "shell.execute_reply.started": "2024-11-20T08:40:25.006067Z",
          "shell.execute_reply": "2024-11-20T08:40:25.021092Z"
        },
        "id": "DH-yx7FzPV7q"
      },
      "outputs": [],
      "execution_count": null
    },
    {
      "cell_type": "code",
      "source": [
        "df.head()"
      ],
      "metadata": {
        "trusted": true,
        "execution": {
          "iopub.status.busy": "2024-11-20T08:40:41.471432Z",
          "iopub.execute_input": "2024-11-20T08:40:41.4718Z",
          "iopub.status.idle": "2024-11-20T08:40:41.492245Z",
          "shell.execute_reply.started": "2024-11-20T08:40:41.471769Z",
          "shell.execute_reply": "2024-11-20T08:40:41.491019Z"
        },
        "id": "NCa5mKlCPV7q",
        "outputId": "19875760-0d32-4838-beab-18ecf76cd535"
      },
      "outputs": [
        {
          "execution_count": 12,
          "output_type": "execute_result",
          "data": {
            "text/plain": "            Prev Close    Open   High     Low    Last   Close    VWAP  \\\nDate                                                                    \n2008-05-26     2101.05  898.00  898.0  551.35  600.25  604.75  624.61   \n2008-05-27      604.75  624.70  639.0  580.30  595.50  593.15  606.43   \n2008-05-28      593.15  561.65  621.9  561.65  605.10  608.15  608.75   \n2008-05-29      608.15  619.40  619.4  576.00  600.00  599.45  600.98   \n2008-05-30      599.45  605.40  607.0  538.00  576.25  571.70  565.55   \n\n             Volume      Turnover        Trades  Deliverable Volume  \\\nDate                                                                  \n2008-05-26  3972485  2.481245e+14  27487.876629             1202933   \n2008-05-27  1751063  1.061901e+14  27487.876629              369389   \n2008-05-28  1652355  1.005877e+14  27487.876629              898602   \n2008-05-29   669269  4.022165e+13  27487.876629              449951   \n2008-05-30  1262117  7.137937e+13  27487.876629              936432   \n\n            %Deliverble  \nDate                     \n2008-05-26       0.3028  \n2008-05-27       0.2110  \n2008-05-28       0.5438  \n2008-05-29       0.6723  \n2008-05-30       0.7420  ",
            "text/html": "<div>\n<style scoped>\n    .dataframe tbody tr th:only-of-type {\n        vertical-align: middle;\n    }\n\n    .dataframe tbody tr th {\n        vertical-align: top;\n    }\n\n    .dataframe thead th {\n        text-align: right;\n    }\n</style>\n<table border=\"1\" class=\"dataframe\">\n  <thead>\n    <tr style=\"text-align: right;\">\n      <th></th>\n      <th>Prev Close</th>\n      <th>Open</th>\n      <th>High</th>\n      <th>Low</th>\n      <th>Last</th>\n      <th>Close</th>\n      <th>VWAP</th>\n      <th>Volume</th>\n      <th>Turnover</th>\n      <th>Trades</th>\n      <th>Deliverable Volume</th>\n      <th>%Deliverble</th>\n    </tr>\n    <tr>\n      <th>Date</th>\n      <th></th>\n      <th></th>\n      <th></th>\n      <th></th>\n      <th></th>\n      <th></th>\n      <th></th>\n      <th></th>\n      <th></th>\n      <th></th>\n      <th></th>\n      <th></th>\n    </tr>\n  </thead>\n  <tbody>\n    <tr>\n      <th>2008-05-26</th>\n      <td>2101.05</td>\n      <td>898.00</td>\n      <td>898.0</td>\n      <td>551.35</td>\n      <td>600.25</td>\n      <td>604.75</td>\n      <td>624.61</td>\n      <td>3972485</td>\n      <td>2.481245e+14</td>\n      <td>27487.876629</td>\n      <td>1202933</td>\n      <td>0.3028</td>\n    </tr>\n    <tr>\n      <th>2008-05-27</th>\n      <td>604.75</td>\n      <td>624.70</td>\n      <td>639.0</td>\n      <td>580.30</td>\n      <td>595.50</td>\n      <td>593.15</td>\n      <td>606.43</td>\n      <td>1751063</td>\n      <td>1.061901e+14</td>\n      <td>27487.876629</td>\n      <td>369389</td>\n      <td>0.2110</td>\n    </tr>\n    <tr>\n      <th>2008-05-28</th>\n      <td>593.15</td>\n      <td>561.65</td>\n      <td>621.9</td>\n      <td>561.65</td>\n      <td>605.10</td>\n      <td>608.15</td>\n      <td>608.75</td>\n      <td>1652355</td>\n      <td>1.005877e+14</td>\n      <td>27487.876629</td>\n      <td>898602</td>\n      <td>0.5438</td>\n    </tr>\n    <tr>\n      <th>2008-05-29</th>\n      <td>608.15</td>\n      <td>619.40</td>\n      <td>619.4</td>\n      <td>576.00</td>\n      <td>600.00</td>\n      <td>599.45</td>\n      <td>600.98</td>\n      <td>669269</td>\n      <td>4.022165e+13</td>\n      <td>27487.876629</td>\n      <td>449951</td>\n      <td>0.6723</td>\n    </tr>\n    <tr>\n      <th>2008-05-30</th>\n      <td>599.45</td>\n      <td>605.40</td>\n      <td>607.0</td>\n      <td>538.00</td>\n      <td>576.25</td>\n      <td>571.70</td>\n      <td>565.55</td>\n      <td>1262117</td>\n      <td>7.137937e+13</td>\n      <td>27487.876629</td>\n      <td>936432</td>\n      <td>0.7420</td>\n    </tr>\n  </tbody>\n</table>\n</div>"
          },
          "metadata": {}
        }
      ],
      "execution_count": null
    },
    {
      "cell_type": "code",
      "source": [
        "from pandas import DataFrame, concat\n",
        "\n",
        "def series_to_supervised(data, n_in=1, n_out=1, dropnan=True, prefix=\"var\", column_names=None):\n",
        "    # Convert input to DataFrame\n",
        "    df = DataFrame(data)\n",
        "\n",
        "    # Use provided column names or infer from the DataFrame\n",
        "    if column_names is None:\n",
        "        column_names = df.columns  # Use original column names if not explicitly provided\n",
        "    else:\n",
        "        if len(column_names) != df.shape[1]:\n",
        "            raise ValueError(\"Length of column_names must match the number of columns in data\")\n",
        "\n",
        "    cols, names = list(), list()\n",
        "\n",
        "    # Create input sequence (t-n, ..., t-1)\n",
        "    for i in range(n_in, 0, -1):\n",
        "        cols.append(df.shift(i))\n",
        "        names += [f'{col}_{prefix}(t-{i})' for col in column_names]\n",
        "\n",
        "    # Create output sequence (t, t+1, ..., t+n)\n",
        "    for i in range(0, n_out):\n",
        "        cols.append(df.shift(-i))\n",
        "        if i == 0:\n",
        "            names += [f'{col}_{prefix}(t)' for col in column_names]\n",
        "        else:\n",
        "            names += [f'{col}_{prefix}(t+{i})' for col in column_names]\n",
        "\n",
        "    # Combine all columns\n",
        "    agg = concat(cols, axis=1)\n",
        "    agg.columns = names  # Assign meaningful column names\n",
        "\n",
        "    # Optionally drop rows with NaN values\n",
        "    if dropnan:\n",
        "        agg.dropna(inplace=True)\n",
        "    print('Completed series_to_supervised transformation.')\n",
        "    return agg\n"
      ],
      "metadata": {
        "trusted": true,
        "execution": {
          "iopub.status.busy": "2024-11-20T08:48:45.084228Z",
          "iopub.execute_input": "2024-11-20T08:48:45.084651Z",
          "iopub.status.idle": "2024-11-20T08:48:45.094474Z",
          "shell.execute_reply.started": "2024-11-20T08:48:45.084617Z",
          "shell.execute_reply": "2024-11-20T08:48:45.09319Z"
        },
        "id": "Uev1-YBNPV7q"
      },
      "outputs": [],
      "execution_count": null
    },
    {
      "cell_type": "code",
      "source": [
        "from sklearn.preprocessing import MinMaxScaler\n",
        "values=df.values\n",
        "values=values.astype('float32')\n",
        "scaled_values=scaler.fit_transform(values)\n",
        "reframed=series_to_supervised(scaled_values,1,1,column_names=df.columns)\n",
        "reframed.head()"
      ],
      "metadata": {
        "trusted": true,
        "execution": {
          "iopub.status.busy": "2024-11-20T08:49:35.889219Z",
          "iopub.execute_input": "2024-11-20T08:49:35.889599Z",
          "iopub.status.idle": "2024-11-20T08:49:35.923017Z",
          "shell.execute_reply.started": "2024-11-20T08:49:35.889568Z",
          "shell.execute_reply": "2024-11-20T08:49:35.921756Z"
        },
        "id": "jBRWL70rPV7r",
        "outputId": "1f51e9c1-7274-4fd1-ce40-84bf186a9104"
      },
      "outputs": [
        {
          "name": "stdout",
          "text": "Completed series_to_supervised transformation.\n",
          "output_type": "stream"
        },
        {
          "execution_count": 34,
          "output_type": "execute_result",
          "data": {
            "text/plain": "   Prev Close_var(t-1)  Open_var(t-1)  High_var(t-1)  Low_var(t-1)  \\\n1             0.457153       0.159080       0.145757      0.073476   \n2             0.076952       0.090720       0.081875      0.080828   \n3             0.074005       0.074950       0.077657      0.076092   \n4             0.077816       0.089395       0.077041      0.079736   \n5             0.075606       0.085893       0.073982      0.070086   \n\n   Last_var(t-1)  Close_var(t-1)  VWAP_var(t-1)  Volume_var(t-1)  \\\n1       0.076283        0.076952       0.081503         0.465007   \n2       0.075076        0.074005       0.076910         0.204648   \n3       0.077515        0.077816       0.077496         0.193080   \n4       0.076220        0.075606       0.075533         0.077859   \n5       0.070185        0.068555       0.066583         0.147342   \n\n   Turnover_var(t-1)  Trades_var(t-1)  ...  High_var(t)  Low_var(t)  \\\n1           0.072134         0.068002  ...     0.081875    0.080828   \n2           0.030830         0.068002  ...     0.077657    0.076092   \n3           0.029199         0.068002  ...     0.077041    0.079736   \n4           0.011632         0.068002  ...     0.073982    0.070086   \n5           0.020699         0.068002  ...     0.075955    0.078390   \n\n   Last_var(t)  Close_var(t)  VWAP_var(t)  Volume_var(t)  Turnover_var(t)  \\\n1     0.075076      0.074005     0.076910       0.204648         0.030830   \n2     0.077515      0.077816     0.077496       0.193080         0.029199   \n3     0.076220      0.075606     0.075533       0.077859         0.011632   \n4     0.070185      0.068555     0.066583       0.147342         0.020699   \n5     0.069360      0.070867     0.074856       0.023637         0.003525   \n\n   Trades_var(t)  Deliverable Volume_var(t)  %Deliverble_var(t)  \n1       0.068002                   0.088630            0.148867  \n2       0.068002                   0.216053            0.507875  \n3       0.068002                   0.108028            0.646494  \n4       0.068002                   0.225162            0.721683  \n5       0.068002                   0.016403            0.283603  \n\n[5 rows x 24 columns]",
            "text/html": "<div>\n<style scoped>\n    .dataframe tbody tr th:only-of-type {\n        vertical-align: middle;\n    }\n\n    .dataframe tbody tr th {\n        vertical-align: top;\n    }\n\n    .dataframe thead th {\n        text-align: right;\n    }\n</style>\n<table border=\"1\" class=\"dataframe\">\n  <thead>\n    <tr style=\"text-align: right;\">\n      <th></th>\n      <th>Prev Close_var(t-1)</th>\n      <th>Open_var(t-1)</th>\n      <th>High_var(t-1)</th>\n      <th>Low_var(t-1)</th>\n      <th>Last_var(t-1)</th>\n      <th>Close_var(t-1)</th>\n      <th>VWAP_var(t-1)</th>\n      <th>Volume_var(t-1)</th>\n      <th>Turnover_var(t-1)</th>\n      <th>Trades_var(t-1)</th>\n      <th>...</th>\n      <th>High_var(t)</th>\n      <th>Low_var(t)</th>\n      <th>Last_var(t)</th>\n      <th>Close_var(t)</th>\n      <th>VWAP_var(t)</th>\n      <th>Volume_var(t)</th>\n      <th>Turnover_var(t)</th>\n      <th>Trades_var(t)</th>\n      <th>Deliverable Volume_var(t)</th>\n      <th>%Deliverble_var(t)</th>\n    </tr>\n  </thead>\n  <tbody>\n    <tr>\n      <th>1</th>\n      <td>0.457153</td>\n      <td>0.159080</td>\n      <td>0.145757</td>\n      <td>0.073476</td>\n      <td>0.076283</td>\n      <td>0.076952</td>\n      <td>0.081503</td>\n      <td>0.465007</td>\n      <td>0.072134</td>\n      <td>0.068002</td>\n      <td>...</td>\n      <td>0.081875</td>\n      <td>0.080828</td>\n      <td>0.075076</td>\n      <td>0.074005</td>\n      <td>0.076910</td>\n      <td>0.204648</td>\n      <td>0.030830</td>\n      <td>0.068002</td>\n      <td>0.088630</td>\n      <td>0.148867</td>\n    </tr>\n    <tr>\n      <th>2</th>\n      <td>0.076952</td>\n      <td>0.090720</td>\n      <td>0.081875</td>\n      <td>0.080828</td>\n      <td>0.075076</td>\n      <td>0.074005</td>\n      <td>0.076910</td>\n      <td>0.204648</td>\n      <td>0.030830</td>\n      <td>0.068002</td>\n      <td>...</td>\n      <td>0.077657</td>\n      <td>0.076092</td>\n      <td>0.077515</td>\n      <td>0.077816</td>\n      <td>0.077496</td>\n      <td>0.193080</td>\n      <td>0.029199</td>\n      <td>0.068002</td>\n      <td>0.216053</td>\n      <td>0.507875</td>\n    </tr>\n    <tr>\n      <th>3</th>\n      <td>0.074005</td>\n      <td>0.074950</td>\n      <td>0.077657</td>\n      <td>0.076092</td>\n      <td>0.077515</td>\n      <td>0.077816</td>\n      <td>0.077496</td>\n      <td>0.193080</td>\n      <td>0.029199</td>\n      <td>0.068002</td>\n      <td>...</td>\n      <td>0.077041</td>\n      <td>0.079736</td>\n      <td>0.076220</td>\n      <td>0.075606</td>\n      <td>0.075533</td>\n      <td>0.077859</td>\n      <td>0.011632</td>\n      <td>0.068002</td>\n      <td>0.108028</td>\n      <td>0.646494</td>\n    </tr>\n    <tr>\n      <th>4</th>\n      <td>0.077816</td>\n      <td>0.089395</td>\n      <td>0.077041</td>\n      <td>0.079736</td>\n      <td>0.076220</td>\n      <td>0.075606</td>\n      <td>0.075533</td>\n      <td>0.077859</td>\n      <td>0.011632</td>\n      <td>0.068002</td>\n      <td>...</td>\n      <td>0.073982</td>\n      <td>0.070086</td>\n      <td>0.070185</td>\n      <td>0.068555</td>\n      <td>0.066583</td>\n      <td>0.147342</td>\n      <td>0.020699</td>\n      <td>0.068002</td>\n      <td>0.225162</td>\n      <td>0.721683</td>\n    </tr>\n    <tr>\n      <th>5</th>\n      <td>0.075606</td>\n      <td>0.085893</td>\n      <td>0.073982</td>\n      <td>0.070086</td>\n      <td>0.070185</td>\n      <td>0.068555</td>\n      <td>0.066583</td>\n      <td>0.147342</td>\n      <td>0.020699</td>\n      <td>0.068002</td>\n      <td>...</td>\n      <td>0.075955</td>\n      <td>0.078390</td>\n      <td>0.069360</td>\n      <td>0.070867</td>\n      <td>0.074856</td>\n      <td>0.023637</td>\n      <td>0.003525</td>\n      <td>0.068002</td>\n      <td>0.016403</td>\n      <td>0.283603</td>\n    </tr>\n  </tbody>\n</table>\n<p>5 rows × 24 columns</p>\n</div>"
          },
          "metadata": {}
        }
      ],
      "execution_count": null
    },
    {
      "cell_type": "code",
      "source": [
        "from sklearn.preprocessing import MinMaxScaler\n",
        "values=df.values\n",
        "values=values.astype('float32')\n",
        "##scaled_values=scaler.fit_transform(values)\n",
        "reframed=series_to_supervised(values,1,1,column_names=df.columns)\n",
        "reframed.head()"
      ],
      "metadata": {
        "trusted": true,
        "execution": {
          "iopub.status.busy": "2024-11-20T09:50:34.928687Z",
          "iopub.execute_input": "2024-11-20T09:50:34.929241Z",
          "iopub.status.idle": "2024-11-20T09:50:34.969388Z",
          "shell.execute_reply.started": "2024-11-20T09:50:34.929188Z",
          "shell.execute_reply": "2024-11-20T09:50:34.968213Z"
        },
        "id": "8BoiMFh7PV7r",
        "outputId": "40a2f0e0-876d-44a4-a047-1490b50401f0"
      },
      "outputs": [
        {
          "name": "stdout",
          "text": "Completed series_to_supervised transformation.\n",
          "output_type": "stream"
        },
        {
          "execution_count": 100,
          "output_type": "execute_result",
          "data": {
            "text/plain": "   Prev Close_var(t-1)  Open_var(t-1)  High_var(t-1)  Low_var(t-1)  \\\n1          2101.050049     898.000000     898.000000    551.349976   \n2           604.750000     624.700012     639.000000    580.299988   \n3           593.150024     561.650024     621.900024    561.650024   \n4           608.150024     619.400024     619.400024    576.000000   \n5           599.450012     605.400024     607.000000    538.000000   \n\n   Last_var(t-1)  Close_var(t-1)  VWAP_var(t-1)  Volume_var(t-1)  \\\n1     600.250000      604.750000     624.609985        3972485.0   \n2     595.500000      593.150024     606.429993        1751063.0   \n3     605.099976      608.150024     608.750000        1652355.0   \n4     600.000000      599.450012     600.979980         669269.0   \n5     576.250000      571.700012     565.549988        1262117.0   \n\n   Turnover_var(t-1)  Trades_var(t-1)  ...  High_var(t)  Low_var(t)  \\\n1       2.481245e+14     27487.876953  ...   639.000000  580.299988   \n2       1.061901e+14     27487.876953  ...   621.900024  561.650024   \n3       1.005877e+14     27487.876953  ...   619.400024  576.000000   \n4       4.022165e+13     27487.876953  ...   607.000000  538.000000   \n5       7.137937e+13     27487.876953  ...   615.000000  570.700012   \n\n   Last_var(t)  Close_var(t)  VWAP_var(t)  Volume_var(t)  Turnover_var(t)  \\\n1   595.500000    593.150024   606.429993      1751063.0     1.061901e+14   \n2   605.099976    608.150024   608.750000      1652355.0     1.005877e+14   \n3   600.000000    599.450012   600.979980       669269.0     4.022165e+13   \n4   576.250000    571.700012   565.549988      1262117.0     7.137937e+13   \n5   573.000000    580.799988   598.299988       206640.0     1.236326e+13   \n\n   Trades_var(t)  Deliverable Volume_var(t)  %Deliverble_var(t)  \n1   27487.876953                   369389.0              0.2110  \n2   27487.876953                   898602.0              0.5438  \n3   27487.876953                   449951.0              0.6723  \n4   27487.876953                   936432.0              0.7420  \n5   27487.876953                    69415.0              0.3359  \n\n[5 rows x 24 columns]",
            "text/html": "<div>\n<style scoped>\n    .dataframe tbody tr th:only-of-type {\n        vertical-align: middle;\n    }\n\n    .dataframe tbody tr th {\n        vertical-align: top;\n    }\n\n    .dataframe thead th {\n        text-align: right;\n    }\n</style>\n<table border=\"1\" class=\"dataframe\">\n  <thead>\n    <tr style=\"text-align: right;\">\n      <th></th>\n      <th>Prev Close_var(t-1)</th>\n      <th>Open_var(t-1)</th>\n      <th>High_var(t-1)</th>\n      <th>Low_var(t-1)</th>\n      <th>Last_var(t-1)</th>\n      <th>Close_var(t-1)</th>\n      <th>VWAP_var(t-1)</th>\n      <th>Volume_var(t-1)</th>\n      <th>Turnover_var(t-1)</th>\n      <th>Trades_var(t-1)</th>\n      <th>...</th>\n      <th>High_var(t)</th>\n      <th>Low_var(t)</th>\n      <th>Last_var(t)</th>\n      <th>Close_var(t)</th>\n      <th>VWAP_var(t)</th>\n      <th>Volume_var(t)</th>\n      <th>Turnover_var(t)</th>\n      <th>Trades_var(t)</th>\n      <th>Deliverable Volume_var(t)</th>\n      <th>%Deliverble_var(t)</th>\n    </tr>\n  </thead>\n  <tbody>\n    <tr>\n      <th>1</th>\n      <td>2101.050049</td>\n      <td>898.000000</td>\n      <td>898.000000</td>\n      <td>551.349976</td>\n      <td>600.250000</td>\n      <td>604.750000</td>\n      <td>624.609985</td>\n      <td>3972485.0</td>\n      <td>2.481245e+14</td>\n      <td>27487.876953</td>\n      <td>...</td>\n      <td>639.000000</td>\n      <td>580.299988</td>\n      <td>595.500000</td>\n      <td>593.150024</td>\n      <td>606.429993</td>\n      <td>1751063.0</td>\n      <td>1.061901e+14</td>\n      <td>27487.876953</td>\n      <td>369389.0</td>\n      <td>0.2110</td>\n    </tr>\n    <tr>\n      <th>2</th>\n      <td>604.750000</td>\n      <td>624.700012</td>\n      <td>639.000000</td>\n      <td>580.299988</td>\n      <td>595.500000</td>\n      <td>593.150024</td>\n      <td>606.429993</td>\n      <td>1751063.0</td>\n      <td>1.061901e+14</td>\n      <td>27487.876953</td>\n      <td>...</td>\n      <td>621.900024</td>\n      <td>561.650024</td>\n      <td>605.099976</td>\n      <td>608.150024</td>\n      <td>608.750000</td>\n      <td>1652355.0</td>\n      <td>1.005877e+14</td>\n      <td>27487.876953</td>\n      <td>898602.0</td>\n      <td>0.5438</td>\n    </tr>\n    <tr>\n      <th>3</th>\n      <td>593.150024</td>\n      <td>561.650024</td>\n      <td>621.900024</td>\n      <td>561.650024</td>\n      <td>605.099976</td>\n      <td>608.150024</td>\n      <td>608.750000</td>\n      <td>1652355.0</td>\n      <td>1.005877e+14</td>\n      <td>27487.876953</td>\n      <td>...</td>\n      <td>619.400024</td>\n      <td>576.000000</td>\n      <td>600.000000</td>\n      <td>599.450012</td>\n      <td>600.979980</td>\n      <td>669269.0</td>\n      <td>4.022165e+13</td>\n      <td>27487.876953</td>\n      <td>449951.0</td>\n      <td>0.6723</td>\n    </tr>\n    <tr>\n      <th>4</th>\n      <td>608.150024</td>\n      <td>619.400024</td>\n      <td>619.400024</td>\n      <td>576.000000</td>\n      <td>600.000000</td>\n      <td>599.450012</td>\n      <td>600.979980</td>\n      <td>669269.0</td>\n      <td>4.022165e+13</td>\n      <td>27487.876953</td>\n      <td>...</td>\n      <td>607.000000</td>\n      <td>538.000000</td>\n      <td>576.250000</td>\n      <td>571.700012</td>\n      <td>565.549988</td>\n      <td>1262117.0</td>\n      <td>7.137937e+13</td>\n      <td>27487.876953</td>\n      <td>936432.0</td>\n      <td>0.7420</td>\n    </tr>\n    <tr>\n      <th>5</th>\n      <td>599.450012</td>\n      <td>605.400024</td>\n      <td>607.000000</td>\n      <td>538.000000</td>\n      <td>576.250000</td>\n      <td>571.700012</td>\n      <td>565.549988</td>\n      <td>1262117.0</td>\n      <td>7.137937e+13</td>\n      <td>27487.876953</td>\n      <td>...</td>\n      <td>615.000000</td>\n      <td>570.700012</td>\n      <td>573.000000</td>\n      <td>580.799988</td>\n      <td>598.299988</td>\n      <td>206640.0</td>\n      <td>1.236326e+13</td>\n      <td>27487.876953</td>\n      <td>69415.0</td>\n      <td>0.3359</td>\n    </tr>\n  </tbody>\n</table>\n<p>5 rows × 24 columns</p>\n</div>"
          },
          "metadata": {}
        }
      ],
      "execution_count": null
    },
    {
      "cell_type": "code",
      "source": [],
      "metadata": {
        "trusted": true,
        "id": "gFwntpKdPV7r"
      },
      "outputs": [],
      "execution_count": null
    },
    {
      "cell_type": "code",
      "source": [
        "reframed.info()"
      ],
      "metadata": {
        "trusted": true,
        "execution": {
          "iopub.status.busy": "2024-11-20T09:54:20.028636Z",
          "iopub.execute_input": "2024-11-20T09:54:20.029128Z",
          "iopub.status.idle": "2024-11-20T09:54:20.042674Z",
          "shell.execute_reply.started": "2024-11-20T09:54:20.029088Z",
          "shell.execute_reply": "2024-11-20T09:54:20.041317Z"
        },
        "id": "Ar48A7cbPV7r",
        "outputId": "48ae0f61-e1fd-48c3-b129-8a17e3a259d7"
      },
      "outputs": [
        {
          "name": "stdout",
          "text": "<class 'pandas.core.frame.DataFrame'>\nIndex: 3201 entries, 1 to 3201\nData columns (total 24 columns):\n #   Column                       Non-Null Count  Dtype  \n---  ------                       --------------  -----  \n 0   Prev Close_var(t-1)          3201 non-null   float32\n 1   Open_var(t-1)                3201 non-null   float32\n 2   High_var(t-1)                3201 non-null   float32\n 3   Low_var(t-1)                 3201 non-null   float32\n 4   Last_var(t-1)                3201 non-null   float32\n 5   Close_var(t-1)               3201 non-null   float32\n 6   VWAP_var(t-1)                3201 non-null   float32\n 7   Volume_var(t-1)              3201 non-null   float32\n 8   Turnover_var(t-1)            3201 non-null   float32\n 9   Trades_var(t-1)              3201 non-null   float32\n 10  Deliverable Volume_var(t-1)  3201 non-null   float32\n 11  %Deliverble_var(t-1)         3201 non-null   float32\n 12  Prev Close_var(t)            3201 non-null   float32\n 13  Open_var(t)                  3201 non-null   float32\n 14  High_var(t)                  3201 non-null   float32\n 15  Low_var(t)                   3201 non-null   float32\n 16  Last_var(t)                  3201 non-null   float32\n 17  Close_var(t)                 3201 non-null   float32\n 18  VWAP_var(t)                  3201 non-null   float32\n 19  Volume_var(t)                3201 non-null   float32\n 20  Turnover_var(t)              3201 non-null   float32\n 21  Trades_var(t)                3201 non-null   float32\n 22  Deliverable Volume_var(t)    3201 non-null   float32\n 23  %Deliverble_var(t)           3201 non-null   float32\ndtypes: float32(24)\nmemory usage: 325.1 KB\n",
          "output_type": "stream"
        }
      ],
      "execution_count": null
    },
    {
      "cell_type": "code",
      "source": [
        "df.index.min()"
      ],
      "metadata": {
        "trusted": true,
        "execution": {
          "iopub.status.busy": "2024-11-20T08:53:30.82636Z",
          "iopub.execute_input": "2024-11-20T08:53:30.826928Z",
          "iopub.status.idle": "2024-11-20T08:53:30.838224Z",
          "shell.execute_reply.started": "2024-11-20T08:53:30.826875Z",
          "shell.execute_reply": "2024-11-20T08:53:30.83693Z"
        },
        "id": "jfcMhg-HPV7s",
        "outputId": "69b12bdf-1777-4112-a0ee-c8ed9548049e"
      },
      "outputs": [
        {
          "execution_count": 36,
          "output_type": "execute_result",
          "data": {
            "text/plain": "Timestamp('2008-05-26 00:00:00')"
          },
          "metadata": {}
        }
      ],
      "execution_count": null
    },
    {
      "cell_type": "code",
      "source": [
        "df.index.max()"
      ],
      "metadata": {
        "trusted": true,
        "execution": {
          "iopub.status.busy": "2024-11-20T08:53:36.468208Z",
          "iopub.execute_input": "2024-11-20T08:53:36.469334Z",
          "iopub.status.idle": "2024-11-20T08:53:36.477459Z",
          "shell.execute_reply.started": "2024-11-20T08:53:36.46925Z",
          "shell.execute_reply": "2024-11-20T08:53:36.47611Z"
        },
        "id": "ikP0-tukPV7s",
        "outputId": "66960341-c5f9-4208-ac0e-88b6e932ac28"
      },
      "outputs": [
        {
          "execution_count": 37,
          "output_type": "execute_result",
          "data": {
            "text/plain": "Timestamp('2021-04-30 00:00:00')"
          },
          "metadata": {}
        }
      ],
      "execution_count": null
    },
    {
      "cell_type": "code",
      "source": [
        "filter_col=reframed.iloc[:,:output_col_index+1]\n",
        "filter_col.head()"
      ],
      "metadata": {
        "trusted": true,
        "execution": {
          "iopub.status.busy": "2024-11-20T09:56:12.890936Z",
          "iopub.execute_input": "2024-11-20T09:56:12.891461Z",
          "iopub.status.idle": "2024-11-20T09:56:12.91663Z",
          "shell.execute_reply.started": "2024-11-20T09:56:12.891413Z",
          "shell.execute_reply": "2024-11-20T09:56:12.915356Z"
        },
        "id": "9iw1k6eiPV7s",
        "outputId": "dad00de6-235e-473d-8830-c9007f19d27e"
      },
      "outputs": [
        {
          "execution_count": 108,
          "output_type": "execute_result",
          "data": {
            "text/plain": "   Prev Close_var(t-1)  Open_var(t-1)  High_var(t-1)  Low_var(t-1)  \\\n1          2101.050049     898.000000     898.000000    551.349976   \n2           604.750000     624.700012     639.000000    580.299988   \n3           593.150024     561.650024     621.900024    561.650024   \n4           608.150024     619.400024     619.400024    576.000000   \n5           599.450012     605.400024     607.000000    538.000000   \n\n   Last_var(t-1)  Close_var(t-1)  VWAP_var(t-1)  Volume_var(t-1)  \\\n1     600.250000      604.750000     624.609985        3972485.0   \n2     595.500000      593.150024     606.429993        1751063.0   \n3     605.099976      608.150024     608.750000        1652355.0   \n4     600.000000      599.450012     600.979980         669269.0   \n5     576.250000      571.700012     565.549988        1262117.0   \n\n   Turnover_var(t-1)  Trades_var(t-1)  Deliverable Volume_var(t-1)  \\\n1       2.481245e+14     27487.876953                    1202933.0   \n2       1.061901e+14     27487.876953                     369389.0   \n3       1.005877e+14     27487.876953                     898602.0   \n4       4.022165e+13     27487.876953                     449951.0   \n5       7.137937e+13     27487.876953                     936432.0   \n\n   %Deliverble_var(t-1)  Prev Close_var(t)  Open_var(t)  High_var(t)  \\\n1                0.3028         604.750000   624.700012   639.000000   \n2                0.2110         593.150024   561.650024   621.900024   \n3                0.5438         608.150024   619.400024   619.400024   \n4                0.6723         599.450012   605.400024   607.000000   \n5                0.7420         571.700012   605.500000   615.000000   \n\n   Low_var(t)  Last_var(t)  Close_var(t)  \n1  580.299988   595.500000    593.150024  \n2  561.650024   605.099976    608.150024  \n3  576.000000   600.000000    599.450012  \n4  538.000000   576.250000    571.700012  \n5  570.700012   573.000000    580.799988  ",
            "text/html": "<div>\n<style scoped>\n    .dataframe tbody tr th:only-of-type {\n        vertical-align: middle;\n    }\n\n    .dataframe tbody tr th {\n        vertical-align: top;\n    }\n\n    .dataframe thead th {\n        text-align: right;\n    }\n</style>\n<table border=\"1\" class=\"dataframe\">\n  <thead>\n    <tr style=\"text-align: right;\">\n      <th></th>\n      <th>Prev Close_var(t-1)</th>\n      <th>Open_var(t-1)</th>\n      <th>High_var(t-1)</th>\n      <th>Low_var(t-1)</th>\n      <th>Last_var(t-1)</th>\n      <th>Close_var(t-1)</th>\n      <th>VWAP_var(t-1)</th>\n      <th>Volume_var(t-1)</th>\n      <th>Turnover_var(t-1)</th>\n      <th>Trades_var(t-1)</th>\n      <th>Deliverable Volume_var(t-1)</th>\n      <th>%Deliverble_var(t-1)</th>\n      <th>Prev Close_var(t)</th>\n      <th>Open_var(t)</th>\n      <th>High_var(t)</th>\n      <th>Low_var(t)</th>\n      <th>Last_var(t)</th>\n      <th>Close_var(t)</th>\n    </tr>\n  </thead>\n  <tbody>\n    <tr>\n      <th>1</th>\n      <td>2101.050049</td>\n      <td>898.000000</td>\n      <td>898.000000</td>\n      <td>551.349976</td>\n      <td>600.250000</td>\n      <td>604.750000</td>\n      <td>624.609985</td>\n      <td>3972485.0</td>\n      <td>2.481245e+14</td>\n      <td>27487.876953</td>\n      <td>1202933.0</td>\n      <td>0.3028</td>\n      <td>604.750000</td>\n      <td>624.700012</td>\n      <td>639.000000</td>\n      <td>580.299988</td>\n      <td>595.500000</td>\n      <td>593.150024</td>\n    </tr>\n    <tr>\n      <th>2</th>\n      <td>604.750000</td>\n      <td>624.700012</td>\n      <td>639.000000</td>\n      <td>580.299988</td>\n      <td>595.500000</td>\n      <td>593.150024</td>\n      <td>606.429993</td>\n      <td>1751063.0</td>\n      <td>1.061901e+14</td>\n      <td>27487.876953</td>\n      <td>369389.0</td>\n      <td>0.2110</td>\n      <td>593.150024</td>\n      <td>561.650024</td>\n      <td>621.900024</td>\n      <td>561.650024</td>\n      <td>605.099976</td>\n      <td>608.150024</td>\n    </tr>\n    <tr>\n      <th>3</th>\n      <td>593.150024</td>\n      <td>561.650024</td>\n      <td>621.900024</td>\n      <td>561.650024</td>\n      <td>605.099976</td>\n      <td>608.150024</td>\n      <td>608.750000</td>\n      <td>1652355.0</td>\n      <td>1.005877e+14</td>\n      <td>27487.876953</td>\n      <td>898602.0</td>\n      <td>0.5438</td>\n      <td>608.150024</td>\n      <td>619.400024</td>\n      <td>619.400024</td>\n      <td>576.000000</td>\n      <td>600.000000</td>\n      <td>599.450012</td>\n    </tr>\n    <tr>\n      <th>4</th>\n      <td>608.150024</td>\n      <td>619.400024</td>\n      <td>619.400024</td>\n      <td>576.000000</td>\n      <td>600.000000</td>\n      <td>599.450012</td>\n      <td>600.979980</td>\n      <td>669269.0</td>\n      <td>4.022165e+13</td>\n      <td>27487.876953</td>\n      <td>449951.0</td>\n      <td>0.6723</td>\n      <td>599.450012</td>\n      <td>605.400024</td>\n      <td>607.000000</td>\n      <td>538.000000</td>\n      <td>576.250000</td>\n      <td>571.700012</td>\n    </tr>\n    <tr>\n      <th>5</th>\n      <td>599.450012</td>\n      <td>605.400024</td>\n      <td>607.000000</td>\n      <td>538.000000</td>\n      <td>576.250000</td>\n      <td>571.700012</td>\n      <td>565.549988</td>\n      <td>1262117.0</td>\n      <td>7.137937e+13</td>\n      <td>27487.876953</td>\n      <td>936432.0</td>\n      <td>0.7420</td>\n      <td>571.700012</td>\n      <td>605.500000</td>\n      <td>615.000000</td>\n      <td>570.700012</td>\n      <td>573.000000</td>\n      <td>580.799988</td>\n    </tr>\n  </tbody>\n</table>\n</div>"
          },
          "metadata": {}
        }
      ],
      "execution_count": null
    },
    {
      "cell_type": "code",
      "source": [
        "values=filter_col.values\n",
        "scaler=MinMaxScaler(feature_range=(0,1))\n",
        "scaled_values=scaler.fit_transform(values)"
      ],
      "metadata": {
        "trusted": true,
        "execution": {
          "iopub.status.busy": "2024-11-20T10:01:33.862388Z",
          "iopub.execute_input": "2024-11-20T10:01:33.863368Z",
          "iopub.status.idle": "2024-11-20T10:01:33.874048Z",
          "shell.execute_reply.started": "2024-11-20T10:01:33.863304Z",
          "shell.execute_reply": "2024-11-20T10:01:33.872808Z"
        },
        "id": "gvQSAHNDPV7s"
      },
      "outputs": [],
      "execution_count": null
    },
    {
      "cell_type": "code",
      "source": [
        "scaled_values"
      ],
      "metadata": {
        "trusted": true,
        "execution": {
          "iopub.status.busy": "2024-11-20T10:02:04.303466Z",
          "iopub.execute_input": "2024-11-20T10:02:04.304009Z",
          "iopub.status.idle": "2024-11-20T10:02:04.313718Z",
          "shell.execute_reply.started": "2024-11-20T10:02:04.303956Z",
          "shell.execute_reply": "2024-11-20T10:02:04.312313Z"
        },
        "id": "TKuB13BxPV7s",
        "outputId": "3c025bc5-11bf-4a49-ac1f-12fcad5961d8"
      },
      "outputs": [
        {
          "execution_count": 118,
          "output_type": "execute_result",
          "data": {
            "text/plain": "array([[0.45715338, 0.15907955, 0.14575705, ..., 0.08082784, 0.07507621,\n        0.0740049 ],\n       [0.0769524 , 0.09072036, 0.08187503, ..., 0.07609194, 0.07751524,\n        0.07781632],\n       [0.0740049 , 0.07494999, 0.07765735, ..., 0.07973591, 0.07621951,\n        0.07560571],\n       ...,\n       [0.87330866, 0.8696474 , 0.8610382 , ..., 0.90020317, 0.9113694 ,\n        0.91165143],\n       [0.8851621 , 0.8874563 , 0.8995154 , ..., 0.90022856, 0.89404213,\n        0.8981082 ],\n       [0.91165143, 0.9207104 , 0.8995894 , ..., 0.89842564, 0.89608735,\n        0.8974222 ]], dtype=float32)"
          },
          "metadata": {}
        }
      ],
      "execution_count": null
    },
    {
      "cell_type": "code",
      "source": [
        "scaled_values.shape"
      ],
      "metadata": {
        "trusted": true,
        "execution": {
          "iopub.status.busy": "2024-11-20T10:02:12.45392Z",
          "iopub.execute_input": "2024-11-20T10:02:12.454395Z",
          "iopub.status.idle": "2024-11-20T10:02:12.461854Z",
          "shell.execute_reply.started": "2024-11-20T10:02:12.454359Z",
          "shell.execute_reply": "2024-11-20T10:02:12.460638Z"
        },
        "id": "0eeZt9NYPV7s",
        "outputId": "b2fae9e3-eb6b-481a-ea1e-fb4be8a555aa"
      },
      "outputs": [
        {
          "execution_count": 119,
          "output_type": "execute_result",
          "data": {
            "text/plain": "(3201, 18)"
          },
          "metadata": {}
        }
      ],
      "execution_count": null
    },
    {
      "cell_type": "code",
      "source": [
        "# # Split data into training, validation, and testing sets\n",
        "# #values = reframed.values\n",
        "\n",
        "# # Define the number of training and validation days\n",
        "# n_train_days = round(len(filter_col)*(60/100),0)  # 8 years of daily data for training\n",
        "# n_validation_days = n_train_days+round(len(filter_col)*(20/100),0)  # 1 year of daily data for validation\n",
        "\n",
        "# # Determine slices for train, validation, and test\n",
        "# train = scaled_values[:n_train_days, :]  # First part for training\n",
        "# validation = scaled_values[n_train_days:n_train_days + n_validation_days, :]  # Next part for validation\n",
        "# test = scaled_values[n_train_days + n_validation_days:, :]  # Remaining part for testing\n",
        "\n",
        "# # Specify the index for the output column\n",
        "# output_col_index = 17  # 18th column (zero-based index)\n",
        "\n",
        "# # Split into input (X) and output (y) for training\n",
        "# train_X = train[:, :output_col_index+1]  # All columns before the output\n",
        "# train_y = train[:, output_col_index+1]  # The 18th column (output)\n",
        "\n",
        "# # Split into input (X) and output (y) for validation\n",
        "# validation_X = validation[:, :output_col_index+1]\n",
        "# validation_y = validation[:, output_col_index+1]\n",
        "\n",
        "# # Split into input (X) and output (y) for testing\n",
        "# test_X = test[:, :output_col_index+1]\n",
        "# test_y = test[:, output_col_index+1]\n",
        "\n",
        "# # Reshape input to be 3D [samples, timesteps, features]\n",
        "# train_X = train_X.reshape((train_X.shape[0], 1, train_X.shape[1]))\n",
        "# validation_X = validation_X.reshape((validation_X.shape[0], 1, validation_X.shape[1]))\n",
        "# test_X = test_X.reshape((test_X.shape[0], 1, test_X.shape[1]))\n",
        "\n",
        "# # Print the shapes\n",
        "# print(\"Training set shapes:\")\n",
        "# print(train_X.shape, train_y.shape)\n",
        "\n",
        "# print(\"\\nValidation set shapes:\")\n",
        "# print(validation_X.shape, validation_y.shape)\n",
        "\n",
        "# print(\"\\nTest set shapes:\")\n",
        "# print(test_X.shape, test_y.shape)\n"
      ],
      "metadata": {
        "trusted": true,
        "execution": {
          "iopub.status.busy": "2024-11-20T10:01:45.394785Z",
          "iopub.execute_input": "2024-11-20T10:01:45.395178Z",
          "iopub.status.idle": "2024-11-20T10:01:45.494651Z",
          "shell.execute_reply.started": "2024-11-20T10:01:45.395145Z",
          "shell.execute_reply": "2024-11-20T10:01:45.492942Z"
        },
        "id": "T1LFqX_VPV7s",
        "outputId": "4f390c4c-12ec-4fc8-f164-84153c16aaa1"
      },
      "outputs": [
        {
          "traceback": [
            "\u001b[0;31m---------------------------------------------------------------------------\u001b[0m",
            "\u001b[0;31mTypeError\u001b[0m                                 Traceback (most recent call last)",
            "Cell \u001b[0;32mIn[117], line 9\u001b[0m\n\u001b[1;32m      6\u001b[0m n_validation_days \u001b[38;5;241m=\u001b[39m n_train_days\u001b[38;5;241m+\u001b[39m\u001b[38;5;28mround\u001b[39m(\u001b[38;5;28mlen\u001b[39m(filter_col)\u001b[38;5;241m*\u001b[39m(\u001b[38;5;241m20\u001b[39m\u001b[38;5;241m/\u001b[39m\u001b[38;5;241m100\u001b[39m),\u001b[38;5;241m0\u001b[39m)  \u001b[38;5;66;03m# 1 year of daily data for validation\u001b[39;00m\n\u001b[1;32m      8\u001b[0m \u001b[38;5;66;03m# Determine slices for train, validation, and test\u001b[39;00m\n\u001b[0;32m----> 9\u001b[0m train \u001b[38;5;241m=\u001b[39m \u001b[43mscaled_values\u001b[49m\u001b[43m[\u001b[49m\u001b[43m:\u001b[49m\u001b[43mn_train_days\u001b[49m\u001b[43m,\u001b[49m\u001b[43m \u001b[49m\u001b[43m:\u001b[49m\u001b[43m]\u001b[49m  \u001b[38;5;66;03m# First part for training\u001b[39;00m\n\u001b[1;32m     10\u001b[0m validation \u001b[38;5;241m=\u001b[39m scaled_values[n_train_days:n_train_days \u001b[38;5;241m+\u001b[39m n_validation_days, :]  \u001b[38;5;66;03m# Next part for validation\u001b[39;00m\n\u001b[1;32m     11\u001b[0m test \u001b[38;5;241m=\u001b[39m scaled_values[n_train_days \u001b[38;5;241m+\u001b[39m n_validation_days:, :]  \u001b[38;5;66;03m# Remaining part for testing\u001b[39;00m\n",
            "\u001b[0;31mTypeError\u001b[0m: slice indices must be integers or None or have an __index__ method"
          ],
          "ename": "TypeError",
          "evalue": "slice indices must be integers or None or have an __index__ method",
          "output_type": "error"
        }
      ],
      "execution_count": null
    },
    {
      "cell_type": "code",
      "source": [
        "train"
      ],
      "metadata": {
        "trusted": true,
        "execution": {
          "iopub.status.busy": "2024-11-20T09:04:50.251564Z",
          "iopub.execute_input": "2024-11-20T09:04:50.251987Z",
          "iopub.status.idle": "2024-11-20T09:04:50.260504Z",
          "shell.execute_reply.started": "2024-11-20T09:04:50.251947Z",
          "shell.execute_reply": "2024-11-20T09:04:50.259079Z"
        },
        "id": "BdKj99tTPV7t",
        "outputId": "3ce0a5ba-004d-4977-90d6-02fb720bb39b"
      },
      "outputs": [
        {
          "execution_count": 51,
          "output_type": "execute_result",
          "data": {
            "text/plain": "array([[0.45715338, 0.15907955, 0.14575705, ..., 0.06800156, 0.08863017,\n        0.14886731],\n       [0.0769524 , 0.09072036, 0.08187503, ..., 0.06800156, 0.21605307,\n        0.5078749 ],\n       [0.0740049 , 0.07494999, 0.07765735, ..., 0.06800156, 0.10802773,\n        0.6464941 ],\n       ...,\n       [0.61027044, 0.59479743, 0.60452354, ..., 0.1603151 , 0.06269716,\n        0.32060415],\n       [0.618249  , 0.6035518 , 0.58775145, ..., 0.12947443, 0.05725197,\n        0.32297736],\n       [0.577162  , 0.57978994, 0.5729525 , ..., 0.16464616, 0.07231168,\n        0.32826322]], dtype=float32)"
          },
          "metadata": {}
        }
      ],
      "execution_count": null
    },
    {
      "cell_type": "code",
      "source": [
        "n_train_days = round(len(filter_col)*(60/100),0)  # 8 years of daily data for training\n",
        "n_validation_days = n_train_days+round(len(filter_co)*(20/100),0)\n",
        "n_test_days=n_validation_days+round(len(reframed)*(20/100),0)\n",
        "print(n_train_days,'train_size')\n",
        "print(n_validation_days,'validation_size')\n",
        "print(n_test_days,'test size')"
      ],
      "metadata": {
        "trusted": true,
        "execution": {
          "iopub.status.busy": "2024-11-20T09:20:09.426384Z",
          "iopub.execute_input": "2024-11-20T09:20:09.426807Z",
          "iopub.status.idle": "2024-11-20T09:20:09.43451Z",
          "shell.execute_reply.started": "2024-11-20T09:20:09.426765Z",
          "shell.execute_reply": "2024-11-20T09:20:09.433197Z"
        },
        "id": "20U9g3yIPV7t",
        "outputId": "2cbf0b8e-9a6d-4789-fc6c-d2f807845e56"
      },
      "outputs": [
        {
          "name": "stdout",
          "text": "1921.0 train_size\n2561.0 validation_size\n3201.0 test size\n",
          "output_type": "stream"
        }
      ],
      "execution_count": null
    },
    {
      "cell_type": "code",
      "source": [
        "# Define the number of training, validation and testing days\n",
        "n_train_days = int(round(len(filter_col)*(60/100),0))\n",
        "n_validation_days = int(n_train_days+round(len(filter_col)*(20/100),0))\n",
        "n_test_days=int(n_validation_days+round(len(filter_col)*(20/100),0))\n",
        "\n",
        "# Determine slices for train, validation, and test\n",
        "train = scaled_values[:n_train_days, :]  # First part for training\n",
        "validation = scaled_values[n_train_days:n_validation_days, :]  # Next part for validation\n",
        "test = scaled_values[n_validation_days:, :]  # Remaining part for testing\n",
        "\n",
        "train_X, train_y = train[:, :-1], train[:, -1]\n",
        "val_X,val_y=validation[:,:-1],validation[:,-1]\n",
        "test_X, test_y = test[:, :-1], test[:, -1]\n",
        "\n",
        "train_X = train_X.reshape((train_X.shape[0], 1, train_X.shape[1]))\n",
        "test_X = test_X.reshape((test_X.shape[0], 1, test_X.shape[1]))\n",
        "val_X=val_X.reshape((val_X.shape[0],1,val_X.shape[1]))"
      ],
      "metadata": {
        "trusted": true,
        "execution": {
          "iopub.status.busy": "2024-11-20T10:07:25.506243Z",
          "iopub.execute_input": "2024-11-20T10:07:25.507328Z",
          "iopub.status.idle": "2024-11-20T10:07:25.515763Z",
          "shell.execute_reply.started": "2024-11-20T10:07:25.507248Z",
          "shell.execute_reply": "2024-11-20T10:07:25.514421Z"
        },
        "id": "W1TfCSP0PV7t"
      },
      "outputs": [],
      "execution_count": null
    },
    {
      "cell_type": "code",
      "source": [
        "train_X.shape"
      ],
      "metadata": {
        "trusted": true,
        "execution": {
          "iopub.status.busy": "2024-11-20T10:07:27.194096Z",
          "iopub.execute_input": "2024-11-20T10:07:27.194523Z",
          "iopub.status.idle": "2024-11-20T10:07:27.201247Z",
          "shell.execute_reply.started": "2024-11-20T10:07:27.194489Z",
          "shell.execute_reply": "2024-11-20T10:07:27.200189Z"
        },
        "id": "5a8Oo-lUPV7t",
        "outputId": "c7cab5d2-3edc-4853-cdd0-e9f31c087251"
      },
      "outputs": [
        {
          "execution_count": 125,
          "output_type": "execute_result",
          "data": {
            "text/plain": "(1921, 1, 17)"
          },
          "metadata": {}
        }
      ],
      "execution_count": null
    },
    {
      "cell_type": "code",
      "source": [
        "val_X.shape"
      ],
      "metadata": {
        "trusted": true,
        "execution": {
          "iopub.status.busy": "2024-11-20T10:07:28.060368Z",
          "iopub.execute_input": "2024-11-20T10:07:28.060753Z",
          "iopub.status.idle": "2024-11-20T10:07:28.067628Z",
          "shell.execute_reply.started": "2024-11-20T10:07:28.060719Z",
          "shell.execute_reply": "2024-11-20T10:07:28.066486Z"
        },
        "id": "vOqTNdFiPV7t",
        "outputId": "1c6e2912-c639-48b0-ebda-f23270602c5f"
      },
      "outputs": [
        {
          "execution_count": 126,
          "output_type": "execute_result",
          "data": {
            "text/plain": "(640, 1, 17)"
          },
          "metadata": {}
        }
      ],
      "execution_count": null
    },
    {
      "cell_type": "code",
      "source": [
        "test_X.shape"
      ],
      "metadata": {
        "trusted": true,
        "execution": {
          "iopub.status.busy": "2024-11-20T10:07:28.922396Z",
          "iopub.execute_input": "2024-11-20T10:07:28.922762Z",
          "iopub.status.idle": "2024-11-20T10:07:28.930558Z",
          "shell.execute_reply.started": "2024-11-20T10:07:28.922732Z",
          "shell.execute_reply": "2024-11-20T10:07:28.929299Z"
        },
        "id": "vrhiSUxQPV7t",
        "outputId": "04285c8b-a8ed-4d2e-c85e-c7a3374e738b"
      },
      "outputs": [
        {
          "execution_count": 127,
          "output_type": "execute_result",
          "data": {
            "text/plain": "(640, 1, 17)"
          },
          "metadata": {}
        }
      ],
      "execution_count": null
    },
    {
      "cell_type": "code",
      "source": [
        "from keras.models import Sequential\n",
        "from keras.layers import Dense\n",
        "from keras.layers import LSTM\n",
        "\n",
        "# design network\n",
        "model = Sequential()\n",
        "model.add(LSTM(50, input_shape=(train_X.shape[1], train_X.shape[2])))\n",
        "model.add(Dense(1))\n",
        "model.compile(loss='mae', optimizer='adam')\n",
        "# fit network\n",
        "history = model.fit(train_X, train_y, epochs=10, batch_size=72, validation_data=(val_X, val_y), verbose=2, shuffle=False)\n",
        "# plot history"
      ],
      "metadata": {
        "trusted": true,
        "execution": {
          "iopub.status.busy": "2024-11-20T10:07:38.549356Z",
          "iopub.execute_input": "2024-11-20T10:07:38.549728Z",
          "iopub.status.idle": "2024-11-20T10:07:42.021556Z",
          "shell.execute_reply.started": "2024-11-20T10:07:38.549698Z",
          "shell.execute_reply": "2024-11-20T10:07:42.020339Z"
        },
        "id": "EW5U7cmZPV7u",
        "outputId": "25419689-635e-4848-c5b7-936976c73d1f"
      },
      "outputs": [
        {
          "name": "stdout",
          "text": "Epoch 1/10\n",
          "output_type": "stream"
        },
        {
          "name": "stderr",
          "text": "/opt/conda/lib/python3.10/site-packages/keras/src/layers/rnn/rnn.py:204: UserWarning: Do not pass an `input_shape`/`input_dim` argument to a layer. When using Sequential models, prefer using an `Input(shape)` object as the first layer in the model instead.\n  super().__init__(**kwargs)\n",
          "output_type": "stream"
        },
        {
          "name": "stdout",
          "text": "27/27 - 2s - 82ms/step - loss: 0.1720 - val_loss: 0.0535\nEpoch 2/10\n27/27 - 0s - 4ms/step - loss: 0.0695 - val_loss: 0.0713\nEpoch 3/10\n27/27 - 0s - 4ms/step - loss: 0.0300 - val_loss: 0.0139\nEpoch 4/10\n27/27 - 0s - 4ms/step - loss: 0.0286 - val_loss: 0.0134\nEpoch 5/10\n27/27 - 0s - 4ms/step - loss: 0.0156 - val_loss: 0.0089\nEpoch 6/10\n27/27 - 0s - 4ms/step - loss: 0.0098 - val_loss: 0.0070\nEpoch 7/10\n27/27 - 0s - 4ms/step - loss: 0.0076 - val_loss: 0.0069\nEpoch 8/10\n27/27 - 0s - 4ms/step - loss: 0.0068 - val_loss: 0.0066\nEpoch 9/10\n27/27 - 0s - 4ms/step - loss: 0.0067 - val_loss: 0.0070\nEpoch 10/10\n27/27 - 0s - 4ms/step - loss: 0.0062 - val_loss: 0.0066\n",
          "output_type": "stream"
        }
      ],
      "execution_count": null
    },
    {
      "cell_type": "code",
      "source": [
        "import matplotlib.pyplot as plt\n",
        "plt.plot(history.history['loss'], label='train')\n",
        "plt.plot(history.history['val_loss'], label='test')\n",
        "plt.legend()\n",
        "plt.show()"
      ],
      "metadata": {
        "trusted": true,
        "execution": {
          "iopub.status.busy": "2024-11-20T10:07:53.923339Z",
          "iopub.execute_input": "2024-11-20T10:07:53.923706Z",
          "iopub.status.idle": "2024-11-20T10:07:54.17966Z",
          "shell.execute_reply.started": "2024-11-20T10:07:53.923674Z",
          "shell.execute_reply": "2024-11-20T10:07:54.17836Z"
        },
        "id": "59l5ooUAPV7u",
        "outputId": "be6459b0-3720-44ca-ba6d-096d7325541c"
      },
      "outputs": [
        {
          "output_type": "display_data",
          "data": {
            "text/plain": "<Figure size 640x480 with 1 Axes>",
            "image/png": "[encoded data removed]"
          },
          "metadata": {}
        }
      ],
      "execution_count": null
    },
    {
      "cell_type": "code",
      "source": [
        "y_hat=model.predict(test_X)"
      ],
      "metadata": {
        "trusted": true,
        "execution": {
          "iopub.status.busy": "2024-11-20T10:09:07.947546Z",
          "iopub.execute_input": "2024-11-20T10:09:07.947952Z",
          "iopub.status.idle": "2024-11-20T10:09:08.054356Z",
          "shell.execute_reply.started": "2024-11-20T10:09:07.947918Z",
          "shell.execute_reply": "2024-11-20T10:09:08.053197Z"
        },
        "id": "iA6YaeRuPV7u",
        "outputId": "ce9e4e06-3093-41aa-e82e-f1b38aee5df2"
      },
      "outputs": [
        {
          "name": "stdout",
          "text": "\u001b[1m20/20\u001b[0m \u001b[32m━━━━━━━━━━━━━━━━━━━━\u001b[0m\u001b[37m\u001b[0m \u001b[1m0s\u001b[0m 1ms/step \n",
          "output_type": "stream"
        }
      ],
      "execution_count": null
    },
    {
      "cell_type": "code",
      "source": [
        "test_X=test_X.reshape((test_X.shape[0],test_X.shape[2]))"
      ],
      "metadata": {
        "trusted": true,
        "execution": {
          "iopub.status.busy": "2024-11-20T10:10:26.758105Z",
          "iopub.execute_input": "2024-11-20T10:10:26.75854Z",
          "iopub.status.idle": "2024-11-20T10:10:26.795465Z",
          "shell.execute_reply.started": "2024-11-20T10:10:26.758504Z",
          "shell.execute_reply": "2024-11-20T10:10:26.793724Z"
        },
        "id": "d5q3CKcvPV7u",
        "outputId": "ee64a669-c7cd-478d-e714-f39a4390335c"
      },
      "outputs": [
        {
          "traceback": [
            "\u001b[0;31m---------------------------------------------------------------------------\u001b[0m",
            "\u001b[0;31mIndexError\u001b[0m                                Traceback (most recent call last)",
            "Cell \u001b[0;32mIn[138], line 1\u001b[0m\n\u001b[0;32m----> 1\u001b[0m test_X\u001b[38;5;241m=\u001b[39mtest_X\u001b[38;5;241m.\u001b[39mreshape((test_X\u001b[38;5;241m.\u001b[39mshape[\u001b[38;5;241m0\u001b[39m],\u001b[43mtest_X\u001b[49m\u001b[38;5;241;43m.\u001b[39;49m\u001b[43mshape\u001b[49m\u001b[43m[\u001b[49m\u001b[38;5;241;43m2\u001b[39;49m\u001b[43m]\u001b[49m))\n",
            "\u001b[0;31mIndexError\u001b[0m: tuple index out of range"
          ],
          "ename": "IndexError",
          "evalue": "tuple index out of range",
          "output_type": "error"
        }
      ],
      "execution_count": null
    },
    {
      "cell_type": "code",
      "source": [
        "print(y_hat[:10])"
      ],
      "metadata": {
        "trusted": true,
        "execution": {
          "iopub.status.busy": "2024-11-20T09:36:01.975255Z",
          "iopub.execute_input": "2024-11-20T09:36:01.975651Z",
          "iopub.status.idle": "2024-11-20T09:36:01.982145Z",
          "shell.execute_reply.started": "2024-11-20T09:36:01.975619Z",
          "shell.execute_reply": "2024-11-20T09:36:01.980941Z"
        },
        "id": "kPBK-zl_PV7u",
        "outputId": "0ddb2ccb-424f-4f42-9c21-818ad3b9c154"
      },
      "outputs": [
        {
          "name": "stdout",
          "text": "[[0.53140783]\n [0.54715   ]\n [0.54122627]\n [0.4688277 ]\n [0.54614645]\n [0.6021456 ]\n [0.5283284 ]\n [0.48002008]\n [0.4614496 ]\n [0.5468597 ]]\n",
          "output_type": "stream"
        }
      ],
      "execution_count": null
    },
    {
      "cell_type": "code",
      "source": [
        "print(test_y[:10])"
      ],
      "metadata": {
        "trusted": true,
        "execution": {
          "iopub.status.busy": "2024-11-20T09:36:12.873097Z",
          "iopub.execute_input": "2024-11-20T09:36:12.873494Z",
          "iopub.status.idle": "2024-11-20T09:36:12.879699Z",
          "shell.execute_reply.started": "2024-11-20T09:36:12.873461Z",
          "shell.execute_reply": "2024-11-20T09:36:12.878294Z"
        },
        "id": "i8J9hhnpPV7u",
        "outputId": "6928e3ff-5e44-4584-c992-7797a47d0408"
      },
      "outputs": [
        {
          "name": "stdout",
          "text": "[0.40075517 0.46655887 0.28996766 0.43387276 0.48166132 0.35156423\n 0.37842506 0.21229777 0.51014024 0.2851133 ]\n",
          "output_type": "stream"
        }
      ],
      "execution_count": null
    },
    {
      "cell_type": "code",
      "source": [
        "from sklearn.metrics import mean_squared_error\n",
        "mean_squared_error(test_y,y_hat)"
      ],
      "metadata": {
        "trusted": true,
        "execution": {
          "iopub.status.busy": "2024-11-20T10:09:24.396319Z",
          "iopub.execute_input": "2024-11-20T10:09:24.396732Z",
          "iopub.status.idle": "2024-11-20T10:09:24.405916Z",
          "shell.execute_reply.started": "2024-11-20T10:09:24.396696Z",
          "shell.execute_reply": "2024-11-20T10:09:24.404563Z"
        },
        "id": "oYCQnO5fPV7v",
        "outputId": "647efa39-2067-4e4f-81bd-adfd1cd82d1f"
      },
      "outputs": [
        {
          "execution_count": 133,
          "output_type": "execute_result",
          "data": {
            "text/plain": "0.0001539049"
          },
          "metadata": {}
        }
      ],
      "execution_count": null
    },
    {
      "cell_type": "code",
      "source": [
        "import matplotlib.pyplot as plt\n",
        "\n",
        "plt.plot(y_hat,label='predicted_values')\n",
        "plt.plot(test_y,label='actual_value')\n",
        "plt.title('Actual vs Predicted value')\n",
        "plt.legend()\n",
        "plt.figure(figsize=(40,60))\n",
        "plt.show()"
      ],
      "metadata": {
        "trusted": true,
        "execution": {
          "iopub.status.busy": "2024-11-20T10:09:12.723813Z",
          "iopub.execute_input": "2024-11-20T10:09:12.724235Z",
          "iopub.status.idle": "2024-11-20T10:09:13.019963Z",
          "shell.execute_reply.started": "2024-11-20T10:09:12.724199Z",
          "shell.execute_reply": "2024-11-20T10:09:13.01878Z"
        },
        "id": "hMxvfdlbPV7v",
        "outputId": "ca53e05c-9693-4d16-8cf0-659a54c59310"
      },
      "outputs": [
        {
          "output_type": "display_data",
          "data": {
            "text/plain": "<Figure size 640x480 with 1 Axes>",
            "image/png": "[encoded data removed]"
          },
          "metadata": {}
        },
        {
          "output_type": "display_data",
          "data": {
            "text/plain": "<Figure size 4000x6000 with 0 Axes>"
          },
          "metadata": {}
        }
      ],
      "execution_count": null
    },
    {
      "cell_type": "code",
      "source": [
        "import matplotlib.pyplot as plt\n",
        "\n",
        "# Ensure that test_X is a DataFrame\n",
        "# Plot actual vs predicted values using the index of test_X as x-axis\n",
        "plt.figure(figsize=(10, 6))  # Adjust the figure size as needed\n",
        "plt.plot(test_X.index, y_hat, label='Predicted Values')  # y_hat should be a 1D array\n",
        "plt.plot(test_X.index, test_y, label='Actual Values')\n",
        "plt.title('Actual vs Predicted Values')\n",
        "plt.xlabel('Index')  # Optional: You can label it as Date or Time if your index represents time\n",
        "plt.ylabel('Value')  # Label for the y-axis\n",
        "plt.legend()\n",
        "plt.show()"
      ],
      "metadata": {
        "trusted": true,
        "id": "tZWkhUvaPV7v"
      },
      "outputs": [],
      "execution_count": null
    },
    {
      "cell_type": "code",
      "source": [
        "y_hat.shape"
      ],
      "metadata": {
        "trusted": true,
        "execution": {
          "iopub.status.busy": "2024-11-20T10:10:05.8435Z",
          "iopub.execute_input": "2024-11-20T10:10:05.843895Z",
          "iopub.status.idle": "2024-11-20T10:10:05.851255Z",
          "shell.execute_reply.started": "2024-11-20T10:10:05.843863Z",
          "shell.execute_reply": "2024-11-20T10:10:05.849962Z"
        },
        "id": "T1MUr5hhPV7z",
        "outputId": "d521994b-9279-4103-ac12-a7504885b6b1"
      },
      "outputs": [
        {
          "execution_count": 135,
          "output_type": "execute_result",
          "data": {
            "text/plain": "(640, 1)"
          },
          "metadata": {}
        }
      ],
      "execution_count": null
    },
    {
      "cell_type": "code",
      "source": [
        "test_X.shape"
      ],
      "metadata": {
        "trusted": true,
        "execution": {
          "iopub.status.busy": "2024-11-20T10:10:50.66568Z",
          "iopub.execute_input": "2024-11-20T10:10:50.666158Z",
          "iopub.status.idle": "2024-11-20T10:10:50.673915Z",
          "shell.execute_reply.started": "2024-11-20T10:10:50.666114Z",
          "shell.execute_reply": "2024-11-20T10:10:50.672565Z"
        },
        "id": "bjsa0ngkPV7z",
        "outputId": "e1b8b0eb-2fcd-424a-dbfb-54dfc572ca8d"
      },
      "outputs": [
        {
          "execution_count": 139,
          "output_type": "execute_result",
          "data": {
            "text/plain": "(640, 17)"
          },
          "metadata": {}
        }
      ],
      "execution_count": null
    },
    {
      "cell_type": "code",
      "source": [
        "inv_yhat=np.concatenate((y_hat,test_X[:,1:]),axis=1)\n",
        "inv_yhat.shape"
      ],
      "metadata": {
        "trusted": true,
        "execution": {
          "iopub.status.busy": "2024-11-20T10:13:23.615608Z",
          "iopub.execute_input": "2024-11-20T10:13:23.6166Z",
          "iopub.status.idle": "2024-11-20T10:13:23.624807Z",
          "shell.execute_reply.started": "2024-11-20T10:13:23.616533Z",
          "shell.execute_reply": "2024-11-20T10:13:23.623367Z"
        },
        "id": "95ArZm05PV7z",
        "outputId": "f3ddc9a3-37ca-4577-c1e8-d1da922c8dc5"
      },
      "outputs": [
        {
          "execution_count": 141,
          "output_type": "execute_result",
          "data": {
            "text/plain": "(640, 17)"
          },
          "metadata": {}
        }
      ],
      "execution_count": null
    },
    {
      "cell_type": "code",
      "source": [
        "inv_yhat"
      ],
      "metadata": {
        "trusted": true,
        "execution": {
          "iopub.status.busy": "2024-11-20T10:13:35.707975Z",
          "iopub.execute_input": "2024-11-20T10:13:35.708414Z",
          "iopub.status.idle": "2024-11-20T10:13:35.716197Z",
          "shell.execute_reply.started": "2024-11-20T10:13:35.708379Z",
          "shell.execute_reply": "2024-11-20T10:13:35.715053Z"
        },
        "id": "K3p27w7uPV70",
        "outputId": "57829856-af0e-429e-f7f4-f9bb0516b698"
      },
      "outputs": [
        {
          "execution_count": 142,
          "output_type": "execute_result",
          "data": {
            "text/plain": "array([[0.6320942 , 0.633942  , 0.617041  , ..., 0.6212957 , 0.63392586,\n        0.6306275 ],\n       [0.6284063 , 0.6281641 , 0.6212957 , ..., 0.61684364, 0.6028441 ,\n        0.60721546],\n       [0.6135727 , 0.6343172 , 0.61684364, ..., 0.6013171 , 0.59867954,\n        0.61864835],\n       ...,\n       [0.88622683, 0.8696474 , 0.8610382 , ..., 0.8995154 , 0.90020317,\n        0.9113694 ],\n       [0.9044775 , 0.8874563 , 0.8995154 , ..., 0.8995894 , 0.90022856,\n        0.89404213],\n       [0.89833975, 0.9207104 , 0.8995894 , ..., 0.90256155, 0.89842564,\n        0.89608735]], dtype=float32)"
          },
          "metadata": {}
        }
      ],
      "execution_count": null
    },
    {
      "cell_type": "code",
      "source": [
        "inv_yhat = np.concatenate((y_hat, test_X), axis=1)\n",
        "print(inv_yhat.shape)  # Expected output: (640, 18)"
      ],
      "metadata": {
        "trusted": true,
        "execution": {
          "iopub.status.busy": "2024-11-20T10:15:28.923709Z",
          "iopub.execute_input": "2024-11-20T10:15:28.924189Z",
          "iopub.status.idle": "2024-11-20T10:15:28.930971Z",
          "shell.execute_reply.started": "2024-11-20T10:15:28.924153Z",
          "shell.execute_reply": "2024-11-20T10:15:28.929611Z"
        },
        "id": "CPIRlWbsPV70",
        "outputId": "5a426041-e14c-4030-cfd8-fb6b03207373"
      },
      "outputs": [
        {
          "name": "stdout",
          "text": "(640, 18)\n",
          "output_type": "stream"
        }
      ],
      "execution_count": null
    },
    {
      "cell_type": "code",
      "source": [
        "inv_y.shape"
      ],
      "metadata": {
        "trusted": true,
        "execution": {
          "iopub.status.busy": "2024-11-20T10:17:25.592322Z",
          "iopub.execute_input": "2024-11-20T10:17:25.59271Z",
          "iopub.status.idle": "2024-11-20T10:17:25.599976Z",
          "shell.execute_reply.started": "2024-11-20T10:17:25.592675Z",
          "shell.execute_reply": "2024-11-20T10:17:25.598843Z"
        },
        "id": "R2lO59SMPV70",
        "outputId": "d25f62ad-a55d-43f9-c13f-cf900d0d928d"
      },
      "outputs": [
        {
          "execution_count": 149,
          "output_type": "execute_result",
          "data": {
            "text/plain": "(640,)"
          },
          "metadata": {}
        }
      ],
      "execution_count": null
    },
    {
      "cell_type": "code",
      "source": [
        "test_y.shape"
      ],
      "metadata": {
        "trusted": true,
        "execution": {
          "iopub.status.busy": "2024-11-20T10:17:37.378998Z",
          "iopub.execute_input": "2024-11-20T10:17:37.379419Z",
          "iopub.status.idle": "2024-11-20T10:17:37.386747Z",
          "shell.execute_reply.started": "2024-11-20T10:17:37.379384Z",
          "shell.execute_reply": "2024-11-20T10:17:37.385302Z"
        },
        "id": "_aCZlP-RPV70",
        "outputId": "93dee749-f0f6-4561-fef4-eda062f51237"
      },
      "outputs": [
        {
          "execution_count": 150,
          "output_type": "execute_result",
          "data": {
            "text/plain": "(640, 1)"
          },
          "metadata": {}
        }
      ],
      "execution_count": null
    },
    {
      "cell_type": "code",
      "source": [
        "inv_yhat"
      ],
      "metadata": {
        "trusted": true,
        "execution": {
          "iopub.status.busy": "2024-11-20T10:18:36.529716Z",
          "iopub.execute_input": "2024-11-20T10:18:36.530118Z",
          "iopub.status.idle": "2024-11-20T10:18:36.538798Z",
          "shell.execute_reply.started": "2024-11-20T10:18:36.530083Z",
          "shell.execute_reply": "2024-11-20T10:18:36.537702Z"
        },
        "id": "_qOq_YrOPV70",
        "outputId": "37bef75d-0e2f-47e1-aad1-8a3bc3759814"
      },
      "outputs": [
        {
          "execution_count": 155,
          "output_type": "execute_result",
          "data": {
            "text/plain": "array([[2789.5386, 2788.2605, 2877.2727, ..., 2708.6624, 2795.1323,\n        2783.7664],\n       [2775.0244, 2772.6165, 2853.847 , ..., 2691.1301, 2672.7944,\n        2691.627 ],\n       [2716.6462, 2783.0288, 2878.794 , ..., 2629.9868, 2656.4028,\n        2736.6216],\n       ...,\n       [3789.6902, 3753.4878, 3832.9048, ..., 3804.2915, 3843.1997,\n        3888.64  ],\n       [3861.5166, 3800.878 , 3905.1082, ..., 3804.583 , 3843.2998,\n        3820.4478],\n       [3837.361 , 3906.7822, 4039.932 , ..., 3816.2874, 3836.2034,\n        3828.4968]], dtype=float32)"
          },
          "metadata": {}
        }
      ],
      "execution_count": null
    },
    {
      "cell_type": "code",
      "source": [
        "test_X"
      ],
      "metadata": {
        "trusted": true,
        "execution": {
          "iopub.status.busy": "2024-11-20T10:21:10.800514Z",
          "iopub.execute_input": "2024-11-20T10:21:10.800963Z",
          "iopub.status.idle": "2024-11-20T10:21:10.809386Z",
          "shell.execute_reply.started": "2024-11-20T10:21:10.800924Z",
          "shell.execute_reply": "2024-11-20T10:21:10.807993Z"
        },
        "id": "kSxZ0e78PV70",
        "outputId": "fad1b198-794b-4197-ea31-6813447c9a70"
      },
      "outputs": [
        {
          "execution_count": 158,
          "output_type": "execute_result",
          "data": {
            "text/plain": "array([[0.6318811 , 0.633942  , 0.617041  , ..., 0.6212957 , 0.63392586,\n        0.6306275 ],\n       [0.62796813, 0.6281641 , 0.6212957 , ..., 0.61684364, 0.6028441 ,\n        0.60721546],\n       [0.63057256, 0.6343172 , 0.61684364, ..., 0.6013171 , 0.59867954,\n        0.61864835],\n       ...,\n       [0.87330866, 0.8696474 , 0.8610382 , ..., 0.8995154 , 0.90020317,\n        0.9113694 ],\n       [0.8851621 , 0.8874563 , 0.8995154 , ..., 0.8995894 , 0.90022856,\n        0.89404213],\n       [0.91165143, 0.9207104 , 0.8995894 , ..., 0.90256155, 0.89842564,\n        0.89608735]], dtype=float32)"
          },
          "metadata": {}
        }
      ],
      "execution_count": null
    },
    {
      "cell_type": "code",
      "source": [
        "inv_y"
      ],
      "metadata": {
        "trusted": true,
        "execution": {
          "iopub.status.busy": "2024-11-20T10:20:32.123409Z",
          "iopub.execute_input": "2024-11-20T10:20:32.12387Z",
          "iopub.status.idle": "2024-11-20T10:20:32.13571Z",
          "shell.execute_reply.started": "2024-11-20T10:20:32.123775Z",
          "shell.execute_reply": "2024-11-20T10:20:32.134491Z"
        },
        "id": "_yAjkXIPPV71",
        "outputId": "d00859b4-db25-4f74-81e1-d85a104544e3"
      },
      "outputs": [
        {
          "execution_count": 157,
          "output_type": "execute_result",
          "data": {
            "text/plain": "array([2783.55  , 2687.45  , 2730.1   , 2731.4   , 2657.    , 2543.05  ,\n       2584.1   , 2548.85  , 2581.8   , 2525.8   , 2623.05  , 2620.45  ,\n       2610.5   , 2547.8   , 2510.25  , 2556.9   , 2586.5   , 2475.15  ,\n       2477.55  , 2513.75  , 2549.1   , 2556.25  , 2593.7   , 2598.85  ,\n       2657.75  , 2672.55  , 2674.6   , 2692.55  , 2693.05  , 2652.3   ,\n       2665.5   , 2676.5   , 2668.85  , 2695.35  , 2679.65  , 2666.5   ,\n       2604.65  , 2590.35  , 2649.5   , 2599.65  , 2603.9   , 2724.    ,\n       2745.7   , 2736.    , 2763.85  , 2764.1   , 2718.1   , 2786.2   ,\n       2725.1   , 2739.6   , 2848.4   , 2836.1   , 2823.15  , 2840.95  ,\n       2840.9   , 2863.    , 2887.2   , 2808.45  , 2724.65  , 2734.6   ,\n       2737.    , 2717.5   , 2720.15  , 2726.65  , 2692.    , 2701.35  ,\n       2734.2   , 2658.55  , 2694.85  , 2696.9   , 2725.3   , 2720.95  ,\n       2699.15  , 2725.85  , 2717.45  , 2729.65  , 2720.75  , 2684.6   ,\n       2688.35  , 2674.1   , 2651.65  , 2626.35  , 2565.55  , 2567.65  ,\n       2499.7   , 2554.55  , 2602.75  , 2642.5   , 2710.65  , 2770.15  ,\n       2853.6   , 2851.4   , 2853.6   , 2832.35  , 2823.95  , 2823.1   ,\n       2825.95  , 2793.5   , 2787.85  , 2774.7   , 2813.95  , 2816.85  ,\n       2847.55  , 2859.3   , 2914.7   , 2900.6   , 2863.5   , 2903.75  ,\n       2927.6   , 2919.9   , 2955.7   , 3000.55  , 2996.1   , 3010.    ,\n       3016.85  , 3023.8   , 3005.15  , 2974.7   , 2949.65  , 2949.75  ,\n       2957.95  , 2952.8   , 2980.1   , 2948.8   , 2911.1   , 2915.65  ,\n       2853.1   , 2847.3   , 2859.1   , 2861.65  , 2853.35  , 2924.8   ,\n       2942.9   , 2993.7   , 3008.15  , 3035.05  , 3068.45  , 3069.5   ,\n       3051.2   , 3039.15  , 3075.8   , 3088.05  , 3044.65  , 2984.1   ,\n       3030.55  , 3059.75  , 3026.2   , 3033.05  , 2957.75  , 2982.9   ,\n       2966.2   , 2972.75  , 2937.2   , 2914.45  , 2942.65  , 3040.05  ,\n       3006.3   , 2979.3   , 3047.2   , 3065.    , 3077.9   , 3066.9   ,\n       2988.    , 2925.5   , 2945.    , 2925.9   , 3034.6   , 2983.9   ,\n       2991.65  , 2961.4   , 2989.8   , 2987.15  , 2944.5   , 2922.65  ,\n       2872.55  , 2836.2   , 2855.6   , 2822.9   , 2897.3   , 2875.55  ,\n       2816.9   , 2843.7   , 2868.7   , 2865.85  , 2827.05  , 2911.95  ,\n       2883.55  , 2897.75  , 2894.8   , 2842.55  , 2777.8   , 2786.4   ,\n       2740.4   , 2711.7   , 2722.55  , 2714.    , 2732.45  , 2696.9   ,\n       2630.8   , 2558.25  , 2562.9   , 2523.85  , 2522.6   , 2547.    ,\n       2618.65  , 2487.65  , 2463.85  , 2516.5   , 2537.65  , 2600.55  ,\n       2619.75  , 2609.8   , 2605.1   , 2703.75  , 2707.6   , 2670.55  ,\n       2713.9   , 2750.95  , 2725.5   , 2742.95  , 2764.8   , 2744.25  ,\n       2749.15  , 2736.8   , 2766.5   , 2766.75  , 2757.8   , 2788.3   ,\n       2764.2   , 2735.7   , 2759.2   , 2839.35  , 2817.8   , 2908.4   ,\n       2852.2   , 2878.2   , 2874.45  , 2773.15  , 2777.05  , 2738.85  ,\n       2929.25  , 2995.15  , 2958.15  , 2941.    , 2970.3   , 2957.5   ,\n       2941.8   , 2910.    , 2897.9   , 2863.55  , 2892.3   , 2891.85  ,\n       2886.25  , 2898.8   , 2958.05  , 3011.95  , 3023.7   , 3111.5   ,\n       3087.05  , 3122.3   , 3162.65  , 3167.85  , 3129.65  , 3143.35  ,\n       3180.75  , 3222.9   , 3247.35  , 3232.65  , 3212.05  , 3246.3   ,\n       3248.3   , 3265.85  , 3245.55  , 3237.35  , 3206.    , 3233.3   ,\n       3215.35  , 3156.9   , 3161.05  , 3162.4   , 3188.35  , 3152.35  ,\n       3195.65  , 3178.15  , 3212.05  , 3196.4   , 3176.    , 3159.25  ,\n       3259.75  , 3251.15  , 3243.1   , 3206.1   , 3225.55  , 3232.5   ,\n       3268.65  , 3261.45  , 3232.9   , 3220.4   , 3199.1   , 3213.65  ,\n       3218.4   , 3203.75  , 3219.5   , 3226.75  , 3230.05  , 3241.95  ,\n       3251.95  , 3185.    , 3150.1   , 3121.    , 3072.05  , 3037.65  ,\n       3037.95  , 3059.25  , 3085.7   , 3101.2   , 3094.05  , 3101.6   ,\n       3123.55  , 3112.1   , 3118.1   , 3103.7   , 3097.05  , 3076.4   ,\n       3065.2   , 3074.15  , 3082.6   , 3060.9   , 3091.85  , 3145.5   ,\n       3180.05  , 3143.3   , 3284.5   , 3162.8   , 3161.5   , 3149.8   ,\n       3134.85  , 3103.3   , 3145.45  , 3146.3   , 3136.4   , 3146.4   ,\n       3075.6   , 3082.5   , 3090.9   , 3065.5   , 2980.5   , 2947.4   ,\n       2946.6   , 2936.6   , 2890.    , 2792.2   , 2692.25  , 2711.5   ,\n       2703.65  , 2735.05  , 2573.35  , 2591.55  , 2338.9   , 2357.1   ,\n       2339.55  , 2270.45  , 2169.    , 2166.6   , 2242.3   , 1935.55  ,\n       1937.15  , 1946.75  , 2106.85  , 2053.45  , 1986.6998, 2022.35  ,\n       2051.1   , 2033.7499, 2280.05  , 2241.7   , 2435.95  , 2397.55  ,\n       2335.15  , 2333.55  , 2379.15  , 2378.3   , 2323.25  , 2379.7   ,\n       2430.65  , 2445.35  , 2505.75  , 2463.7   , 2499.15  , 2623.3   ,\n       2442.15  , 2422.8   , 2471.85  , 2406.55  , 2419.05  , 2566.3   ,\n       2628.85  , 2696.    , 2702.65  , 2663.6   , 2477.45  , 2509.3   ,\n       2557.75  , 2640.35  , 2553.75  , 2564.85  , 2580.55  , 2600.    ,\n       2710.5   , 2758.3   , 2796.1   , 2783.4   , 2817.25  , 2776.3   ,\n       2801.05  , 2791.15  , 2717.2   , 2718.55  , 2782.15  , 2728.55  ,\n       2718.45  , 2689.45  , 2678.35  , 2674.35  , 2855.75  , 2862.15  ,\n       2817.25  , 2820.45  , 2867.6   , 2859.5   , 2826.05  , 2842.05  ,\n       2879.35  , 2932.4   , 2897.1   , 2847.15  , 2852.45  , 2882.    ,\n       2894.7   , 2900.    , 2899.5   , 2942.05  , 2942.3   , 2995.    ,\n       3002.55  , 3004.3   , 2985.4   , 3032.1   , 2985.5   , 3020.5   ,\n       3119.35  , 3099.3   , 3048.95  , 3004.95  , 2917.45  , 2969.95  ,\n       3009.    , 2991.8   , 3001.7   , 2993.8   , 3007.45  , 3023.    ,\n       3017.95  , 2987.55  , 3115.6   , 3104.8   , 3059.8   , 3036.95  ,\n       3053.15  , 3039.35  , 3009.4   , 3082.2   , 3043.    , 3014.15  ,\n       2967.    , 2958.4   , 2880.55  , 2896.4   , 2883.2   , 2898.2   ,\n       2901.75  , 2910.15  , 2914.7   , 2916.35  , 2957.7   , 2937.35  ,\n       3037.95  , 3019.2   , 3050.95  , 2986.7   , 2985.85  , 2986.2   ,\n       2931.85  , 2957.4   , 2966.35  , 2897.5   , 2881.1   , 2985.4   ,\n       2952.3   , 2972.25  , 3077.4   , 3074.55  , 3059.8   , 3022.75  ,\n       3034.45  , 3054.15  , 3027.4   , 3044.75  , 2980.    , 3004.2   ,\n       3018.    , 3006.2   , 3082.25  , 2895.15  , 2947.35  , 2944.05  ,\n       2925.35  , 2886.9   , 2843.7   , 2914.85  , 2926.1   , 2949.3   ,\n       2977.4   , 3001.95  , 2997.5   , 3023.1   , 3017.45  , 3040.75  ,\n       3041.9   , 3045.15  , 3037.9   , 3034.25  , 3058.55  , 3077.75  ,\n       3095.7   , 3051.25  , 3129.2   , 3173.55  , 3243.65  , 3338.15  ,\n       3294.4   , 3311.4   , 3319.55  , 3326.2   , 3306.55  , 3290.85  ,\n       3327.65  , 3289.    , 3271.65  , 3303.5   , 3270.45  , 3347.55  ,\n       3238.25  , 3265.3   , 3309.65  , 3374.75  , 3414.7   , 3431.55  ,\n       3448.15  , 3444.05  , 3481.25  , 3522.45  , 3492.65  , 3462.7   ,\n       3437.95  , 3529.15  , 3617.35  , 3624.25  , 3600.9   , 3576.05  ,\n       3580.3   , 3563.75  , 3641.    , 3643.95  , 3703.3   , 4089.4998,\n       4168.95  , 4146.35  , 4135.8   , 4005.8   , 4114.7   , 4201.45  ,\n       4236.35  , 4223.5   , 4231.25  , 4237.45  , 4154.9   , 4151.55  ,\n       4181.9   , 4136.05  , 4122.3   , 4132.85  , 4165.7   , 4115.45  ,\n       4001.0999, 3971.5498, 3912.25  , 3931.85  , 3944.8   , 3798.7   ,\n       3814.05  , 3944.0498, 3901.1   , 3879.05  , 3852.85  , 3798.75  ,\n       3798.75  , 3867.55  , 3746.4   , 3664.65  , 3654.45  , 3569.6   ,\n       3664.5   , 3650.05  , 3664.75  , 3678.35  , 3603.55  , 3501.6   ,\n       3600.05  , 3666.7   , 3670.6   , 3743.05  , 3598.5   , 3615.5   ,\n       3680.2   , 3649.8   , 3651.3   , 3541.    , 3602.45  , 3597.5   ,\n       3634.65  , 3515.55  , 3600.9   , 3681.4   , 3672.5   , 3738.85  ,\n       3785.5   , 3889.75  , 3836.45  , 3833.75  ], dtype=float32)"
          },
          "metadata": {}
        }
      ],
      "execution_count": null
    },
    {
      "cell_type": "code",
      "source": [
        "\n",
        "#test_X=test_X.reshape((test_X.shape[0],test_X.shape[2]))\n",
        "inv_yhat = np.concatenate((y_hat, test_X), axis=1)\n",
        "inv_yhat=scaler.inverse_transform(inv_yhat)\n",
        "test_y = test_y.reshape((len(test_y), 1))\n",
        "inv_y = np.concatenate((test_y, test_X), axis=1)\n",
        "inv_y = scaler.inverse_transform(inv_y)\n",
        "inv_y = inv_y[:,0]\n",
        "test_y=a\n",
        "#calculate RMSE\n",
        "rmse = (mean_squared_error(inv_y, inv_yhat))\n",
        "print('Test RMSE: %.3f' % rmse)"
      ],
      "metadata": {
        "trusted": true,
        "execution": {
          "iopub.status.busy": "2024-11-20T10:17:55.980967Z",
          "iopub.execute_input": "2024-11-20T10:17:55.981403Z",
          "iopub.status.idle": "2024-11-20T10:17:56.040381Z",
          "shell.execute_reply.started": "2024-11-20T10:17:55.981363Z",
          "shell.execute_reply": "2024-11-20T10:17:56.038557Z"
        },
        "id": "pkCEc9qEPV71",
        "outputId": "22cdedb6-74b0-4ffc-dcbd-738080e10241"
      },
      "outputs": [
        {
          "traceback": [
            "\u001b[0;31m---------------------------------------------------------------------------\u001b[0m",
            "\u001b[0;31mValueError\u001b[0m                                Traceback (most recent call last)",
            "Cell \u001b[0;32mIn[151], line 10\u001b[0m\n\u001b[1;32m      8\u001b[0m test_y\u001b[38;5;241m=\u001b[39mtest_y[:,\u001b[38;5;241m0\u001b[39m]\n\u001b[1;32m      9\u001b[0m \u001b[38;5;66;03m#calculate RMSE\u001b[39;00m\n\u001b[0;32m---> 10\u001b[0m rmse \u001b[38;5;241m=\u001b[39m (\u001b[43mmean_squared_error\u001b[49m\u001b[43m(\u001b[49m\u001b[43minv_y\u001b[49m\u001b[43m,\u001b[49m\u001b[43m \u001b[49m\u001b[43minv_yhat\u001b[49m\u001b[43m)\u001b[49m)\n\u001b[1;32m     11\u001b[0m \u001b[38;5;28mprint\u001b[39m(\u001b[38;5;124m'\u001b[39m\u001b[38;5;124mTest RMSE: \u001b[39m\u001b[38;5;132;01m%.3f\u001b[39;00m\u001b[38;5;124m'\u001b[39m \u001b[38;5;241m%\u001b[39m rmse)\n",
            "File \u001b[0;32m/opt/conda/lib/python3.10/site-packages/sklearn/metrics/_regression.py:442\u001b[0m, in \u001b[0;36mmean_squared_error\u001b[0;34m(y_true, y_pred, sample_weight, multioutput, squared)\u001b[0m\n\u001b[1;32m    382\u001b[0m \u001b[38;5;28;01mdef\u001b[39;00m \u001b[38;5;21mmean_squared_error\u001b[39m(\n\u001b[1;32m    383\u001b[0m     y_true, y_pred, \u001b[38;5;241m*\u001b[39m, sample_weight\u001b[38;5;241m=\u001b[39m\u001b[38;5;28;01mNone\u001b[39;00m, multioutput\u001b[38;5;241m=\u001b[39m\u001b[38;5;124m\"\u001b[39m\u001b[38;5;124muniform_average\u001b[39m\u001b[38;5;124m\"\u001b[39m, squared\u001b[38;5;241m=\u001b[39m\u001b[38;5;28;01mTrue\u001b[39;00m\n\u001b[1;32m    384\u001b[0m ):\n\u001b[1;32m    385\u001b[0m \u001b[38;5;250m    \u001b[39m\u001b[38;5;124;03m\"\"\"Mean squared error regression loss.\u001b[39;00m\n\u001b[1;32m    386\u001b[0m \n\u001b[1;32m    387\u001b[0m \u001b[38;5;124;03m    Read more in the :ref:`User Guide <mean_squared_error>`.\u001b[39;00m\n\u001b[0;32m   (...)\u001b[0m\n\u001b[1;32m    440\u001b[0m \u001b[38;5;124;03m    0.825...\u001b[39;00m\n\u001b[1;32m    441\u001b[0m \u001b[38;5;124;03m    \"\"\"\u001b[39;00m\n\u001b[0;32m--> 442\u001b[0m     y_type, y_true, y_pred, multioutput \u001b[38;5;241m=\u001b[39m \u001b[43m_check_reg_targets\u001b[49m\u001b[43m(\u001b[49m\n\u001b[1;32m    443\u001b[0m \u001b[43m        \u001b[49m\u001b[43my_true\u001b[49m\u001b[43m,\u001b[49m\u001b[43m \u001b[49m\u001b[43my_pred\u001b[49m\u001b[43m,\u001b[49m\u001b[43m \u001b[49m\u001b[43mmultioutput\u001b[49m\n\u001b[1;32m    444\u001b[0m \u001b[43m    \u001b[49m\u001b[43m)\u001b[49m\n\u001b[1;32m    445\u001b[0m     check_consistent_length(y_true, y_pred, sample_weight)\n\u001b[1;32m    446\u001b[0m     output_errors \u001b[38;5;241m=\u001b[39m np\u001b[38;5;241m.\u001b[39maverage((y_true \u001b[38;5;241m-\u001b[39m y_pred) \u001b[38;5;241m*\u001b[39m\u001b[38;5;241m*\u001b[39m \u001b[38;5;241m2\u001b[39m, axis\u001b[38;5;241m=\u001b[39m\u001b[38;5;241m0\u001b[39m, weights\u001b[38;5;241m=\u001b[39msample_weight)\n",
            "File \u001b[0;32m/opt/conda/lib/python3.10/site-packages/sklearn/metrics/_regression.py:111\u001b[0m, in \u001b[0;36m_check_reg_targets\u001b[0;34m(y_true, y_pred, multioutput, dtype)\u001b[0m\n\u001b[1;32m    108\u001b[0m     y_pred \u001b[38;5;241m=\u001b[39m y_pred\u001b[38;5;241m.\u001b[39mreshape((\u001b[38;5;241m-\u001b[39m\u001b[38;5;241m1\u001b[39m, \u001b[38;5;241m1\u001b[39m))\n\u001b[1;32m    110\u001b[0m \u001b[38;5;28;01mif\u001b[39;00m y_true\u001b[38;5;241m.\u001b[39mshape[\u001b[38;5;241m1\u001b[39m] \u001b[38;5;241m!=\u001b[39m y_pred\u001b[38;5;241m.\u001b[39mshape[\u001b[38;5;241m1\u001b[39m]:\n\u001b[0;32m--> 111\u001b[0m     \u001b[38;5;28;01mraise\u001b[39;00m \u001b[38;5;167;01mValueError\u001b[39;00m(\n\u001b[1;32m    112\u001b[0m         \u001b[38;5;124m\"\u001b[39m\u001b[38;5;124my_true and y_pred have different number of output (\u001b[39m\u001b[38;5;132;01m{0}\u001b[39;00m\u001b[38;5;124m!=\u001b[39m\u001b[38;5;132;01m{1}\u001b[39;00m\u001b[38;5;124m)\u001b[39m\u001b[38;5;124m\"\u001b[39m\u001b[38;5;241m.\u001b[39mformat(\n\u001b[1;32m    113\u001b[0m             y_true\u001b[38;5;241m.\u001b[39mshape[\u001b[38;5;241m1\u001b[39m], y_pred\u001b[38;5;241m.\u001b[39mshape[\u001b[38;5;241m1\u001b[39m]\n\u001b[1;32m    114\u001b[0m         )\n\u001b[1;32m    115\u001b[0m     )\n\u001b[1;32m    117\u001b[0m n_outputs \u001b[38;5;241m=\u001b[39m y_true\u001b[38;5;241m.\u001b[39mshape[\u001b[38;5;241m1\u001b[39m]\n\u001b[1;32m    118\u001b[0m allowed_multioutput_str \u001b[38;5;241m=\u001b[39m (\u001b[38;5;124m\"\u001b[39m\u001b[38;5;124mraw_values\u001b[39m\u001b[38;5;124m\"\u001b[39m, \u001b[38;5;124m\"\u001b[39m\u001b[38;5;124muniform_average\u001b[39m\u001b[38;5;124m\"\u001b[39m, \u001b[38;5;124m\"\u001b[39m\u001b[38;5;124mvariance_weighted\u001b[39m\u001b[38;5;124m\"\u001b[39m)\n",
            "\u001b[0;31mValueError\u001b[0m: y_true and y_pred have different number of output (1!=18)"
          ],
          "ename": "ValueError",
          "evalue": "y_true and y_pred have different number of output (1!=18)",
          "output_type": "error"
        }
      ],
      "execution_count": null
    },
    {
      "cell_type": "code",
      "source": [],
      "metadata": {
        "trusted": true,
        "id": "QX6QUtgVPV71"
      },
      "outputs": [],
      "execution_count": null
    }
  ]
}